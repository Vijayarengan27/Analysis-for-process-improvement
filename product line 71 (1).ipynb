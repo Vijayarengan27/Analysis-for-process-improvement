{
 "cells": [
  {
   "cell_type": "code",
   "execution_count": 1,
   "metadata": {},
   "outputs": [
    {
     "name": "stderr",
     "output_type": "stream",
     "text": [
      "Loading required package: tidyverse\n",
      "\n",
      "Warning message:\n",
      "\"package 'tidyverse' was built under R version 3.6.2\"\n",
      "-- \u001b[1mAttaching packages\u001b[22m --------------------------------------- tidyverse 1.3.0 --\n",
      "\n",
      "\u001b[32mv\u001b[39m \u001b[34mggplot2\u001b[39m 3.3.0     \u001b[32mv\u001b[39m \u001b[34mpurrr  \u001b[39m 0.3.3\n",
      "\u001b[32mv\u001b[39m \u001b[34mtibble \u001b[39m 2.1.3     \u001b[32mv\u001b[39m \u001b[34mdplyr  \u001b[39m 0.8.3\n",
      "\u001b[32mv\u001b[39m \u001b[34mtidyr  \u001b[39m 1.0.0     \u001b[32mv\u001b[39m \u001b[34mstringr\u001b[39m 1.4.0\n",
      "\u001b[32mv\u001b[39m \u001b[34mreadr  \u001b[39m 1.3.1     \u001b[32mv\u001b[39m \u001b[34mforcats\u001b[39m 0.4.0\n",
      "\n",
      "Warning message:\n",
      "\"package 'ggplot2' was built under R version 3.6.3\"\n",
      "Warning message:\n",
      "\"package 'purrr' was built under R version 3.6.2\"\n",
      "-- \u001b[1mConflicts\u001b[22m ------------------------------------------ tidyverse_conflicts() --\n",
      "\u001b[31mx\u001b[39m \u001b[34mdplyr\u001b[39m::\u001b[32mfilter()\u001b[39m masks \u001b[34mstats\u001b[39m::filter()\n",
      "\u001b[31mx\u001b[39m \u001b[34mdplyr\u001b[39m::\u001b[32mlag()\u001b[39m    masks \u001b[34mstats\u001b[39m::lag()\n",
      "\n"
     ]
    },
    {
     "data": {
      "text/html": [
       "<dl class=dl-horizontal>\n",
       "\t<dt>POST_DATE</dt>\n",
       "\t\t<dd>1010167</dd>\n",
       "\t<dt>EMP_NUM</dt>\n",
       "\t\t<dd>0</dd>\n",
       "\t<dt>SUP_EMP_NUM</dt>\n",
       "\t\t<dd>137</dd>\n",
       "\t<dt>WORK_ORDER</dt>\n",
       "\t\t<dd>0</dd>\n",
       "\t<dt>OPERATION_NUM</dt>\n",
       "\t\t<dd>0</dd>\n",
       "\t<dt>QUANTITY</dt>\n",
       "\t\t<dd>3</dd>\n",
       "\t<dt>HRS</dt>\n",
       "\t\t<dd>0</dd>\n",
       "\t<dt>HRS_CLASS</dt>\n",
       "\t\t<dd>0</dd>\n",
       "\t<dt>TYPE</dt>\n",
       "\t\t<dd>0</dd>\n",
       "\t<dt>PRODUCT_LINE</dt>\n",
       "\t\t<dd>0</dd>\n",
       "\t<dt>PRODUCT_CELL_ID</dt>\n",
       "\t\t<dd>0</dd>\n",
       "\t<dt>ROUTING_GROUP_ID</dt>\n",
       "\t\t<dd>0</dd>\n",
       "\t<dt>DOC</dt>\n",
       "\t\t<dd>0</dd>\n",
       "</dl>\n"
      ],
      "text/latex": [
       "\\begin{description*}\n",
       "\\item[POST\\textbackslash{}\\_DATE] 1010167\n",
       "\\item[EMP\\textbackslash{}\\_NUM] 0\n",
       "\\item[SUP\\textbackslash{}\\_EMP\\textbackslash{}\\_NUM] 137\n",
       "\\item[WORK\\textbackslash{}\\_ORDER] 0\n",
       "\\item[OPERATION\\textbackslash{}\\_NUM] 0\n",
       "\\item[QUANTITY] 3\n",
       "\\item[HRS] 0\n",
       "\\item[HRS\\textbackslash{}\\_CLASS] 0\n",
       "\\item[TYPE] 0\n",
       "\\item[PRODUCT\\textbackslash{}\\_LINE] 0\n",
       "\\item[PRODUCT\\textbackslash{}\\_CELL\\textbackslash{}\\_ID] 0\n",
       "\\item[ROUTING\\textbackslash{}\\_GROUP\\textbackslash{}\\_ID] 0\n",
       "\\item[DOC] 0\n",
       "\\end{description*}\n"
      ],
      "text/markdown": [
       "POST_DATE\n",
       ":   1010167EMP_NUM\n",
       ":   0SUP_EMP_NUM\n",
       ":   137WORK_ORDER\n",
       ":   0OPERATION_NUM\n",
       ":   0QUANTITY\n",
       ":   3HRS\n",
       ":   0HRS_CLASS\n",
       ":   0TYPE\n",
       ":   0PRODUCT_LINE\n",
       ":   0PRODUCT_CELL_ID\n",
       ":   0ROUTING_GROUP_ID\n",
       ":   0DOC\n",
       ":   0\n",
       "\n"
      ],
      "text/plain": [
       "       POST_DATE          EMP_NUM      SUP_EMP_NUM       WORK_ORDER \n",
       "         1010167                0              137                0 \n",
       "   OPERATION_NUM         QUANTITY              HRS        HRS_CLASS \n",
       "               0                3                0                0 \n",
       "            TYPE     PRODUCT_LINE  PRODUCT_CELL_ID ROUTING_GROUP_ID \n",
       "               0                0                0                0 \n",
       "             DOC \n",
       "               0 "
      ]
     },
     "metadata": {},
     "output_type": "display_data"
    }
   ],
   "source": [
    "require(tidyverse)\n",
    "k_17 <- read.csv(\"table_export_DATA_2017.csv\")\n",
    "k_17$POST_DATE <- as.Date(k_17$POST_DATE)\n",
    "k_17$EMP_NUM <- as.factor(k_17$EMP_NUM)\n",
    "k_17$SUP_EMP_NUM <- as.factor(k_17$SUP_EMP_NUM)\n",
    "k_17$WORK_ORDER <- as.factor(k_17$WORK_ORDER)\n",
    "k_17$OPERATION_NUM <- as.factor(k_17$OPERATION_NUM)\n",
    "k_17$PRODUCT_LINE <- as.factor(k_17$PRODUCT_LINE)\n",
    "k_17$PRODUCT_CELL_ID <- as.factor(k_17$PRODUCT_CELL_ID)\n",
    "k_17$ROUTING_GROUP_ID <- as.factor(k_17$ROUTING_GROUP_ID)\n",
    "k_17$DOC <- as.factor(k_17$DOC)\n",
    "sapply(k_17,function(x) sum(is.na(x)))"
   ]
  },
  {
   "cell_type": "code",
   "execution_count": 2,
   "metadata": {},
   "outputs": [
    {
     "data": {
      "text/plain": [
       "   POST_DATE             EMP_NUM        SUP_EMP_NUM        WORK_ORDER    \n",
       " Min.   :0001-02-20   841336 : 12703   845260 :90442   161411044:    90  \n",
       " 1st Qu.:0004-07-20   818800 : 10364   837146 :73442   161015977:    89  \n",
       " Median :0007-07-20   823399 : 10149   829449 :56129   160953785:    82  \n",
       " Mean   :0007-06-09   837189 : 10003   834179 :49803   161028792:    82  \n",
       " 3rd Qu.:0010-07-20   840815 :  9048   843499 :40113   161040684:    81  \n",
       " Max.   :0012-12-20   840818 :  8754   (Other):99170   161101481:    80  \n",
       " NA's   :256505       (Other):348082   NA's   :    4   (Other)  :408599  \n",
       " OPERATION_NUM       QUANTITY            HRS          HRS_CLASS    TYPE       \n",
       " 10     : 20908   Min.   :  1.000   Min.   :-8.6600   R:343144       :     0  \n",
       " 160    : 15924   1st Qu.:  1.000   1st Qu.: 0.0900   S:     2   ZP03:407213  \n",
       " 30     : 15445   Median :  1.000   Median : 0.2100   T: 65957   ZP06:    54  \n",
       " 40     : 13589   Mean   :  2.969   Mean   : 0.4093   V:     0   ZRTN:   853  \n",
       " 110    : 12631   3rd Qu.:  5.000   3rd Qu.: 0.4800              ZRW3:   983  \n",
       " 150    : 12412   Max.   :300.000   Max.   :11.7800              ZRW6:     0  \n",
       " (Other):318194                                                               \n",
       "  PRODUCT_LINE    PRODUCT_CELL_ID  ROUTING_GROUP_ID      DOC        \n",
       " 71     :409103   384    :120352   1586   :109829   M102678: 52481  \n",
       " 24     :     0   383    : 63827   1636   : 62948   M101090: 35738  \n",
       " 25     :     0   395    : 44338   2292   : 26728   M101095: 33414  \n",
       " 26     :     0   391    : 37136   1915   : 11338   M119437: 13017  \n",
       " 27     :     0   375    : 34540   1709   :  9637   M102261: 12933  \n",
       " 28     :     0   390    : 22594   2396   :  9624   M101092: 12606  \n",
       " (Other):     0   (Other): 86316   (Other):178999   (Other):248914  "
      ]
     },
     "metadata": {},
     "output_type": "display_data"
    },
    {
     "name": "stdout",
     "output_type": "stream",
     "text": [
      "'data.frame':\t409103 obs. of  13 variables:\n",
      " $ POST_DATE       : Date, format: \"0001-02-20\" \"0001-02-20\" ...\n",
      " $ EMP_NUM         : Factor w/ 729 levels \"603837\",\"810413\",..: 366 599 366 366 569 569 569 569 599 599 ...\n",
      " $ SUP_EMP_NUM     : Factor w/ 54 levels \"705050\",\"813932\",..: 45 45 45 45 45 45 45 45 45 45 ...\n",
      " $ WORK_ORDER      : Factor w/ 101768 levels \"16875303\",\"16967468\",..: 1104 4746 2545 2707 2467 3724 3727 3725 1011 4038 ...\n",
      " $ OPERATION_NUM   : Factor w/ 529 levels \"1\",\"2\",\"3\",\"4\",..: 133 39 133 133 35 30 30 30 133 133 ...\n",
      " $ QUANTITY        : int  1 3 1 1 1 5 4 5 1 1 ...\n",
      " $ HRS             : num  0.09 0.41 0.15 0.09 1.52 0.05 1.99 0.96 0.27 0.27 ...\n",
      " $ HRS_CLASS       : Factor w/ 4 levels \"R\",\"S\",\"T\",\"V\": 1 1 1 1 1 1 1 1 1 1 ...\n",
      " $ TYPE            : Factor w/ 6 levels \"\",\"ZP03\",\"ZP06\",..: 2 2 2 2 2 2 2 2 2 2 ...\n",
      " $ PRODUCT_LINE    : Factor w/ 22 levels \"24\",\"25\",\"26\",..: 16 16 16 16 16 16 16 16 16 16 ...\n",
      " $ PRODUCT_CELL_ID : Factor w/ 167 levels \"302\",\"303\",\"304\",..: 66 60 66 66 60 60 60 60 66 66 ...\n",
      " $ ROUTING_GROUP_ID: Factor w/ 2570 levels \"61\",\"62\",\"63\",..: 639 613 639 639 729 695 695 695 639 639 ...\n",
      " $ DOC             : Factor w/ 3170 levels \"00857-0869-0001\",..: 3138 656 3138 3138 661 661 661 661 3138 3138 ...\n"
     ]
    },
    {
     "data": {
      "text/html": [
       "<table>\n",
       "<caption>A data.frame: 6 × 13</caption>\n",
       "<thead>\n",
       "\t<tr><th></th><th scope=col>POST_DATE</th><th scope=col>EMP_NUM</th><th scope=col>SUP_EMP_NUM</th><th scope=col>WORK_ORDER</th><th scope=col>OPERATION_NUM</th><th scope=col>QUANTITY</th><th scope=col>HRS</th><th scope=col>HRS_CLASS</th><th scope=col>TYPE</th><th scope=col>PRODUCT_LINE</th><th scope=col>PRODUCT_CELL_ID</th><th scope=col>ROUTING_GROUP_ID</th><th scope=col>DOC</th></tr>\n",
       "\t<tr><th></th><th scope=col>&lt;date&gt;</th><th scope=col>&lt;fct&gt;</th><th scope=col>&lt;fct&gt;</th><th scope=col>&lt;fct&gt;</th><th scope=col>&lt;fct&gt;</th><th scope=col>&lt;int&gt;</th><th scope=col>&lt;dbl&gt;</th><th scope=col>&lt;fct&gt;</th><th scope=col>&lt;fct&gt;</th><th scope=col>&lt;fct&gt;</th><th scope=col>&lt;fct&gt;</th><th scope=col>&lt;fct&gt;</th><th scope=col>&lt;fct&gt;</th></tr>\n",
       "</thead>\n",
       "<tbody>\n",
       "\t<tr><th scope=row>74</th><td>0001-02-20</td><td>827486</td><td>838240</td><td>160517202</td><td>135</td><td>1</td><td>0.09</td><td>R</td><td>ZP03</td><td>71</td><td>384</td><td>1586</td><td>SIS561518021</td></tr>\n",
       "\t<tr><th scope=row>75</th><td>0001-02-20</td><td>843295</td><td>838240</td><td>160667442</td><td>40 </td><td>3</td><td>0.41</td><td>R</td><td>ZP03</td><td>71</td><td>377</td><td>1556</td><td>M101090     </td></tr>\n",
       "\t<tr><th scope=row>76</th><td>0001-02-20</td><td>827486</td><td>838240</td><td>160611434</td><td>135</td><td>1</td><td>0.15</td><td>R</td><td>ZP03</td><td>71</td><td>384</td><td>1586</td><td>SIS561518021</td></tr>\n",
       "\t<tr><th scope=row>77</th><td>0001-02-20</td><td>827486</td><td>838240</td><td>160616723</td><td>135</td><td>1</td><td>0.09</td><td>R</td><td>ZP03</td><td>71</td><td>384</td><td>1586</td><td>SIS561518021</td></tr>\n",
       "\t<tr><th scope=row>78</th><td>0001-02-20</td><td>841432</td><td>838240</td><td>160610104</td><td>35 </td><td>1</td><td>1.52</td><td>R</td><td>ZP03</td><td>71</td><td>377</td><td>1702</td><td>M101095     </td></tr>\n",
       "\t<tr><th scope=row>79</th><td>0001-02-20</td><td>841432</td><td>838240</td><td>160648974</td><td>30 </td><td>5</td><td>0.05</td><td>R</td><td>ZP03</td><td>71</td><td>377</td><td>1649</td><td>M101095     </td></tr>\n",
       "</tbody>\n",
       "</table>\n"
      ],
      "text/latex": [
       "A data.frame: 6 × 13\n",
       "\\begin{tabular}{r|lllllllllllll}\n",
       "  & POST\\_DATE & EMP\\_NUM & SUP\\_EMP\\_NUM & WORK\\_ORDER & OPERATION\\_NUM & QUANTITY & HRS & HRS\\_CLASS & TYPE & PRODUCT\\_LINE & PRODUCT\\_CELL\\_ID & ROUTING\\_GROUP\\_ID & DOC\\\\\n",
       "  & <date> & <fct> & <fct> & <fct> & <fct> & <int> & <dbl> & <fct> & <fct> & <fct> & <fct> & <fct> & <fct>\\\\\n",
       "\\hline\n",
       "\t74 & 0001-02-20 & 827486 & 838240 & 160517202 & 135 & 1 & 0.09 & R & ZP03 & 71 & 384 & 1586 & SIS561518021\\\\\n",
       "\t75 & 0001-02-20 & 843295 & 838240 & 160667442 & 40  & 3 & 0.41 & R & ZP03 & 71 & 377 & 1556 & M101090     \\\\\n",
       "\t76 & 0001-02-20 & 827486 & 838240 & 160611434 & 135 & 1 & 0.15 & R & ZP03 & 71 & 384 & 1586 & SIS561518021\\\\\n",
       "\t77 & 0001-02-20 & 827486 & 838240 & 160616723 & 135 & 1 & 0.09 & R & ZP03 & 71 & 384 & 1586 & SIS561518021\\\\\n",
       "\t78 & 0001-02-20 & 841432 & 838240 & 160610104 & 35  & 1 & 1.52 & R & ZP03 & 71 & 377 & 1702 & M101095     \\\\\n",
       "\t79 & 0001-02-20 & 841432 & 838240 & 160648974 & 30  & 5 & 0.05 & R & ZP03 & 71 & 377 & 1649 & M101095     \\\\\n",
       "\\end{tabular}\n"
      ],
      "text/markdown": [
       "\n",
       "A data.frame: 6 × 13\n",
       "\n",
       "| <!--/--> | POST_DATE &lt;date&gt; | EMP_NUM &lt;fct&gt; | SUP_EMP_NUM &lt;fct&gt; | WORK_ORDER &lt;fct&gt; | OPERATION_NUM &lt;fct&gt; | QUANTITY &lt;int&gt; | HRS &lt;dbl&gt; | HRS_CLASS &lt;fct&gt; | TYPE &lt;fct&gt; | PRODUCT_LINE &lt;fct&gt; | PRODUCT_CELL_ID &lt;fct&gt; | ROUTING_GROUP_ID &lt;fct&gt; | DOC &lt;fct&gt; |\n",
       "|---|---|---|---|---|---|---|---|---|---|---|---|---|---|\n",
       "| 74 | 0001-02-20 | 827486 | 838240 | 160517202 | 135 | 1 | 0.09 | R | ZP03 | 71 | 384 | 1586 | SIS561518021 |\n",
       "| 75 | 0001-02-20 | 843295 | 838240 | 160667442 | 40  | 3 | 0.41 | R | ZP03 | 71 | 377 | 1556 | M101090      |\n",
       "| 76 | 0001-02-20 | 827486 | 838240 | 160611434 | 135 | 1 | 0.15 | R | ZP03 | 71 | 384 | 1586 | SIS561518021 |\n",
       "| 77 | 0001-02-20 | 827486 | 838240 | 160616723 | 135 | 1 | 0.09 | R | ZP03 | 71 | 384 | 1586 | SIS561518021 |\n",
       "| 78 | 0001-02-20 | 841432 | 838240 | 160610104 | 35  | 1 | 1.52 | R | ZP03 | 71 | 377 | 1702 | M101095      |\n",
       "| 79 | 0001-02-20 | 841432 | 838240 | 160648974 | 30  | 5 | 0.05 | R | ZP03 | 71 | 377 | 1649 | M101095      |\n",
       "\n"
      ],
      "text/plain": [
       "   POST_DATE  EMP_NUM SUP_EMP_NUM WORK_ORDER OPERATION_NUM QUANTITY HRS \n",
       "74 0001-02-20 827486  838240      160517202  135           1        0.09\n",
       "75 0001-02-20 843295  838240      160667442  40            3        0.41\n",
       "76 0001-02-20 827486  838240      160611434  135           1        0.15\n",
       "77 0001-02-20 827486  838240      160616723  135           1        0.09\n",
       "78 0001-02-20 841432  838240      160610104  35            1        1.52\n",
       "79 0001-02-20 841432  838240      160648974  30            5        0.05\n",
       "   HRS_CLASS TYPE PRODUCT_LINE PRODUCT_CELL_ID ROUTING_GROUP_ID DOC         \n",
       "74 R         ZP03 71           384             1586             SIS561518021\n",
       "75 R         ZP03 71           377             1556             M101090     \n",
       "76 R         ZP03 71           384             1586             SIS561518021\n",
       "77 R         ZP03 71           384             1586             SIS561518021\n",
       "78 R         ZP03 71           377             1702             M101095     \n",
       "79 R         ZP03 71           377             1649             M101095     "
      ]
     },
     "metadata": {},
     "output_type": "display_data"
    }
   ],
   "source": [
    "k_17pl71 <- k_17[k_17$PRODUCT_LINE == 71,]\n",
    "summary(k_17pl71)\n",
    "str(k_17pl71)\n",
    "head(k_17pl71)"
   ]
  },
  {
   "cell_type": "code",
   "execution_count": 3,
   "metadata": {},
   "outputs": [
    {
     "data": {
      "text/html": [
       "167431.13"
      ],
      "text/latex": [
       "167431.13"
      ],
      "text/markdown": [
       "167431.13"
      ],
      "text/plain": [
       "[1] 167431.1"
      ]
     },
     "metadata": {},
     "output_type": "display_data"
    }
   ],
   "source": [
    "(total_hrs <- sum(k_17pl71$HRS))"
   ]
  },
  {
   "cell_type": "code",
   "execution_count": 4,
   "metadata": {},
   "outputs": [
    {
     "data": {
      "text/html": [
       "<table>\n",
       "<caption>A tibble: 6 × 3</caption>\n",
       "<thead>\n",
       "\t<tr><th scope=col>OPERATION_NUM</th><th scope=col>op_hrs</th><th scope=col>count</th></tr>\n",
       "\t<tr><th scope=col>&lt;fct&gt;</th><th scope=col>&lt;dbl&gt;</th><th scope=col>&lt;int&gt;</th></tr>\n",
       "</thead>\n",
       "<tbody>\n",
       "\t<tr><td>10 </td><td>11013.70</td><td>20908</td></tr>\n",
       "\t<tr><td>20 </td><td> 8428.25</td><td> 9745</td></tr>\n",
       "\t<tr><td>30 </td><td> 7311.21</td><td>15445</td></tr>\n",
       "\t<tr><td>60 </td><td> 7195.23</td><td> 7884</td></tr>\n",
       "\t<tr><td>40 </td><td> 7100.91</td><td>13589</td></tr>\n",
       "\t<tr><td>110</td><td> 6508.86</td><td>12631</td></tr>\n",
       "</tbody>\n",
       "</table>\n"
      ],
      "text/latex": [
       "A tibble: 6 × 3\n",
       "\\begin{tabular}{lll}\n",
       " OPERATION\\_NUM & op\\_hrs & count\\\\\n",
       " <fct> & <dbl> & <int>\\\\\n",
       "\\hline\n",
       "\t 10  & 11013.70 & 20908\\\\\n",
       "\t 20  &  8428.25 &  9745\\\\\n",
       "\t 30  &  7311.21 & 15445\\\\\n",
       "\t 60  &  7195.23 &  7884\\\\\n",
       "\t 40  &  7100.91 & 13589\\\\\n",
       "\t 110 &  6508.86 & 12631\\\\\n",
       "\\end{tabular}\n"
      ],
      "text/markdown": [
       "\n",
       "A tibble: 6 × 3\n",
       "\n",
       "| OPERATION_NUM &lt;fct&gt; | op_hrs &lt;dbl&gt; | count &lt;int&gt; |\n",
       "|---|---|---|\n",
       "| 10  | 11013.70 | 20908 |\n",
       "| 20  |  8428.25 |  9745 |\n",
       "| 30  |  7311.21 | 15445 |\n",
       "| 60  |  7195.23 |  7884 |\n",
       "| 40  |  7100.91 | 13589 |\n",
       "| 110 |  6508.86 | 12631 |\n",
       "\n"
      ],
      "text/plain": [
       "  OPERATION_NUM op_hrs   count\n",
       "1 10            11013.70 20908\n",
       "2 20             8428.25  9745\n",
       "3 30             7311.21 15445\n",
       "4 60             7195.23  7884\n",
       "5 40             7100.91 13589\n",
       "6 110            6508.86 12631"
      ]
     },
     "metadata": {},
     "output_type": "display_data"
    }
   ],
   "source": [
    "by_operation <- group_by(k_17pl71,OPERATION_NUM)\n",
    "A <- arrange(summarise(by_operation,op_hrs = sum(HRS),count = n()),op_hrs)\n",
    "head(arrange(A,desc(op_hrs)))"
   ]
  },
  {
   "cell_type": "code",
   "execution_count": 5,
   "metadata": {},
   "outputs": [
    {
     "data": {
      "text/html": [
       "<table>\n",
       "<caption>A tibble: 6 × 3</caption>\n",
       "<thead>\n",
       "\t<tr><th scope=col>ROUTING_GROUP_ID</th><th scope=col>part_hrs</th><th scope=col>count</th></tr>\n",
       "\t<tr><th scope=col>&lt;fct&gt;</th><th scope=col>&lt;dbl&gt;</th><th scope=col>&lt;int&gt;</th></tr>\n",
       "</thead>\n",
       "<tbody>\n",
       "\t<tr><td>1636</td><td>24080.91</td><td> 62948</td></tr>\n",
       "\t<tr><td>1586</td><td>19064.07</td><td>109829</td></tr>\n",
       "\t<tr><td>2396</td><td>10444.20</td><td>  9624</td></tr>\n",
       "\t<tr><td>2292</td><td> 6307.28</td><td> 26728</td></tr>\n",
       "\t<tr><td>2044</td><td> 5287.30</td><td>  9255</td></tr>\n",
       "\t<tr><td>1915</td><td> 4660.99</td><td> 11338</td></tr>\n",
       "</tbody>\n",
       "</table>\n"
      ],
      "text/latex": [
       "A tibble: 6 × 3\n",
       "\\begin{tabular}{lll}\n",
       " ROUTING\\_GROUP\\_ID & part\\_hrs & count\\\\\n",
       " <fct> & <dbl> & <int>\\\\\n",
       "\\hline\n",
       "\t 1636 & 24080.91 &  62948\\\\\n",
       "\t 1586 & 19064.07 & 109829\\\\\n",
       "\t 2396 & 10444.20 &   9624\\\\\n",
       "\t 2292 &  6307.28 &  26728\\\\\n",
       "\t 2044 &  5287.30 &   9255\\\\\n",
       "\t 1915 &  4660.99 &  11338\\\\\n",
       "\\end{tabular}\n"
      ],
      "text/markdown": [
       "\n",
       "A tibble: 6 × 3\n",
       "\n",
       "| ROUTING_GROUP_ID &lt;fct&gt; | part_hrs &lt;dbl&gt; | count &lt;int&gt; |\n",
       "|---|---|---|\n",
       "| 1636 | 24080.91 |  62948 |\n",
       "| 1586 | 19064.07 | 109829 |\n",
       "| 2396 | 10444.20 |   9624 |\n",
       "| 2292 |  6307.28 |  26728 |\n",
       "| 2044 |  5287.30 |   9255 |\n",
       "| 1915 |  4660.99 |  11338 |\n",
       "\n"
      ],
      "text/plain": [
       "  ROUTING_GROUP_ID part_hrs count \n",
       "1 1636             24080.91  62948\n",
       "2 1586             19064.07 109829\n",
       "3 2396             10444.20   9624\n",
       "4 2292              6307.28  26728\n",
       "5 2044              5287.30   9255\n",
       "6 1915              4660.99  11338"
      ]
     },
     "metadata": {},
     "output_type": "display_data"
    }
   ],
   "source": [
    "by_part <- group_by(k_17pl71,ROUTING_GROUP_ID)\n",
    "B <- arrange(summarise(by_part,part_hrs = sum(HRS),count = n()),part_hrs)\n",
    "head(arrange(B,desc(part_hrs)))"
   ]
  },
  {
   "cell_type": "code",
   "execution_count": 6,
   "metadata": {},
   "outputs": [
    {
     "data": {
      "text/html": [
       "<table>\n",
       "<caption>A tibble: 6 × 3</caption>\n",
       "<thead>\n",
       "\t<tr><th scope=col>DOC</th><th scope=col>doc_hrs</th><th scope=col>count</th></tr>\n",
       "\t<tr><th scope=col>&lt;fct&gt;</th><th scope=col>&lt;dbl&gt;</th><th scope=col>&lt;int&gt;</th></tr>\n",
       "</thead>\n",
       "<tbody>\n",
       "\t<tr><td>M101095</td><td>27542.08</td><td>33414</td></tr>\n",
       "\t<tr><td>M101090</td><td>24308.66</td><td>35738</td></tr>\n",
       "\t<tr><td>M102678</td><td>20920.87</td><td>52481</td></tr>\n",
       "\t<tr><td>M101086</td><td> 5137.35</td><td> 7703</td></tr>\n",
       "\t<tr><td>M101085</td><td> 4212.74</td><td> 5966</td></tr>\n",
       "\t<tr><td>M101105</td><td> 3717.72</td><td> 6185</td></tr>\n",
       "</tbody>\n",
       "</table>\n"
      ],
      "text/latex": [
       "A tibble: 6 × 3\n",
       "\\begin{tabular}{lll}\n",
       " DOC & doc\\_hrs & count\\\\\n",
       " <fct> & <dbl> & <int>\\\\\n",
       "\\hline\n",
       "\t M101095 & 27542.08 & 33414\\\\\n",
       "\t M101090 & 24308.66 & 35738\\\\\n",
       "\t M102678 & 20920.87 & 52481\\\\\n",
       "\t M101086 &  5137.35 &  7703\\\\\n",
       "\t M101085 &  4212.74 &  5966\\\\\n",
       "\t M101105 &  3717.72 &  6185\\\\\n",
       "\\end{tabular}\n"
      ],
      "text/markdown": [
       "\n",
       "A tibble: 6 × 3\n",
       "\n",
       "| DOC &lt;fct&gt; | doc_hrs &lt;dbl&gt; | count &lt;int&gt; |\n",
       "|---|---|---|\n",
       "| M101095 | 27542.08 | 33414 |\n",
       "| M101090 | 24308.66 | 35738 |\n",
       "| M102678 | 20920.87 | 52481 |\n",
       "| M101086 |  5137.35 |  7703 |\n",
       "| M101085 |  4212.74 |  5966 |\n",
       "| M101105 |  3717.72 |  6185 |\n",
       "\n"
      ],
      "text/plain": [
       "  DOC     doc_hrs  count\n",
       "1 M101095 27542.08 33414\n",
       "2 M101090 24308.66 35738\n",
       "3 M102678 20920.87 52481\n",
       "4 M101086  5137.35  7703\n",
       "5 M101085  4212.74  5966\n",
       "6 M101105  3717.72  6185"
      ]
     },
     "metadata": {},
     "output_type": "display_data"
    }
   ],
   "source": [
    "by_doc <- group_by(k_17pl71,DOC)\n",
    "B <- arrange(summarise(by_doc,doc_hrs = sum(HRS),count = n()),doc_hrs)\n",
    "head(arrange(B,desc(doc_hrs)))"
   ]
  },
  {
   "cell_type": "code",
   "execution_count": 7,
   "metadata": {},
   "outputs": [
    {
     "data": {
      "text/html": [
       "<table>\n",
       "<caption>A tibble: 6 × 3</caption>\n",
       "<thead>\n",
       "\t<tr><th scope=col>EMP_NUM</th><th scope=col>emp_hrs</th><th scope=col>count</th></tr>\n",
       "\t<tr><th scope=col>&lt;fct&gt;</th><th scope=col>&lt;dbl&gt;</th><th scope=col>&lt;int&gt;</th></tr>\n",
       "</thead>\n",
       "<tbody>\n",
       "\t<tr><td>822979</td><td>2344.52</td><td>1600</td></tr>\n",
       "\t<tr><td>841258</td><td>2252.02</td><td>4210</td></tr>\n",
       "\t<tr><td>818730</td><td>2179.77</td><td> 697</td></tr>\n",
       "\t<tr><td>824675</td><td>2135.16</td><td>1816</td></tr>\n",
       "\t<tr><td>818565</td><td>2133.95</td><td>1795</td></tr>\n",
       "\t<tr><td>841444</td><td>2125.25</td><td>7706</td></tr>\n",
       "</tbody>\n",
       "</table>\n"
      ],
      "text/latex": [
       "A tibble: 6 × 3\n",
       "\\begin{tabular}{lll}\n",
       " EMP\\_NUM & emp\\_hrs & count\\\\\n",
       " <fct> & <dbl> & <int>\\\\\n",
       "\\hline\n",
       "\t 822979 & 2344.52 & 1600\\\\\n",
       "\t 841258 & 2252.02 & 4210\\\\\n",
       "\t 818730 & 2179.77 &  697\\\\\n",
       "\t 824675 & 2135.16 & 1816\\\\\n",
       "\t 818565 & 2133.95 & 1795\\\\\n",
       "\t 841444 & 2125.25 & 7706\\\\\n",
       "\\end{tabular}\n"
      ],
      "text/markdown": [
       "\n",
       "A tibble: 6 × 3\n",
       "\n",
       "| EMP_NUM &lt;fct&gt; | emp_hrs &lt;dbl&gt; | count &lt;int&gt; |\n",
       "|---|---|---|\n",
       "| 822979 | 2344.52 | 1600 |\n",
       "| 841258 | 2252.02 | 4210 |\n",
       "| 818730 | 2179.77 |  697 |\n",
       "| 824675 | 2135.16 | 1816 |\n",
       "| 818565 | 2133.95 | 1795 |\n",
       "| 841444 | 2125.25 | 7706 |\n",
       "\n"
      ],
      "text/plain": [
       "  EMP_NUM emp_hrs count\n",
       "1 822979  2344.52 1600 \n",
       "2 841258  2252.02 4210 \n",
       "3 818730  2179.77  697 \n",
       "4 824675  2135.16 1816 \n",
       "5 818565  2133.95 1795 \n",
       "6 841444  2125.25 7706 "
      ]
     },
     "metadata": {},
     "output_type": "display_data"
    }
   ],
   "source": [
    "by_emp <-  group_by(k_17pl71,EMP_NUM)\n",
    "C <- arrange(summarise(by_emp,emp_hrs = sum(HRS),count = n()),emp_hrs)\n",
    "head(arrange(C,desc(emp_hrs)))"
   ]
  },
  {
   "cell_type": "code",
   "execution_count": 8,
   "metadata": {},
   "outputs": [
    {
     "name": "stdout",
     "output_type": "stream",
     "text": [
      "'data.frame':\t9353 obs. of  13 variables:\n",
      " $ POST_DATE       : Date, format: \"0001-04-20\" \"0001-04-20\" ...\n",
      " $ EMP_NUM         : Factor w/ 729 levels \"603837\",\"810413\",..: 282 36 36 36 36 36 36 36 36 36 ...\n",
      " $ SUP_EMP_NUM     : Factor w/ 54 levels \"705050\",\"813932\",..: 23 39 39 39 39 39 39 39 39 39 ...\n",
      " $ WORK_ORDER      : Factor w/ 101768 levels \"16875303\",\"16967468\",..: 3458 2463 2177 1915 2745 2738 1406 2295 2733 3135 ...\n",
      " $ OPERATION_NUM   : Factor w/ 529 levels \"1\",\"2\",\"3\",\"4\",..: 49 54 74 204 223 267 201 201 223 223 ...\n",
      " $ QUANTITY        : int  5 15 9 10 4 6 2 5 4 5 ...\n",
      " $ HRS             : num  -3.52 -0.32 -0.4 -0.51 -0.25 -0.28 -0.06 -0.6 -0.11 -0.31 ...\n",
      " $ HRS_CLASS       : Factor w/ 4 levels \"R\",\"S\",\"T\",\"V\": 1 1 1 1 1 1 1 1 1 1 ...\n",
      " $ TYPE            : Factor w/ 6 levels \"\",\"ZP03\",\"ZP06\",..: 2 2 2 2 2 2 2 2 2 2 ...\n",
      " $ PRODUCT_LINE    : Factor w/ 22 levels \"24\",\"25\",\"26\",..: 16 16 16 16 16 16 16 16 16 16 ...\n",
      " $ PRODUCT_CELL_ID : Factor w/ 167 levels \"302\",\"303\",\"304\",..: 72 58 58 58 58 58 58 58 58 58 ...\n",
      " $ ROUTING_GROUP_ID: Factor w/ 2570 levels \"61\",\"62\",\"63\",..: 951 684 709 630 1129 838 1090 1058 2242 1114 ...\n",
      " $ DOC             : Factor w/ 3170 levels \"00857-0869-0001\",..: 661 2875 2875 2875 2875 2875 2966 2637 2875 2875 ...\n"
     ]
    }
   ],
   "source": [
    "cor_k_17pl71 <- k_17pl71[k_17pl71$HRS < 0 ,]\n",
    "str(cor_k_17pl71)"
   ]
  },
  {
   "cell_type": "code",
   "execution_count": 9,
   "metadata": {},
   "outputs": [
    {
     "data": {
      "text/html": [
       "-4128.08"
      ],
      "text/latex": [
       "-4128.08"
      ],
      "text/markdown": [
       "-4128.08"
      ],
      "text/plain": [
       "[1] -4128.08"
      ]
     },
     "metadata": {},
     "output_type": "display_data"
    }
   ],
   "source": [
    "(total_corrected_hrs <- sum(cor_k_17pl71$HRS))"
   ]
  },
  {
   "cell_type": "code",
   "execution_count": 10,
   "metadata": {},
   "outputs": [
    {
     "data": {
      "text/html": [
       "<table>\n",
       "<caption>A tibble: 6 × 3</caption>\n",
       "<thead>\n",
       "\t<tr><th scope=col>OPERATION_NUM</th><th scope=col>op_hrs</th><th scope=col>count</th></tr>\n",
       "\t<tr><th scope=col>&lt;fct&gt;</th><th scope=col>&lt;dbl&gt;</th><th scope=col>&lt;int&gt;</th></tr>\n",
       "</thead>\n",
       "<tbody>\n",
       "\t<tr><td>20 </td><td>-342.91</td><td>285</td></tr>\n",
       "\t<tr><td>10 </td><td>-253.42</td><td>484</td></tr>\n",
       "\t<tr><td>30 </td><td>-171.11</td><td>401</td></tr>\n",
       "\t<tr><td>60 </td><td>-162.18</td><td>177</td></tr>\n",
       "\t<tr><td>40 </td><td>-158.93</td><td>210</td></tr>\n",
       "\t<tr><td>777</td><td>-131.29</td><td>115</td></tr>\n",
       "</tbody>\n",
       "</table>\n"
      ],
      "text/latex": [
       "A tibble: 6 × 3\n",
       "\\begin{tabular}{lll}\n",
       " OPERATION\\_NUM & op\\_hrs & count\\\\\n",
       " <fct> & <dbl> & <int>\\\\\n",
       "\\hline\n",
       "\t 20  & -342.91 & 285\\\\\n",
       "\t 10  & -253.42 & 484\\\\\n",
       "\t 30  & -171.11 & 401\\\\\n",
       "\t 60  & -162.18 & 177\\\\\n",
       "\t 40  & -158.93 & 210\\\\\n",
       "\t 777 & -131.29 & 115\\\\\n",
       "\\end{tabular}\n"
      ],
      "text/markdown": [
       "\n",
       "A tibble: 6 × 3\n",
       "\n",
       "| OPERATION_NUM &lt;fct&gt; | op_hrs &lt;dbl&gt; | count &lt;int&gt; |\n",
       "|---|---|---|\n",
       "| 20  | -342.91 | 285 |\n",
       "| 10  | -253.42 | 484 |\n",
       "| 30  | -171.11 | 401 |\n",
       "| 60  | -162.18 | 177 |\n",
       "| 40  | -158.93 | 210 |\n",
       "| 777 | -131.29 | 115 |\n",
       "\n"
      ],
      "text/plain": [
       "  OPERATION_NUM op_hrs  count\n",
       "1 20            -342.91 285  \n",
       "2 10            -253.42 484  \n",
       "3 30            -171.11 401  \n",
       "4 60            -162.18 177  \n",
       "5 40            -158.93 210  \n",
       "6 777           -131.29 115  "
      ]
     },
     "metadata": {},
     "output_type": "display_data"
    }
   ],
   "source": [
    "by_operation <- group_by(cor_k_17pl71,OPERATION_NUM)\n",
    "A <- arrange(summarise(by_operation,op_hrs = sum(HRS),count = n()),op_hrs)\n",
    "head(arrange(A,op_hrs))"
   ]
  },
  {
   "cell_type": "code",
   "execution_count": 11,
   "metadata": {},
   "outputs": [
    {
     "data": {
      "text/html": [
       "<table>\n",
       "<caption>A tibble: 6 × 3</caption>\n",
       "<thead>\n",
       "\t<tr><th scope=col>ROUTING_GROUP_ID</th><th scope=col>part_hrs</th><th scope=col>count</th></tr>\n",
       "\t<tr><th scope=col>&lt;fct&gt;</th><th scope=col>&lt;dbl&gt;</th><th scope=col>&lt;int&gt;</th></tr>\n",
       "</thead>\n",
       "<tbody>\n",
       "\t<tr><td>1636</td><td>-551.90</td><td>1454</td></tr>\n",
       "\t<tr><td>1586</td><td>-401.95</td><td>2653</td></tr>\n",
       "\t<tr><td>2396</td><td>-274.40</td><td> 267</td></tr>\n",
       "\t<tr><td>2320</td><td>-188.77</td><td> 358</td></tr>\n",
       "\t<tr><td>2292</td><td>-114.97</td><td> 443</td></tr>\n",
       "\t<tr><td>1915</td><td> -99.08</td><td> 193</td></tr>\n",
       "</tbody>\n",
       "</table>\n"
      ],
      "text/latex": [
       "A tibble: 6 × 3\n",
       "\\begin{tabular}{lll}\n",
       " ROUTING\\_GROUP\\_ID & part\\_hrs & count\\\\\n",
       " <fct> & <dbl> & <int>\\\\\n",
       "\\hline\n",
       "\t 1636 & -551.90 & 1454\\\\\n",
       "\t 1586 & -401.95 & 2653\\\\\n",
       "\t 2396 & -274.40 &  267\\\\\n",
       "\t 2320 & -188.77 &  358\\\\\n",
       "\t 2292 & -114.97 &  443\\\\\n",
       "\t 1915 &  -99.08 &  193\\\\\n",
       "\\end{tabular}\n"
      ],
      "text/markdown": [
       "\n",
       "A tibble: 6 × 3\n",
       "\n",
       "| ROUTING_GROUP_ID &lt;fct&gt; | part_hrs &lt;dbl&gt; | count &lt;int&gt; |\n",
       "|---|---|---|\n",
       "| 1636 | -551.90 | 1454 |\n",
       "| 1586 | -401.95 | 2653 |\n",
       "| 2396 | -274.40 |  267 |\n",
       "| 2320 | -188.77 |  358 |\n",
       "| 2292 | -114.97 |  443 |\n",
       "| 1915 |  -99.08 |  193 |\n",
       "\n"
      ],
      "text/plain": [
       "  ROUTING_GROUP_ID part_hrs count\n",
       "1 1636             -551.90  1454 \n",
       "2 1586             -401.95  2653 \n",
       "3 2396             -274.40   267 \n",
       "4 2320             -188.77   358 \n",
       "5 2292             -114.97   443 \n",
       "6 1915              -99.08   193 "
      ]
     },
     "metadata": {},
     "output_type": "display_data"
    }
   ],
   "source": [
    "by_part <- group_by(cor_k_17pl71,ROUTING_GROUP_ID)\n",
    "B <- arrange(summarise(by_part,part_hrs = sum(HRS),count = n()),part_hrs)\n",
    "head(arrange(B,part_hrs))"
   ]
  },
  {
   "cell_type": "code",
   "execution_count": 12,
   "metadata": {},
   "outputs": [
    {
     "data": {
      "text/html": [
       "<table>\n",
       "<caption>A tibble: 6 × 3</caption>\n",
       "<thead>\n",
       "\t<tr><th scope=col>DOC</th><th scope=col>doc_hrs</th><th scope=col>count</th></tr>\n",
       "\t<tr><th scope=col>&lt;fct&gt;</th><th scope=col>&lt;dbl&gt;</th><th scope=col>&lt;int&gt;</th></tr>\n",
       "</thead>\n",
       "<tbody>\n",
       "\t<tr><td>M101090</td><td>-680.40</td><td> 867</td></tr>\n",
       "\t<tr><td>M101095</td><td>-627.82</td><td> 764</td></tr>\n",
       "\t<tr><td>M102678</td><td>-501.37</td><td>1317</td></tr>\n",
       "\t<tr><td>M118785</td><td>-145.99</td><td> 121</td></tr>\n",
       "\t<tr><td>M101098</td><td> -86.97</td><td> 124</td></tr>\n",
       "\t<tr><td>M101085</td><td> -71.46</td><td>  95</td></tr>\n",
       "</tbody>\n",
       "</table>\n"
      ],
      "text/latex": [
       "A tibble: 6 × 3\n",
       "\\begin{tabular}{lll}\n",
       " DOC & doc\\_hrs & count\\\\\n",
       " <fct> & <dbl> & <int>\\\\\n",
       "\\hline\n",
       "\t M101090 & -680.40 &  867\\\\\n",
       "\t M101095 & -627.82 &  764\\\\\n",
       "\t M102678 & -501.37 & 1317\\\\\n",
       "\t M118785 & -145.99 &  121\\\\\n",
       "\t M101098 &  -86.97 &  124\\\\\n",
       "\t M101085 &  -71.46 &   95\\\\\n",
       "\\end{tabular}\n"
      ],
      "text/markdown": [
       "\n",
       "A tibble: 6 × 3\n",
       "\n",
       "| DOC &lt;fct&gt; | doc_hrs &lt;dbl&gt; | count &lt;int&gt; |\n",
       "|---|---|---|\n",
       "| M101090 | -680.40 |  867 |\n",
       "| M101095 | -627.82 |  764 |\n",
       "| M102678 | -501.37 | 1317 |\n",
       "| M118785 | -145.99 |  121 |\n",
       "| M101098 |  -86.97 |  124 |\n",
       "| M101085 |  -71.46 |   95 |\n",
       "\n"
      ],
      "text/plain": [
       "  DOC     doc_hrs count\n",
       "1 M101090 -680.40  867 \n",
       "2 M101095 -627.82  764 \n",
       "3 M102678 -501.37 1317 \n",
       "4 M118785 -145.99  121 \n",
       "5 M101098  -86.97  124 \n",
       "6 M101085  -71.46   95 "
      ]
     },
     "metadata": {},
     "output_type": "display_data"
    }
   ],
   "source": [
    "by_doc <- group_by(cor_k_17pl71,DOC)\n",
    "B <- arrange(summarise(by_doc,doc_hrs = sum(HRS),count = n()),doc_hrs)\n",
    "head(arrange(B,doc_hrs))"
   ]
  },
  {
   "cell_type": "code",
   "execution_count": 13,
   "metadata": {},
   "outputs": [
    {
     "data": {
      "text/html": [
       "<table>\n",
       "<caption>A tibble: 6 × 3</caption>\n",
       "<thead>\n",
       "\t<tr><th scope=col>EMP_NUM</th><th scope=col>emp_hrs</th><th scope=col>count</th></tr>\n",
       "\t<tr><th scope=col>&lt;fct&gt;</th><th scope=col>&lt;dbl&gt;</th><th scope=col>&lt;int&gt;</th></tr>\n",
       "</thead>\n",
       "<tbody>\n",
       "\t<tr><td>840677</td><td>-122.75</td><td> 71</td></tr>\n",
       "\t<tr><td>838686</td><td>-101.86</td><td>253</td></tr>\n",
       "\t<tr><td>824675</td><td> -85.76</td><td> 72</td></tr>\n",
       "\t<tr><td>841499</td><td> -85.41</td><td>233</td></tr>\n",
       "\t<tr><td>840100</td><td> -81.34</td><td> 51</td></tr>\n",
       "\t<tr><td>839893</td><td> -80.28</td><td>267</td></tr>\n",
       "</tbody>\n",
       "</table>\n"
      ],
      "text/latex": [
       "A tibble: 6 × 3\n",
       "\\begin{tabular}{lll}\n",
       " EMP\\_NUM & emp\\_hrs & count\\\\\n",
       " <fct> & <dbl> & <int>\\\\\n",
       "\\hline\n",
       "\t 840677 & -122.75 &  71\\\\\n",
       "\t 838686 & -101.86 & 253\\\\\n",
       "\t 824675 &  -85.76 &  72\\\\\n",
       "\t 841499 &  -85.41 & 233\\\\\n",
       "\t 840100 &  -81.34 &  51\\\\\n",
       "\t 839893 &  -80.28 & 267\\\\\n",
       "\\end{tabular}\n"
      ],
      "text/markdown": [
       "\n",
       "A tibble: 6 × 3\n",
       "\n",
       "| EMP_NUM &lt;fct&gt; | emp_hrs &lt;dbl&gt; | count &lt;int&gt; |\n",
       "|---|---|---|\n",
       "| 840677 | -122.75 |  71 |\n",
       "| 838686 | -101.86 | 253 |\n",
       "| 824675 |  -85.76 |  72 |\n",
       "| 841499 |  -85.41 | 233 |\n",
       "| 840100 |  -81.34 |  51 |\n",
       "| 839893 |  -80.28 | 267 |\n",
       "\n"
      ],
      "text/plain": [
       "  EMP_NUM emp_hrs count\n",
       "1 840677  -122.75  71  \n",
       "2 838686  -101.86 253  \n",
       "3 824675   -85.76  72  \n",
       "4 841499   -85.41 233  \n",
       "5 840100   -81.34  51  \n",
       "6 839893   -80.28 267  "
      ]
     },
     "metadata": {},
     "output_type": "display_data"
    }
   ],
   "source": [
    "by_emp <-  group_by(cor_k_17pl71,EMP_NUM)\n",
    "C <- arrange(summarise(by_emp,emp_hrs = sum(HRS),count = n()),emp_hrs)\n",
    "head(arrange(C,emp_hrs))"
   ]
  },
  {
   "cell_type": "code",
   "execution_count": 14,
   "metadata": {},
   "outputs": [
    {
     "data": {
      "text/html": [
       "<dl class=dl-horizontal>\n",
       "\t<dt>POST_DATE</dt>\n",
       "\t\t<dd>1163066</dd>\n",
       "\t<dt>EMP_NUM</dt>\n",
       "\t\t<dd>0</dd>\n",
       "\t<dt>SUP_EMP_NUM</dt>\n",
       "\t\t<dd>0</dd>\n",
       "\t<dt>WORK_ORDER</dt>\n",
       "\t\t<dd>0</dd>\n",
       "\t<dt>OPERATION_NUM</dt>\n",
       "\t\t<dd>0</dd>\n",
       "\t<dt>QUANTITY</dt>\n",
       "\t\t<dd>0</dd>\n",
       "\t<dt>HRS</dt>\n",
       "\t\t<dd>0</dd>\n",
       "\t<dt>HRS_CLASS</dt>\n",
       "\t\t<dd>0</dd>\n",
       "\t<dt>TYPE</dt>\n",
       "\t\t<dd>0</dd>\n",
       "\t<dt>PRODUCT_LINE</dt>\n",
       "\t\t<dd>0</dd>\n",
       "\t<dt>PRODUCT_CELL_ID</dt>\n",
       "\t\t<dd>0</dd>\n",
       "\t<dt>ROUTING_GROUP_ID</dt>\n",
       "\t\t<dd>0</dd>\n",
       "\t<dt>DOC</dt>\n",
       "\t\t<dd>0</dd>\n",
       "</dl>\n"
      ],
      "text/latex": [
       "\\begin{description*}\n",
       "\\item[POST\\textbackslash{}\\_DATE] 1163066\n",
       "\\item[EMP\\textbackslash{}\\_NUM] 0\n",
       "\\item[SUP\\textbackslash{}\\_EMP\\textbackslash{}\\_NUM] 0\n",
       "\\item[WORK\\textbackslash{}\\_ORDER] 0\n",
       "\\item[OPERATION\\textbackslash{}\\_NUM] 0\n",
       "\\item[QUANTITY] 0\n",
       "\\item[HRS] 0\n",
       "\\item[HRS\\textbackslash{}\\_CLASS] 0\n",
       "\\item[TYPE] 0\n",
       "\\item[PRODUCT\\textbackslash{}\\_LINE] 0\n",
       "\\item[PRODUCT\\textbackslash{}\\_CELL\\textbackslash{}\\_ID] 0\n",
       "\\item[ROUTING\\textbackslash{}\\_GROUP\\textbackslash{}\\_ID] 0\n",
       "\\item[DOC] 0\n",
       "\\end{description*}\n"
      ],
      "text/markdown": [
       "POST_DATE\n",
       ":   1163066EMP_NUM\n",
       ":   0SUP_EMP_NUM\n",
       ":   0WORK_ORDER\n",
       ":   0OPERATION_NUM\n",
       ":   0QUANTITY\n",
       ":   0HRS\n",
       ":   0HRS_CLASS\n",
       ":   0TYPE\n",
       ":   0PRODUCT_LINE\n",
       ":   0PRODUCT_CELL_ID\n",
       ":   0ROUTING_GROUP_ID\n",
       ":   0DOC\n",
       ":   0\n",
       "\n"
      ],
      "text/plain": [
       "       POST_DATE          EMP_NUM      SUP_EMP_NUM       WORK_ORDER \n",
       "         1163066                0                0                0 \n",
       "   OPERATION_NUM         QUANTITY              HRS        HRS_CLASS \n",
       "               0                0                0                0 \n",
       "            TYPE     PRODUCT_LINE  PRODUCT_CELL_ID ROUTING_GROUP_ID \n",
       "               0                0                0                0 \n",
       "             DOC \n",
       "               0 "
      ]
     },
     "metadata": {},
     "output_type": "display_data"
    }
   ],
   "source": [
    "k_18 <- read.csv(\"table_export_DATA_2018.csv\")\n",
    "k_18$POST_DATE <- as.Date(k_18$POST_DATE)\n",
    "k_18$EMP_NUM <- as.factor(k_18$EMP_NUM)\n",
    "k_18$SUP_EMP_NUM <- as.factor(k_18$SUP_EMP_NUM)\n",
    "k_18$WORK_ORDER <- as.factor(k_18$WORK_ORDER)\n",
    "k_18$OPERATION_NUM <- as.factor(k_18$OPERATION_NUM)\n",
    "k_18$PRODUCT_LINE <- as.factor(k_18$PRODUCT_LINE)\n",
    "k_18$PRODUCT_CELL_ID <- as.factor(k_18$PRODUCT_CELL_ID)\n",
    "k_18$ROUTING_GROUP_ID <- as.factor(k_18$ROUTING_GROUP_ID)\n",
    "k_18$DOC <- as.factor(k_18$DOC)\n",
    "sapply(k_18,function(x) sum(is.na(x)))"
   ]
  },
  {
   "cell_type": "code",
   "execution_count": 15,
   "metadata": {},
   "outputs": [
    {
     "data": {
      "text/plain": [
       "   POST_DATE             EMP_NUM        SUP_EMP_NUM         WORK_ORDER    \n",
       " Min.   :0001-02-20   818800 : 18695   835447 :149002   162982971:    96  \n",
       " 1st Qu.:0004-04-20   818623 : 14192   829449 :126729   163033432:    91  \n",
       " Median :0007-01-20   837189 : 12478   845260 :120031   162939363:    90  \n",
       " Mean   :0007-04-02   821948 :  9842   849797 : 92321   163023240:    86  \n",
       " 3rd Qu.:0010-05-20   849998 :  9596   837146 : 59625   162906875:    83  \n",
       " Max.   :0012-12-20   814093 :  9080   824132 : 21612   162977374:    83  \n",
       " NA's   :371120       (Other):523719   (Other): 28282   (Other)  :597073  \n",
       " OPERATION_NUM       QUANTITY            HRS           HRS_CLASS    TYPE       \n",
       " 40     : 23698   Min.   :  1.000   Min.   :-52.5000   R:488702   ZP03:595494  \n",
       " 10     : 23316   1st Qu.:  1.000   1st Qu.:  0.0900   S:     3   ZP06:   696  \n",
       " 30     : 19829   Median :  1.000   Median :  0.1800   T:108892   ZRTN:   510  \n",
       " 150    : 19750   Mean   :  2.389   Mean   :  0.3327   U:     0   ZRW3:   683  \n",
       " 160    : 19073   3rd Qu.:  3.000   3rd Qu.:  0.3900   V:     5   ZRW6:   219  \n",
       " 180    : 18553   Max.   :345.000   Max.   : 52.5000                           \n",
       " (Other):473383                                                                \n",
       "  PRODUCT_LINE    PRODUCT_CELL_ID  ROUTING_GROUP_ID      DOC        \n",
       " 71     :597602   384    :169135   1586   :112192   M101095: 61900  \n",
       " 24     :     0   391    : 91770   1636   : 69650   M101090: 60411  \n",
       " 25     :     0   383    : 70879   1709   : 54684   M102678: 58272  \n",
       " 26     :     0   395    : 64626   2292   : 37044   M101092: 21094  \n",
       " 27     :     0   375    : 44598   2044   : 15751   M119437: 19041  \n",
       " 28     :     0   377    : 43468   2320   : 14795   M102261: 18038  \n",
       " (Other):     0   (Other):113126   (Other):293486   (Other):358846  "
      ]
     },
     "metadata": {},
     "output_type": "display_data"
    },
    {
     "name": "stdout",
     "output_type": "stream",
     "text": [
      "'data.frame':\t597602 obs. of  13 variables:\n",
      " $ POST_DATE       : Date, format: \"0001-02-20\" \"0001-02-20\" ...\n",
      " $ EMP_NUM         : Factor w/ 844 levels \"603837\",\"810413\",..: 132 508 508 508 132 508 132 508 508 132 ...\n",
      " $ SUP_EMP_NUM     : Factor w/ 49 levels \"602955\",\"818517\",..: 5 5 5 5 5 5 5 5 5 5 ...\n",
      " $ WORK_ORDER      : Factor w/ 118897 levels \"160296206\",\"160537746\",..: 5087 1865 1865 5236 1604 5399 3348 1858 3305 3343 ...\n",
      " $ OPERATION_NUM   : Factor w/ 526 levels \"1\",\"2\",\"3\",\"4\",..: 79 119 119 79 153 89 114 339 368 114 ...\n",
      " $ QUANTITY        : int  5 5 5 5 1 3 1 1 4 1 ...\n",
      " $ HRS             : num  0.3 0.2 0.2 0.1 0.2 0.1 0.3 0.2 0.2 0.3 ...\n",
      " $ HRS_CLASS       : Factor w/ 5 levels \"R\",\"S\",\"T\",\"U\",..: 1 1 1 1 1 1 1 1 1 1 ...\n",
      " $ TYPE            : Factor w/ 5 levels \"ZP03\",\"ZP06\",..: 1 1 1 1 1 1 1 1 1 1 ...\n",
      " $ PRODUCT_LINE    : Factor w/ 22 levels \"24\",\"25\",\"26\",..: 16 16 16 16 16 16 16 16 16 16 ...\n",
      " $ PRODUCT_CELL_ID : Factor w/ 168 levels \"301\",\"302\",\"303\",..: 61 61 61 61 74 61 74 74 61 74 ...\n",
      " $ ROUTING_GROUP_ID: Factor w/ 2536 levels \"61\",\"62\",\"63\",..: 1055 1055 1055 1051 2198 835 2251 2252 2199 2251 ...\n",
      " $ DOC             : Factor w/ 3101 levels \"00857-0869-0001\",..: 3033 3033 3033 3033 2352 2752 2531 1950 2249 2531 ...\n"
     ]
    },
    {
     "data": {
      "text/html": [
       "<table>\n",
       "<caption>A data.frame: 6 × 13</caption>\n",
       "<thead>\n",
       "\t<tr><th></th><th scope=col>POST_DATE</th><th scope=col>EMP_NUM</th><th scope=col>SUP_EMP_NUM</th><th scope=col>WORK_ORDER</th><th scope=col>OPERATION_NUM</th><th scope=col>QUANTITY</th><th scope=col>HRS</th><th scope=col>HRS_CLASS</th><th scope=col>TYPE</th><th scope=col>PRODUCT_LINE</th><th scope=col>PRODUCT_CELL_ID</th><th scope=col>ROUTING_GROUP_ID</th><th scope=col>DOC</th></tr>\n",
       "\t<tr><th></th><th scope=col>&lt;date&gt;</th><th scope=col>&lt;fct&gt;</th><th scope=col>&lt;fct&gt;</th><th scope=col>&lt;fct&gt;</th><th scope=col>&lt;fct&gt;</th><th scope=col>&lt;int&gt;</th><th scope=col>&lt;dbl&gt;</th><th scope=col>&lt;fct&gt;</th><th scope=col>&lt;fct&gt;</th><th scope=col>&lt;fct&gt;</th><th scope=col>&lt;fct&gt;</th><th scope=col>&lt;fct&gt;</th><th scope=col>&lt;fct&gt;</th></tr>\n",
       "</thead>\n",
       "<tbody>\n",
       "\t<tr><th scope=row>44</th><td>0001-02-20</td><td>818837</td><td>818658</td><td>162323640</td><td>80 </td><td>5</td><td>0.3</td><td>R</td><td>ZP03</td><td>71</td><td>375</td><td>2305</td><td>SIS4054421550</td></tr>\n",
       "\t<tr><th scope=row>48</th><td>0001-02-20</td><td>841157</td><td>818658</td><td>162252112</td><td>120</td><td>5</td><td>0.2</td><td>R</td><td>ZP03</td><td>71</td><td>375</td><td>2305</td><td>SIS4054421550</td></tr>\n",
       "\t<tr><th scope=row>49</th><td>0001-02-20</td><td>841157</td><td>818658</td><td>162252112</td><td>120</td><td>5</td><td>0.2</td><td>R</td><td>ZP03</td><td>71</td><td>375</td><td>2305</td><td>SIS4054421550</td></tr>\n",
       "\t<tr><th scope=row>53</th><td>0001-02-20</td><td>841157</td><td>818658</td><td>162325810</td><td>80 </td><td>5</td><td>0.1</td><td>R</td><td>ZP03</td><td>71</td><td>375</td><td>2299</td><td>SIS4054421550</td></tr>\n",
       "\t<tr><th scope=row>55</th><td>0001-02-20</td><td>818837</td><td>818658</td><td>162243717</td><td>155</td><td>1</td><td>0.2</td><td>R</td><td>ZP03</td><td>71</td><td>390</td><td>4767</td><td>M114480      </td></tr>\n",
       "\t<tr><th scope=row>56</th><td>0001-02-20</td><td>841157</td><td>818658</td><td>162327955</td><td>90 </td><td>3</td><td>0.1</td><td>R</td><td>ZP03</td><td>71</td><td>375</td><td>1943</td><td>SIS1203686609</td></tr>\n",
       "</tbody>\n",
       "</table>\n"
      ],
      "text/latex": [
       "A data.frame: 6 × 13\n",
       "\\begin{tabular}{r|lllllllllllll}\n",
       "  & POST\\_DATE & EMP\\_NUM & SUP\\_EMP\\_NUM & WORK\\_ORDER & OPERATION\\_NUM & QUANTITY & HRS & HRS\\_CLASS & TYPE & PRODUCT\\_LINE & PRODUCT\\_CELL\\_ID & ROUTING\\_GROUP\\_ID & DOC\\\\\n",
       "  & <date> & <fct> & <fct> & <fct> & <fct> & <int> & <dbl> & <fct> & <fct> & <fct> & <fct> & <fct> & <fct>\\\\\n",
       "\\hline\n",
       "\t44 & 0001-02-20 & 818837 & 818658 & 162323640 & 80  & 5 & 0.3 & R & ZP03 & 71 & 375 & 2305 & SIS4054421550\\\\\n",
       "\t48 & 0001-02-20 & 841157 & 818658 & 162252112 & 120 & 5 & 0.2 & R & ZP03 & 71 & 375 & 2305 & SIS4054421550\\\\\n",
       "\t49 & 0001-02-20 & 841157 & 818658 & 162252112 & 120 & 5 & 0.2 & R & ZP03 & 71 & 375 & 2305 & SIS4054421550\\\\\n",
       "\t53 & 0001-02-20 & 841157 & 818658 & 162325810 & 80  & 5 & 0.1 & R & ZP03 & 71 & 375 & 2299 & SIS4054421550\\\\\n",
       "\t55 & 0001-02-20 & 818837 & 818658 & 162243717 & 155 & 1 & 0.2 & R & ZP03 & 71 & 390 & 4767 & M114480      \\\\\n",
       "\t56 & 0001-02-20 & 841157 & 818658 & 162327955 & 90  & 3 & 0.1 & R & ZP03 & 71 & 375 & 1943 & SIS1203686609\\\\\n",
       "\\end{tabular}\n"
      ],
      "text/markdown": [
       "\n",
       "A data.frame: 6 × 13\n",
       "\n",
       "| <!--/--> | POST_DATE &lt;date&gt; | EMP_NUM &lt;fct&gt; | SUP_EMP_NUM &lt;fct&gt; | WORK_ORDER &lt;fct&gt; | OPERATION_NUM &lt;fct&gt; | QUANTITY &lt;int&gt; | HRS &lt;dbl&gt; | HRS_CLASS &lt;fct&gt; | TYPE &lt;fct&gt; | PRODUCT_LINE &lt;fct&gt; | PRODUCT_CELL_ID &lt;fct&gt; | ROUTING_GROUP_ID &lt;fct&gt; | DOC &lt;fct&gt; |\n",
       "|---|---|---|---|---|---|---|---|---|---|---|---|---|---|\n",
       "| 44 | 0001-02-20 | 818837 | 818658 | 162323640 | 80  | 5 | 0.3 | R | ZP03 | 71 | 375 | 2305 | SIS4054421550 |\n",
       "| 48 | 0001-02-20 | 841157 | 818658 | 162252112 | 120 | 5 | 0.2 | R | ZP03 | 71 | 375 | 2305 | SIS4054421550 |\n",
       "| 49 | 0001-02-20 | 841157 | 818658 | 162252112 | 120 | 5 | 0.2 | R | ZP03 | 71 | 375 | 2305 | SIS4054421550 |\n",
       "| 53 | 0001-02-20 | 841157 | 818658 | 162325810 | 80  | 5 | 0.1 | R | ZP03 | 71 | 375 | 2299 | SIS4054421550 |\n",
       "| 55 | 0001-02-20 | 818837 | 818658 | 162243717 | 155 | 1 | 0.2 | R | ZP03 | 71 | 390 | 4767 | M114480       |\n",
       "| 56 | 0001-02-20 | 841157 | 818658 | 162327955 | 90  | 3 | 0.1 | R | ZP03 | 71 | 375 | 1943 | SIS1203686609 |\n",
       "\n"
      ],
      "text/plain": [
       "   POST_DATE  EMP_NUM SUP_EMP_NUM WORK_ORDER OPERATION_NUM QUANTITY HRS\n",
       "44 0001-02-20 818837  818658      162323640  80            5        0.3\n",
       "48 0001-02-20 841157  818658      162252112  120           5        0.2\n",
       "49 0001-02-20 841157  818658      162252112  120           5        0.2\n",
       "53 0001-02-20 841157  818658      162325810  80            5        0.1\n",
       "55 0001-02-20 818837  818658      162243717  155           1        0.2\n",
       "56 0001-02-20 841157  818658      162327955  90            3        0.1\n",
       "   HRS_CLASS TYPE PRODUCT_LINE PRODUCT_CELL_ID ROUTING_GROUP_ID DOC          \n",
       "44 R         ZP03 71           375             2305             SIS4054421550\n",
       "48 R         ZP03 71           375             2305             SIS4054421550\n",
       "49 R         ZP03 71           375             2305             SIS4054421550\n",
       "53 R         ZP03 71           375             2299             SIS4054421550\n",
       "55 R         ZP03 71           390             4767             M114480      \n",
       "56 R         ZP03 71           375             1943             SIS1203686609"
      ]
     },
     "metadata": {},
     "output_type": "display_data"
    }
   ],
   "source": [
    "k_18pl71 <- k_18[k_18$PRODUCT_LINE == 71,]\n",
    "summary(k_18pl71)\n",
    "str(k_18pl71)\n",
    "head(k_18pl71)"
   ]
  },
  {
   "cell_type": "code",
   "execution_count": 16,
   "metadata": {},
   "outputs": [
    {
     "data": {
      "text/html": [
       "198852.45"
      ],
      "text/latex": [
       "198852.45"
      ],
      "text/markdown": [
       "198852.45"
      ],
      "text/plain": [
       "[1] 198852.5"
      ]
     },
     "metadata": {},
     "output_type": "display_data"
    }
   ],
   "source": [
    "(total_hrs <- sum(k_18pl71$HRS))"
   ]
  },
  {
   "cell_type": "code",
   "execution_count": 17,
   "metadata": {},
   "outputs": [
    {
     "data": {
      "text/html": [
       "<table>\n",
       "<caption>A tibble: 6 × 3</caption>\n",
       "<thead>\n",
       "\t<tr><th scope=col>OPERATION_NUM</th><th scope=col>op_hrs</th><th scope=col>count</th></tr>\n",
       "\t<tr><th scope=col>&lt;fct&gt;</th><th scope=col>&lt;dbl&gt;</th><th scope=col>&lt;int&gt;</th></tr>\n",
       "</thead>\n",
       "<tbody>\n",
       "\t<tr><td>10 </td><td>13528.34</td><td>23316</td></tr>\n",
       "\t<tr><td>20 </td><td>10306.13</td><td>15333</td></tr>\n",
       "\t<tr><td>40 </td><td> 9642.06</td><td>23698</td></tr>\n",
       "\t<tr><td>30 </td><td> 8101.35</td><td>19829</td></tr>\n",
       "\t<tr><td>110</td><td> 8079.67</td><td>18300</td></tr>\n",
       "\t<tr><td>60 </td><td> 7830.22</td><td>12251</td></tr>\n",
       "</tbody>\n",
       "</table>\n"
      ],
      "text/latex": [
       "A tibble: 6 × 3\n",
       "\\begin{tabular}{lll}\n",
       " OPERATION\\_NUM & op\\_hrs & count\\\\\n",
       " <fct> & <dbl> & <int>\\\\\n",
       "\\hline\n",
       "\t 10  & 13528.34 & 23316\\\\\n",
       "\t 20  & 10306.13 & 15333\\\\\n",
       "\t 40  &  9642.06 & 23698\\\\\n",
       "\t 30  &  8101.35 & 19829\\\\\n",
       "\t 110 &  8079.67 & 18300\\\\\n",
       "\t 60  &  7830.22 & 12251\\\\\n",
       "\\end{tabular}\n"
      ],
      "text/markdown": [
       "\n",
       "A tibble: 6 × 3\n",
       "\n",
       "| OPERATION_NUM &lt;fct&gt; | op_hrs &lt;dbl&gt; | count &lt;int&gt; |\n",
       "|---|---|---|\n",
       "| 10  | 13528.34 | 23316 |\n",
       "| 20  | 10306.13 | 15333 |\n",
       "| 40  |  9642.06 | 23698 |\n",
       "| 30  |  8101.35 | 19829 |\n",
       "| 110 |  8079.67 | 18300 |\n",
       "| 60  |  7830.22 | 12251 |\n",
       "\n"
      ],
      "text/plain": [
       "  OPERATION_NUM op_hrs   count\n",
       "1 10            13528.34 23316\n",
       "2 20            10306.13 15333\n",
       "3 40             9642.06 23698\n",
       "4 30             8101.35 19829\n",
       "5 110            8079.67 18300\n",
       "6 60             7830.22 12251"
      ]
     },
     "metadata": {},
     "output_type": "display_data"
    }
   ],
   "source": [
    "by_operation <- group_by(k_18pl71,OPERATION_NUM)\n",
    "A <- arrange(summarise(by_operation,op_hrs = sum(HRS),count = n()),op_hrs)\n",
    "head(arrange(A,desc(op_hrs)))"
   ]
  },
  {
   "cell_type": "code",
   "execution_count": 18,
   "metadata": {},
   "outputs": [
    {
     "data": {
      "text/html": [
       "<table>\n",
       "<caption>A tibble: 6 × 3</caption>\n",
       "<thead>\n",
       "\t<tr><th scope=col>ROUTING_GROUP_ID</th><th scope=col>part_hrs</th><th scope=col>count</th></tr>\n",
       "\t<tr><th scope=col>&lt;fct&gt;</th><th scope=col>&lt;dbl&gt;</th><th scope=col>&lt;int&gt;</th></tr>\n",
       "</thead>\n",
       "<tbody>\n",
       "\t<tr><td>1636</td><td>26715.01</td><td> 69650</td></tr>\n",
       "\t<tr><td>1586</td><td>19434.20</td><td>112192</td></tr>\n",
       "\t<tr><td>1709</td><td> 9864.79</td><td> 54684</td></tr>\n",
       "\t<tr><td>2292</td><td> 7761.50</td><td> 37044</td></tr>\n",
       "\t<tr><td>1915</td><td> 4442.82</td><td> 13190</td></tr>\n",
       "\t<tr><td>2044</td><td> 4244.95</td><td> 15751</td></tr>\n",
       "</tbody>\n",
       "</table>\n"
      ],
      "text/latex": [
       "A tibble: 6 × 3\n",
       "\\begin{tabular}{lll}\n",
       " ROUTING\\_GROUP\\_ID & part\\_hrs & count\\\\\n",
       " <fct> & <dbl> & <int>\\\\\n",
       "\\hline\n",
       "\t 1636 & 26715.01 &  69650\\\\\n",
       "\t 1586 & 19434.20 & 112192\\\\\n",
       "\t 1709 &  9864.79 &  54684\\\\\n",
       "\t 2292 &  7761.50 &  37044\\\\\n",
       "\t 1915 &  4442.82 &  13190\\\\\n",
       "\t 2044 &  4244.95 &  15751\\\\\n",
       "\\end{tabular}\n"
      ],
      "text/markdown": [
       "\n",
       "A tibble: 6 × 3\n",
       "\n",
       "| ROUTING_GROUP_ID &lt;fct&gt; | part_hrs &lt;dbl&gt; | count &lt;int&gt; |\n",
       "|---|---|---|\n",
       "| 1636 | 26715.01 |  69650 |\n",
       "| 1586 | 19434.20 | 112192 |\n",
       "| 1709 |  9864.79 |  54684 |\n",
       "| 2292 |  7761.50 |  37044 |\n",
       "| 1915 |  4442.82 |  13190 |\n",
       "| 2044 |  4244.95 |  15751 |\n",
       "\n"
      ],
      "text/plain": [
       "  ROUTING_GROUP_ID part_hrs count \n",
       "1 1636             26715.01  69650\n",
       "2 1586             19434.20 112192\n",
       "3 1709              9864.79  54684\n",
       "4 2292              7761.50  37044\n",
       "5 1915              4442.82  13190\n",
       "6 2044              4244.95  15751"
      ]
     },
     "metadata": {},
     "output_type": "display_data"
    }
   ],
   "source": [
    "by_part <- group_by(k_18pl71,ROUTING_GROUP_ID)\n",
    "B <- arrange(summarise(by_part,part_hrs = sum(HRS),count = n()),part_hrs)\n",
    "head(arrange(B,desc(part_hrs)))"
   ]
  },
  {
   "cell_type": "code",
   "execution_count": 19,
   "metadata": {},
   "outputs": [
    {
     "data": {
      "text/html": [
       "<table>\n",
       "<caption>A tibble: 6 × 3</caption>\n",
       "<thead>\n",
       "\t<tr><th scope=col>DOC</th><th scope=col>doc_hrs</th><th scope=col>count</th></tr>\n",
       "\t<tr><th scope=col>&lt;fct&gt;</th><th scope=col>&lt;dbl&gt;</th><th scope=col>&lt;int&gt;</th></tr>\n",
       "</thead>\n",
       "<tbody>\n",
       "\t<tr><td>M101095</td><td>31220.94</td><td>61900</td></tr>\n",
       "\t<tr><td>M101090</td><td>30268.77</td><td>60411</td></tr>\n",
       "\t<tr><td>M102678</td><td>23159.10</td><td>58272</td></tr>\n",
       "\t<tr><td>M101098</td><td> 5006.80</td><td> 9997</td></tr>\n",
       "\t<tr><td>M101105</td><td> 4447.33</td><td> 8079</td></tr>\n",
       "\t<tr><td>M101086</td><td> 4315.77</td><td>12216</td></tr>\n",
       "</tbody>\n",
       "</table>\n"
      ],
      "text/latex": [
       "A tibble: 6 × 3\n",
       "\\begin{tabular}{lll}\n",
       " DOC & doc\\_hrs & count\\\\\n",
       " <fct> & <dbl> & <int>\\\\\n",
       "\\hline\n",
       "\t M101095 & 31220.94 & 61900\\\\\n",
       "\t M101090 & 30268.77 & 60411\\\\\n",
       "\t M102678 & 23159.10 & 58272\\\\\n",
       "\t M101098 &  5006.80 &  9997\\\\\n",
       "\t M101105 &  4447.33 &  8079\\\\\n",
       "\t M101086 &  4315.77 & 12216\\\\\n",
       "\\end{tabular}\n"
      ],
      "text/markdown": [
       "\n",
       "A tibble: 6 × 3\n",
       "\n",
       "| DOC &lt;fct&gt; | doc_hrs &lt;dbl&gt; | count &lt;int&gt; |\n",
       "|---|---|---|\n",
       "| M101095 | 31220.94 | 61900 |\n",
       "| M101090 | 30268.77 | 60411 |\n",
       "| M102678 | 23159.10 | 58272 |\n",
       "| M101098 |  5006.80 |  9997 |\n",
       "| M101105 |  4447.33 |  8079 |\n",
       "| M101086 |  4315.77 | 12216 |\n",
       "\n"
      ],
      "text/plain": [
       "  DOC     doc_hrs  count\n",
       "1 M101095 31220.94 61900\n",
       "2 M101090 30268.77 60411\n",
       "3 M102678 23159.10 58272\n",
       "4 M101098  5006.80  9997\n",
       "5 M101105  4447.33  8079\n",
       "6 M101086  4315.77 12216"
      ]
     },
     "metadata": {},
     "output_type": "display_data"
    }
   ],
   "source": [
    "by_doc <- group_by(k_18pl71,DOC)\n",
    "B <- arrange(summarise(by_doc,doc_hrs = sum(HRS),count = n()),doc_hrs)\n",
    "head(arrange(B,desc(doc_hrs)))"
   ]
  },
  {
   "cell_type": "code",
   "execution_count": 20,
   "metadata": {},
   "outputs": [
    {
     "data": {
      "text/html": [
       "<table>\n",
       "<caption>A tibble: 6 × 3</caption>\n",
       "<thead>\n",
       "\t<tr><th scope=col>EMP_NUM</th><th scope=col>emp_hrs</th><th scope=col>count</th></tr>\n",
       "\t<tr><th scope=col>&lt;fct&gt;</th><th scope=col>&lt;dbl&gt;</th><th scope=col>&lt;int&gt;</th></tr>\n",
       "</thead>\n",
       "<tbody>\n",
       "\t<tr><td>848182</td><td>2279.01</td><td>1730</td></tr>\n",
       "\t<tr><td>821953</td><td>2256.54</td><td>4604</td></tr>\n",
       "\t<tr><td>849640</td><td>2237.67</td><td>3965</td></tr>\n",
       "\t<tr><td>840677</td><td>2154.29</td><td>1888</td></tr>\n",
       "\t<tr><td>847809</td><td>2123.33</td><td>7241</td></tr>\n",
       "\t<tr><td>841124</td><td>2059.68</td><td>3493</td></tr>\n",
       "</tbody>\n",
       "</table>\n"
      ],
      "text/latex": [
       "A tibble: 6 × 3\n",
       "\\begin{tabular}{lll}\n",
       " EMP\\_NUM & emp\\_hrs & count\\\\\n",
       " <fct> & <dbl> & <int>\\\\\n",
       "\\hline\n",
       "\t 848182 & 2279.01 & 1730\\\\\n",
       "\t 821953 & 2256.54 & 4604\\\\\n",
       "\t 849640 & 2237.67 & 3965\\\\\n",
       "\t 840677 & 2154.29 & 1888\\\\\n",
       "\t 847809 & 2123.33 & 7241\\\\\n",
       "\t 841124 & 2059.68 & 3493\\\\\n",
       "\\end{tabular}\n"
      ],
      "text/markdown": [
       "\n",
       "A tibble: 6 × 3\n",
       "\n",
       "| EMP_NUM &lt;fct&gt; | emp_hrs &lt;dbl&gt; | count &lt;int&gt; |\n",
       "|---|---|---|\n",
       "| 848182 | 2279.01 | 1730 |\n",
       "| 821953 | 2256.54 | 4604 |\n",
       "| 849640 | 2237.67 | 3965 |\n",
       "| 840677 | 2154.29 | 1888 |\n",
       "| 847809 | 2123.33 | 7241 |\n",
       "| 841124 | 2059.68 | 3493 |\n",
       "\n"
      ],
      "text/plain": [
       "  EMP_NUM emp_hrs count\n",
       "1 848182  2279.01 1730 \n",
       "2 821953  2256.54 4604 \n",
       "3 849640  2237.67 3965 \n",
       "4 840677  2154.29 1888 \n",
       "5 847809  2123.33 7241 \n",
       "6 841124  2059.68 3493 "
      ]
     },
     "metadata": {},
     "output_type": "display_data"
    }
   ],
   "source": [
    "by_emp <-  group_by(k_18pl71,EMP_NUM)\n",
    "C <- arrange(summarise(by_emp,emp_hrs = sum(HRS),count = n()),emp_hrs)\n",
    "head(arrange(C,desc(emp_hrs)))"
   ]
  },
  {
   "cell_type": "code",
   "execution_count": 21,
   "metadata": {},
   "outputs": [
    {
     "data": {
      "text/html": [
       "<dl class=dl-horizontal>\n",
       "\t<dt>POST_DATE</dt>\n",
       "\t\t<dd>1342455</dd>\n",
       "\t<dt>EMP_NUM</dt>\n",
       "\t\t<dd>0</dd>\n",
       "\t<dt>SUP_EMP_NUM</dt>\n",
       "\t\t<dd>0</dd>\n",
       "\t<dt>WORK_ORDER</dt>\n",
       "\t\t<dd>0</dd>\n",
       "\t<dt>OPERATION_NUM</dt>\n",
       "\t\t<dd>0</dd>\n",
       "\t<dt>QUANTITY</dt>\n",
       "\t\t<dd>0</dd>\n",
       "\t<dt>HRS</dt>\n",
       "\t\t<dd>0</dd>\n",
       "\t<dt>HRS_CLASS</dt>\n",
       "\t\t<dd>0</dd>\n",
       "\t<dt>TYPE</dt>\n",
       "\t\t<dd>0</dd>\n",
       "\t<dt>PRODUCT_LINE</dt>\n",
       "\t\t<dd>0</dd>\n",
       "\t<dt>PRODUCT_CELL_ID</dt>\n",
       "\t\t<dd>0</dd>\n",
       "\t<dt>ROUTING_GROUP_ID</dt>\n",
       "\t\t<dd>0</dd>\n",
       "\t<dt>DOC</dt>\n",
       "\t\t<dd>0</dd>\n",
       "</dl>\n"
      ],
      "text/latex": [
       "\\begin{description*}\n",
       "\\item[POST\\textbackslash{}\\_DATE] 1342455\n",
       "\\item[EMP\\textbackslash{}\\_NUM] 0\n",
       "\\item[SUP\\textbackslash{}\\_EMP\\textbackslash{}\\_NUM] 0\n",
       "\\item[WORK\\textbackslash{}\\_ORDER] 0\n",
       "\\item[OPERATION\\textbackslash{}\\_NUM] 0\n",
       "\\item[QUANTITY] 0\n",
       "\\item[HRS] 0\n",
       "\\item[HRS\\textbackslash{}\\_CLASS] 0\n",
       "\\item[TYPE] 0\n",
       "\\item[PRODUCT\\textbackslash{}\\_LINE] 0\n",
       "\\item[PRODUCT\\textbackslash{}\\_CELL\\textbackslash{}\\_ID] 0\n",
       "\\item[ROUTING\\textbackslash{}\\_GROUP\\textbackslash{}\\_ID] 0\n",
       "\\item[DOC] 0\n",
       "\\end{description*}\n"
      ],
      "text/markdown": [
       "POST_DATE\n",
       ":   1342455EMP_NUM\n",
       ":   0SUP_EMP_NUM\n",
       ":   0WORK_ORDER\n",
       ":   0OPERATION_NUM\n",
       ":   0QUANTITY\n",
       ":   0HRS\n",
       ":   0HRS_CLASS\n",
       ":   0TYPE\n",
       ":   0PRODUCT_LINE\n",
       ":   0PRODUCT_CELL_ID\n",
       ":   0ROUTING_GROUP_ID\n",
       ":   0DOC\n",
       ":   0\n",
       "\n"
      ],
      "text/plain": [
       "       POST_DATE          EMP_NUM      SUP_EMP_NUM       WORK_ORDER \n",
       "         1342455                0                0                0 \n",
       "   OPERATION_NUM         QUANTITY              HRS        HRS_CLASS \n",
       "               0                0                0                0 \n",
       "            TYPE     PRODUCT_LINE  PRODUCT_CELL_ID ROUTING_GROUP_ID \n",
       "               0                0                0                0 \n",
       "             DOC \n",
       "               0 "
      ]
     },
     "metadata": {},
     "output_type": "display_data"
    }
   ],
   "source": [
    "k_19 <- read.csv(\"table_export_DATA_2019.csv\")\n",
    "k_19$POST_DATE <- as.Date(k_19$POST_DATE)\n",
    "k_19$EMP_NUM <- as.factor(k_19$EMP_NUM)\n",
    "k_19$SUP_EMP_NUM <- as.factor(k_19$SUP_EMP_NUM)\n",
    "k_19$WORK_ORDER <- as.factor(k_19$WORK_ORDER)\n",
    "k_19$OPERATION_NUM <- as.factor(k_19$OPERATION_NUM)\n",
    "k_19$PRODUCT_LINE <- as.factor(k_19$PRODUCT_LINE)\n",
    "k_19$PRODUCT_CELL_ID <- as.factor(k_19$PRODUCT_CELL_ID)\n",
    "k_19$ROUTING_GROUP_ID <- as.factor(k_19$ROUTING_GROUP_ID)\n",
    "k_19$DOC <- as.factor(k_19$DOC)\n",
    "sapply(k_19,function(x) sum(is.na(x)))"
   ]
  },
  {
   "cell_type": "code",
   "execution_count": 22,
   "metadata": {},
   "outputs": [
    {
     "data": {
      "text/plain": [
       "   POST_DATE             EMP_NUM        SUP_EMP_NUM         WORK_ORDER    \n",
       " Min.   :0001-02-20   818800 : 25220   849797 :210558   165239363:    83  \n",
       " 1st Qu.:0004-02-20   818623 : 15583   845260 :109868   165254671:    81  \n",
       " Median :0006-12-20   882430 : 12878   835447 : 90040   165167230:    79  \n",
       " Mean   :0007-01-01   818884 : 12425   884346 : 76138   165275675:    78  \n",
       " 3rd Qu.:0009-12-20   814093 : 12220   884824 : 53885   164681368:    77  \n",
       " Max.   :0012-12-20   821948 : 11992   829449 : 53304   165167235:    75  \n",
       " NA's   :465887       (Other):672380   (Other):168905   (Other)  :762225  \n",
       " OPERATION_NUM       QUANTITY            HRS           HRS_CLASS    TYPE       \n",
       " 150    : 29127   Min.   :  1.000   Min.   :-18.4200   D:     0   ZP03:760049  \n",
       " 40     : 28417   1st Qu.:  1.000   1st Qu.:  0.0700   R:638411   ZP06:   490  \n",
       " 180    : 26954   Median :  1.000   Median :  0.1600   S:    34   ZRTN:   742  \n",
       " 30     : 26881   Mean   :  2.131   Mean   :  0.3005   T:124246   ZRW3:  1414  \n",
       " 10     : 26094   3rd Qu.:  1.000   3rd Qu.:  0.3500   U:     0   ZRW6:     3  \n",
       " 110    : 25509   Max.   :292.000   Max.   : 18.4200   V:     7                \n",
       " (Other):599716                                                                \n",
       "  PRODUCT_LINE    PRODUCT_CELL_ID  ROUTING_GROUP_ID            DOC        \n",
       " 71     :762698   384    :256300   1709   :239921   M101090      : 93660  \n",
       " 24     :     0   391    :111726   1636   : 85552   M101095      : 79192  \n",
       " 25     :     0   383    : 86810   2292   : 39893   M102678      : 69461  \n",
       " 26     :     0   395    : 82797   2044   : 21340   SIS3261152956: 28712  \n",
       " 27     :     0   394    : 46549   2320   : 16487   M102261      : 23914  \n",
       " 28     :     0   375    : 45785   2365   : 16224   M101092      : 23726  \n",
       " (Other):     0   (Other):132731   (Other):343281   (Other)      :444033  "
      ]
     },
     "metadata": {},
     "output_type": "display_data"
    },
    {
     "name": "stdout",
     "output_type": "stream",
     "text": [
      "'data.frame':\t762698 obs. of  13 variables:\n",
      " $ POST_DATE       : Date, format: \"0001-02-20\" \"0001-02-20\" ...\n",
      " $ EMP_NUM         : Factor w/ 925 levels \"603837\",\"813478\",..: 426 725 434 434 434 426 434 380 380 380 ...\n",
      " $ SUP_EMP_NUM     : Factor w/ 62 levels \"818517\",\"818654\",..: 3 3 3 3 3 3 3 15 15 15 ...\n",
      " $ WORK_ORDER      : Factor w/ 133129 levels \"161796439\",\"161825001\",..: 4237 4828 4844 3166 5123 5350 4931 1074 1074 917 ...\n",
      " $ OPERATION_NUM   : Factor w/ 514 levels \"1\",\"2\",\"3\",\"4\",..: 88 108 88 78 29 88 78 363 363 363 ...\n",
      " $ QUANTITY        : int  5 3 3 5 5 4 5 1 1 1 ...\n",
      " $ HRS             : num  0.1 0.2 0.2 0.2 0.2 0.1 0.2 0.15 0.06 0.05 ...\n",
      " $ HRS_CLASS       : Factor w/ 6 levels \"D\",\"R\",\"S\",\"T\",..: 2 2 2 2 2 2 2 2 2 2 ...\n",
      " $ TYPE            : Factor w/ 5 levels \"ZP03\",\"ZP06\",..: 1 1 1 1 1 1 1 1 1 1 ...\n",
      " $ PRODUCT_LINE    : Factor w/ 22 levels \"24\",\"25\",\"26\",..: 16 16 16 16 16 16 16 16 16 16 ...\n",
      " $ PRODUCT_CELL_ID : Factor w/ 164 levels \"302\",\"303\",\"304\",..: 57 57 57 57 57 57 57 71 71 71 ...\n",
      " $ ROUTING_GROUP_ID: Factor w/ 2526 levels \"61\",\"62\",\"63\",..: 1034 1034 841 1043 802 832 1043 2210 2210 2210 ...\n",
      " $ DOC             : Factor w/ 3094 levels \"00857-0869-0001\",..: 3022 625 2758 3022 2758 3022 3022 2792 2792 2792 ...\n"
     ]
    },
    {
     "data": {
      "text/html": [
       "<table>\n",
       "<caption>A data.frame: 6 × 13</caption>\n",
       "<thead>\n",
       "\t<tr><th></th><th scope=col>POST_DATE</th><th scope=col>EMP_NUM</th><th scope=col>SUP_EMP_NUM</th><th scope=col>WORK_ORDER</th><th scope=col>OPERATION_NUM</th><th scope=col>QUANTITY</th><th scope=col>HRS</th><th scope=col>HRS_CLASS</th><th scope=col>TYPE</th><th scope=col>PRODUCT_LINE</th><th scope=col>PRODUCT_CELL_ID</th><th scope=col>ROUTING_GROUP_ID</th><th scope=col>DOC</th></tr>\n",
       "\t<tr><th></th><th scope=col>&lt;date&gt;</th><th scope=col>&lt;fct&gt;</th><th scope=col>&lt;fct&gt;</th><th scope=col>&lt;fct&gt;</th><th scope=col>&lt;fct&gt;</th><th scope=col>&lt;int&gt;</th><th scope=col>&lt;dbl&gt;</th><th scope=col>&lt;fct&gt;</th><th scope=col>&lt;fct&gt;</th><th scope=col>&lt;fct&gt;</th><th scope=col>&lt;fct&gt;</th><th scope=col>&lt;fct&gt;</th><th scope=col>&lt;fct&gt;</th></tr>\n",
       "</thead>\n",
       "<tbody>\n",
       "\t<tr><th scope=row>1</th><td>0001-02-20</td><td>841157</td><td>818658</td><td>163998209</td><td>90 </td><td>5</td><td>0.1</td><td>R</td><td>ZP03</td><td>71</td><td>375</td><td>2288</td><td>SIS4054421550</td></tr>\n",
       "\t<tr><th scope=row>4</th><td>0001-02-20</td><td>878031</td><td>818658</td><td>164006241</td><td>110</td><td>3</td><td>0.2</td><td>R</td><td>ZP03</td><td>71</td><td>375</td><td>2288</td><td>M101090      </td></tr>\n",
       "\t<tr><th scope=row>8</th><td>0001-02-20</td><td>841269</td><td>818658</td><td>164006488</td><td>90 </td><td>3</td><td>0.2</td><td>R</td><td>ZP03</td><td>71</td><td>375</td><td>1963</td><td>SIS1203686609</td></tr>\n",
       "\t<tr><th scope=row>12</th><td>0001-02-20</td><td>841269</td><td>818658</td><td>163972863</td><td>80 </td><td>5</td><td>0.2</td><td>R</td><td>ZP03</td><td>71</td><td>375</td><td>2299</td><td>SIS4054421550</td></tr>\n",
       "\t<tr><th scope=row>13</th><td>0001-02-20</td><td>841269</td><td>818658</td><td>164012064</td><td>30 </td><td>5</td><td>0.2</td><td>R</td><td>ZP03</td><td>71</td><td>375</td><td>1910</td><td>SIS1203686609</td></tr>\n",
       "\t<tr><th scope=row>14</th><td>0001-02-20</td><td>841157</td><td>818658</td><td>164016897</td><td>90 </td><td>4</td><td>0.1</td><td>R</td><td>ZP03</td><td>71</td><td>375</td><td>1952</td><td>SIS4054421550</td></tr>\n",
       "</tbody>\n",
       "</table>\n"
      ],
      "text/latex": [
       "A data.frame: 6 × 13\n",
       "\\begin{tabular}{r|lllllllllllll}\n",
       "  & POST\\_DATE & EMP\\_NUM & SUP\\_EMP\\_NUM & WORK\\_ORDER & OPERATION\\_NUM & QUANTITY & HRS & HRS\\_CLASS & TYPE & PRODUCT\\_LINE & PRODUCT\\_CELL\\_ID & ROUTING\\_GROUP\\_ID & DOC\\\\\n",
       "  & <date> & <fct> & <fct> & <fct> & <fct> & <int> & <dbl> & <fct> & <fct> & <fct> & <fct> & <fct> & <fct>\\\\\n",
       "\\hline\n",
       "\t1 & 0001-02-20 & 841157 & 818658 & 163998209 & 90  & 5 & 0.1 & R & ZP03 & 71 & 375 & 2288 & SIS4054421550\\\\\n",
       "\t4 & 0001-02-20 & 878031 & 818658 & 164006241 & 110 & 3 & 0.2 & R & ZP03 & 71 & 375 & 2288 & M101090      \\\\\n",
       "\t8 & 0001-02-20 & 841269 & 818658 & 164006488 & 90  & 3 & 0.2 & R & ZP03 & 71 & 375 & 1963 & SIS1203686609\\\\\n",
       "\t12 & 0001-02-20 & 841269 & 818658 & 163972863 & 80  & 5 & 0.2 & R & ZP03 & 71 & 375 & 2299 & SIS4054421550\\\\\n",
       "\t13 & 0001-02-20 & 841269 & 818658 & 164012064 & 30  & 5 & 0.2 & R & ZP03 & 71 & 375 & 1910 & SIS1203686609\\\\\n",
       "\t14 & 0001-02-20 & 841157 & 818658 & 164016897 & 90  & 4 & 0.1 & R & ZP03 & 71 & 375 & 1952 & SIS4054421550\\\\\n",
       "\\end{tabular}\n"
      ],
      "text/markdown": [
       "\n",
       "A data.frame: 6 × 13\n",
       "\n",
       "| <!--/--> | POST_DATE &lt;date&gt; | EMP_NUM &lt;fct&gt; | SUP_EMP_NUM &lt;fct&gt; | WORK_ORDER &lt;fct&gt; | OPERATION_NUM &lt;fct&gt; | QUANTITY &lt;int&gt; | HRS &lt;dbl&gt; | HRS_CLASS &lt;fct&gt; | TYPE &lt;fct&gt; | PRODUCT_LINE &lt;fct&gt; | PRODUCT_CELL_ID &lt;fct&gt; | ROUTING_GROUP_ID &lt;fct&gt; | DOC &lt;fct&gt; |\n",
       "|---|---|---|---|---|---|---|---|---|---|---|---|---|---|\n",
       "| 1 | 0001-02-20 | 841157 | 818658 | 163998209 | 90  | 5 | 0.1 | R | ZP03 | 71 | 375 | 2288 | SIS4054421550 |\n",
       "| 4 | 0001-02-20 | 878031 | 818658 | 164006241 | 110 | 3 | 0.2 | R | ZP03 | 71 | 375 | 2288 | M101090       |\n",
       "| 8 | 0001-02-20 | 841269 | 818658 | 164006488 | 90  | 3 | 0.2 | R | ZP03 | 71 | 375 | 1963 | SIS1203686609 |\n",
       "| 12 | 0001-02-20 | 841269 | 818658 | 163972863 | 80  | 5 | 0.2 | R | ZP03 | 71 | 375 | 2299 | SIS4054421550 |\n",
       "| 13 | 0001-02-20 | 841269 | 818658 | 164012064 | 30  | 5 | 0.2 | R | ZP03 | 71 | 375 | 1910 | SIS1203686609 |\n",
       "| 14 | 0001-02-20 | 841157 | 818658 | 164016897 | 90  | 4 | 0.1 | R | ZP03 | 71 | 375 | 1952 | SIS4054421550 |\n",
       "\n"
      ],
      "text/plain": [
       "   POST_DATE  EMP_NUM SUP_EMP_NUM WORK_ORDER OPERATION_NUM QUANTITY HRS\n",
       "1  0001-02-20 841157  818658      163998209  90            5        0.1\n",
       "4  0001-02-20 878031  818658      164006241  110           3        0.2\n",
       "8  0001-02-20 841269  818658      164006488  90            3        0.2\n",
       "12 0001-02-20 841269  818658      163972863  80            5        0.2\n",
       "13 0001-02-20 841269  818658      164012064  30            5        0.2\n",
       "14 0001-02-20 841157  818658      164016897  90            4        0.1\n",
       "   HRS_CLASS TYPE PRODUCT_LINE PRODUCT_CELL_ID ROUTING_GROUP_ID DOC          \n",
       "1  R         ZP03 71           375             2288             SIS4054421550\n",
       "4  R         ZP03 71           375             2288             M101090      \n",
       "8  R         ZP03 71           375             1963             SIS1203686609\n",
       "12 R         ZP03 71           375             2299             SIS4054421550\n",
       "13 R         ZP03 71           375             1910             SIS1203686609\n",
       "14 R         ZP03 71           375             1952             SIS4054421550"
      ]
     },
     "metadata": {},
     "output_type": "display_data"
    }
   ],
   "source": [
    "k_19pl71 <- k_19[k_19$PRODUCT_LINE == 71,]\n",
    "summary(k_19pl71)\n",
    "str(k_19pl71)\n",
    "head(k_19pl71)"
   ]
  },
  {
   "cell_type": "code",
   "execution_count": 23,
   "metadata": {},
   "outputs": [
    {
     "data": {
      "text/html": [
       "229198.5"
      ],
      "text/latex": [
       "229198.5"
      ],
      "text/markdown": [
       "229198.5"
      ],
      "text/plain": [
       "[1] 229198.5"
      ]
     },
     "metadata": {},
     "output_type": "display_data"
    }
   ],
   "source": [
    "(total_hrs <- sum(k_19pl71$HRS))"
   ]
  },
  {
   "cell_type": "code",
   "execution_count": 24,
   "metadata": {},
   "outputs": [
    {
     "data": {
      "text/html": [
       "<table>\n",
       "<caption>A tibble: 6 × 3</caption>\n",
       "<thead>\n",
       "\t<tr><th scope=col>OPERATION_NUM</th><th scope=col>op_hrs</th><th scope=col>count</th></tr>\n",
       "\t<tr><th scope=col>&lt;fct&gt;</th><th scope=col>&lt;dbl&gt;</th><th scope=col>&lt;int&gt;</th></tr>\n",
       "</thead>\n",
       "<tbody>\n",
       "\t<tr><td>10 </td><td>14703.00</td><td>26094</td></tr>\n",
       "\t<tr><td>40 </td><td>11301.65</td><td>28417</td></tr>\n",
       "\t<tr><td>110</td><td>10837.23</td><td>25509</td></tr>\n",
       "\t<tr><td>180</td><td>10447.56</td><td>26954</td></tr>\n",
       "\t<tr><td>20 </td><td> 9457.37</td><td>12644</td></tr>\n",
       "\t<tr><td>120</td><td> 9410.44</td><td>14727</td></tr>\n",
       "</tbody>\n",
       "</table>\n"
      ],
      "text/latex": [
       "A tibble: 6 × 3\n",
       "\\begin{tabular}{lll}\n",
       " OPERATION\\_NUM & op\\_hrs & count\\\\\n",
       " <fct> & <dbl> & <int>\\\\\n",
       "\\hline\n",
       "\t 10  & 14703.00 & 26094\\\\\n",
       "\t 40  & 11301.65 & 28417\\\\\n",
       "\t 110 & 10837.23 & 25509\\\\\n",
       "\t 180 & 10447.56 & 26954\\\\\n",
       "\t 20  &  9457.37 & 12644\\\\\n",
       "\t 120 &  9410.44 & 14727\\\\\n",
       "\\end{tabular}\n"
      ],
      "text/markdown": [
       "\n",
       "A tibble: 6 × 3\n",
       "\n",
       "| OPERATION_NUM &lt;fct&gt; | op_hrs &lt;dbl&gt; | count &lt;int&gt; |\n",
       "|---|---|---|\n",
       "| 10  | 14703.00 | 26094 |\n",
       "| 40  | 11301.65 | 28417 |\n",
       "| 110 | 10837.23 | 25509 |\n",
       "| 180 | 10447.56 | 26954 |\n",
       "| 20  |  9457.37 | 12644 |\n",
       "| 120 |  9410.44 | 14727 |\n",
       "\n"
      ],
      "text/plain": [
       "  OPERATION_NUM op_hrs   count\n",
       "1 10            14703.00 26094\n",
       "2 40            11301.65 28417\n",
       "3 110           10837.23 25509\n",
       "4 180           10447.56 26954\n",
       "5 20             9457.37 12644\n",
       "6 120            9410.44 14727"
      ]
     },
     "metadata": {},
     "output_type": "display_data"
    }
   ],
   "source": [
    "by_operation <- group_by(k_19pl71,OPERATION_NUM)\n",
    "A <- arrange(summarise(by_operation,op_hrs = sum(HRS),count = n()),op_hrs)\n",
    "head(arrange(A,desc(op_hrs)))"
   ]
  },
  {
   "cell_type": "code",
   "execution_count": 25,
   "metadata": {},
   "outputs": [
    {
     "data": {
      "text/html": [
       "<table>\n",
       "<caption>A tibble: 6 × 3</caption>\n",
       "<thead>\n",
       "\t<tr><th scope=col>ROUTING_GROUP_ID</th><th scope=col>part_hrs</th><th scope=col>count</th></tr>\n",
       "\t<tr><th scope=col>&lt;fct&gt;</th><th scope=col>&lt;dbl&gt;</th><th scope=col>&lt;int&gt;</th></tr>\n",
       "</thead>\n",
       "<tbody>\n",
       "\t<tr><td>1709</td><td>37950.90</td><td>239921</td></tr>\n",
       "\t<tr><td>1636</td><td>32119.51</td><td> 85552</td></tr>\n",
       "\t<tr><td>2292</td><td> 8508.39</td><td> 39893</td></tr>\n",
       "\t<tr><td>2044</td><td> 4863.40</td><td> 21340</td></tr>\n",
       "\t<tr><td>1915</td><td> 4598.19</td><td> 14801</td></tr>\n",
       "\t<tr><td>1995</td><td> 3868.27</td><td> 14045</td></tr>\n",
       "</tbody>\n",
       "</table>\n"
      ],
      "text/latex": [
       "A tibble: 6 × 3\n",
       "\\begin{tabular}{lll}\n",
       " ROUTING\\_GROUP\\_ID & part\\_hrs & count\\\\\n",
       " <fct> & <dbl> & <int>\\\\\n",
       "\\hline\n",
       "\t 1709 & 37950.90 & 239921\\\\\n",
       "\t 1636 & 32119.51 &  85552\\\\\n",
       "\t 2292 &  8508.39 &  39893\\\\\n",
       "\t 2044 &  4863.40 &  21340\\\\\n",
       "\t 1915 &  4598.19 &  14801\\\\\n",
       "\t 1995 &  3868.27 &  14045\\\\\n",
       "\\end{tabular}\n"
      ],
      "text/markdown": [
       "\n",
       "A tibble: 6 × 3\n",
       "\n",
       "| ROUTING_GROUP_ID &lt;fct&gt; | part_hrs &lt;dbl&gt; | count &lt;int&gt; |\n",
       "|---|---|---|\n",
       "| 1709 | 37950.90 | 239921 |\n",
       "| 1636 | 32119.51 |  85552 |\n",
       "| 2292 |  8508.39 |  39893 |\n",
       "| 2044 |  4863.40 |  21340 |\n",
       "| 1915 |  4598.19 |  14801 |\n",
       "| 1995 |  3868.27 |  14045 |\n",
       "\n"
      ],
      "text/plain": [
       "  ROUTING_GROUP_ID part_hrs count \n",
       "1 1709             37950.90 239921\n",
       "2 1636             32119.51  85552\n",
       "3 2292              8508.39  39893\n",
       "4 2044              4863.40  21340\n",
       "5 1915              4598.19  14801\n",
       "6 1995              3868.27  14045"
      ]
     },
     "metadata": {},
     "output_type": "display_data"
    }
   ],
   "source": [
    "by_part <- group_by(k_19pl71,ROUTING_GROUP_ID)\n",
    "B <- arrange(summarise(by_part,part_hrs = sum(HRS),count = n()),part_hrs)\n",
    "head(arrange(B,desc(part_hrs)))"
   ]
  },
  {
   "cell_type": "code",
   "execution_count": 26,
   "metadata": {},
   "outputs": [
    {
     "data": {
      "text/html": [
       "<table>\n",
       "<caption>A tibble: 6 × 3</caption>\n",
       "<thead>\n",
       "\t<tr><th scope=col>DOC</th><th scope=col>doc_hrs</th><th scope=col>count</th></tr>\n",
       "\t<tr><th scope=col>&lt;fct&gt;</th><th scope=col>&lt;dbl&gt;</th><th scope=col>&lt;int&gt;</th></tr>\n",
       "</thead>\n",
       "<tbody>\n",
       "\t<tr><td>M101090</td><td>36058.56</td><td>93660</td></tr>\n",
       "\t<tr><td>M101095</td><td>35721.22</td><td>79192</td></tr>\n",
       "\t<tr><td>M102678</td><td>27269.55</td><td>69461</td></tr>\n",
       "\t<tr><td>M102114</td><td> 7881.28</td><td>19037</td></tr>\n",
       "\t<tr><td>M114327</td><td> 6241.62</td><td> 9126</td></tr>\n",
       "\t<tr><td>M101086</td><td> 5638.66</td><td>14640</td></tr>\n",
       "</tbody>\n",
       "</table>\n"
      ],
      "text/latex": [
       "A tibble: 6 × 3\n",
       "\\begin{tabular}{lll}\n",
       " DOC & doc\\_hrs & count\\\\\n",
       " <fct> & <dbl> & <int>\\\\\n",
       "\\hline\n",
       "\t M101090 & 36058.56 & 93660\\\\\n",
       "\t M101095 & 35721.22 & 79192\\\\\n",
       "\t M102678 & 27269.55 & 69461\\\\\n",
       "\t M102114 &  7881.28 & 19037\\\\\n",
       "\t M114327 &  6241.62 &  9126\\\\\n",
       "\t M101086 &  5638.66 & 14640\\\\\n",
       "\\end{tabular}\n"
      ],
      "text/markdown": [
       "\n",
       "A tibble: 6 × 3\n",
       "\n",
       "| DOC &lt;fct&gt; | doc_hrs &lt;dbl&gt; | count &lt;int&gt; |\n",
       "|---|---|---|\n",
       "| M101090 | 36058.56 | 93660 |\n",
       "| M101095 | 35721.22 | 79192 |\n",
       "| M102678 | 27269.55 | 69461 |\n",
       "| M102114 |  7881.28 | 19037 |\n",
       "| M114327 |  6241.62 |  9126 |\n",
       "| M101086 |  5638.66 | 14640 |\n",
       "\n"
      ],
      "text/plain": [
       "  DOC     doc_hrs  count\n",
       "1 M101090 36058.56 93660\n",
       "2 M101095 35721.22 79192\n",
       "3 M102678 27269.55 69461\n",
       "4 M102114  7881.28 19037\n",
       "5 M114327  6241.62  9126\n",
       "6 M101086  5638.66 14640"
      ]
     },
     "metadata": {},
     "output_type": "display_data"
    }
   ],
   "source": [
    "by_doc <- group_by(k_19pl71,DOC)\n",
    "B <- arrange(summarise(by_doc,doc_hrs = sum(HRS),count = n()),doc_hrs)\n",
    "head(arrange(B,desc(doc_hrs)))"
   ]
  },
  {
   "cell_type": "code",
   "execution_count": 27,
   "metadata": {},
   "outputs": [
    {
     "data": {
      "text/html": [
       "<table>\n",
       "<caption>A tibble: 6 × 3</caption>\n",
       "<thead>\n",
       "\t<tr><th scope=col>EMP_NUM</th><th scope=col>emp_hrs</th><th scope=col>count</th></tr>\n",
       "\t<tr><th scope=col>&lt;fct&gt;</th><th scope=col>&lt;dbl&gt;</th><th scope=col>&lt;int&gt;</th></tr>\n",
       "</thead>\n",
       "<tbody>\n",
       "\t<tr><td>847809</td><td>2380.38</td><td> 4075</td></tr>\n",
       "\t<tr><td>840677</td><td>2354.13</td><td> 1959</td></tr>\n",
       "\t<tr><td>848182</td><td>2220.98</td><td> 1365</td></tr>\n",
       "\t<tr><td>818884</td><td>2148.23</td><td>12425</td></tr>\n",
       "\t<tr><td>821953</td><td>2134.08</td><td> 5723</td></tr>\n",
       "\t<tr><td>875991</td><td>2076.74</td><td> 1897</td></tr>\n",
       "</tbody>\n",
       "</table>\n"
      ],
      "text/latex": [
       "A tibble: 6 × 3\n",
       "\\begin{tabular}{lll}\n",
       " EMP\\_NUM & emp\\_hrs & count\\\\\n",
       " <fct> & <dbl> & <int>\\\\\n",
       "\\hline\n",
       "\t 847809 & 2380.38 &  4075\\\\\n",
       "\t 840677 & 2354.13 &  1959\\\\\n",
       "\t 848182 & 2220.98 &  1365\\\\\n",
       "\t 818884 & 2148.23 & 12425\\\\\n",
       "\t 821953 & 2134.08 &  5723\\\\\n",
       "\t 875991 & 2076.74 &  1897\\\\\n",
       "\\end{tabular}\n"
      ],
      "text/markdown": [
       "\n",
       "A tibble: 6 × 3\n",
       "\n",
       "| EMP_NUM &lt;fct&gt; | emp_hrs &lt;dbl&gt; | count &lt;int&gt; |\n",
       "|---|---|---|\n",
       "| 847809 | 2380.38 |  4075 |\n",
       "| 840677 | 2354.13 |  1959 |\n",
       "| 848182 | 2220.98 |  1365 |\n",
       "| 818884 | 2148.23 | 12425 |\n",
       "| 821953 | 2134.08 |  5723 |\n",
       "| 875991 | 2076.74 |  1897 |\n",
       "\n"
      ],
      "text/plain": [
       "  EMP_NUM emp_hrs count\n",
       "1 847809  2380.38  4075\n",
       "2 840677  2354.13  1959\n",
       "3 848182  2220.98  1365\n",
       "4 818884  2148.23 12425\n",
       "5 821953  2134.08  5723\n",
       "6 875991  2076.74  1897"
      ]
     },
     "metadata": {},
     "output_type": "display_data"
    }
   ],
   "source": [
    "by_emp <-  group_by(k_19pl71,EMP_NUM)\n",
    "C <- arrange(summarise(by_emp,emp_hrs = sum(HRS),count = n()),emp_hrs)\n",
    "head(arrange(C,desc(emp_hrs)))"
   ]
  },
  {
   "cell_type": "code",
   "execution_count": null,
   "metadata": {},
   "outputs": [],
   "source": []
  }
 ],
 "metadata": {
  "kernelspec": {
   "display_name": "R",
   "language": "R",
   "name": "ir"
  },
  "language_info": {
   "codemirror_mode": "r",
   "file_extension": ".r",
   "mimetype": "text/x-r-source",
   "name": "R",
   "pygments_lexer": "r",
   "version": "3.6.1"
  }
 },
 "nbformat": 4,
 "nbformat_minor": 2
}
