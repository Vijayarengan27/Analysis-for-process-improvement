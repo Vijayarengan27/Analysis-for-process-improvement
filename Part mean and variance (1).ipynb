{
 "cells": [
  {
   "cell_type": "code",
   "execution_count": 1,
   "metadata": {},
   "outputs": [
    {
     "name": "stderr",
     "output_type": "stream",
     "text": [
      "Loading required package: tidyverse\n",
      "\n",
      "Warning message:\n",
      "\"package 'tidyverse' was built under R version 3.6.2\"\n",
      "-- \u001b[1mAttaching packages\u001b[22m --------------------------------------- tidyverse 1.3.0 --\n",
      "\n",
      "\u001b[32mv\u001b[39m \u001b[34mggplot2\u001b[39m 3.3.0     \u001b[32mv\u001b[39m \u001b[34mpurrr  \u001b[39m 0.3.3\n",
      "\u001b[32mv\u001b[39m \u001b[34mtibble \u001b[39m 2.1.3     \u001b[32mv\u001b[39m \u001b[34mdplyr  \u001b[39m 0.8.3\n",
      "\u001b[32mv\u001b[39m \u001b[34mtidyr  \u001b[39m 1.0.0     \u001b[32mv\u001b[39m \u001b[34mstringr\u001b[39m 1.4.0\n",
      "\u001b[32mv\u001b[39m \u001b[34mreadr  \u001b[39m 1.3.1     \u001b[32mv\u001b[39m \u001b[34mforcats\u001b[39m 0.4.0\n",
      "\n",
      "Warning message:\n",
      "\"package 'ggplot2' was built under R version 3.6.3\"\n",
      "Warning message:\n",
      "\"package 'purrr' was built under R version 3.6.2\"\n",
      "-- \u001b[1mConflicts\u001b[22m ------------------------------------------ tidyverse_conflicts() --\n",
      "\u001b[31mx\u001b[39m \u001b[34mdplyr\u001b[39m::\u001b[32mfilter()\u001b[39m masks \u001b[34mstats\u001b[39m::filter()\n",
      "\u001b[31mx\u001b[39m \u001b[34mdplyr\u001b[39m::\u001b[32mlag()\u001b[39m    masks \u001b[34mstats\u001b[39m::lag()\n",
      "\n"
     ]
    }
   ],
   "source": [
    "require(tidyverse)"
   ]
  },
  {
   "cell_type": "code",
   "execution_count": 2,
   "metadata": {},
   "outputs": [],
   "source": [
    "k_17 <- read.csv(\"table_export_DATA_2017.csv\")"
   ]
  },
  {
   "cell_type": "code",
   "execution_count": 3,
   "metadata": {},
   "outputs": [],
   "source": [
    "k_17$POST_DATE <- as.Date(k_17$POST_DATE)\n",
    "k_17$EMP_NUM <- as.factor(k_17$EMP_NUM)\n",
    "k_17$SUP_EMP_NUM <- as.factor(k_17$SUP_EMP_NUM)\n",
    "k_17$WORK_ORDER <- as.factor(k_17$WORK_ORDER)\n",
    "k_17$OPERATION_NUM <- as.factor(k_17$OPERATION_NUM)\n",
    "k_17$PRODUCT_LINE <- as.factor(k_17$PRODUCT_LINE)\n",
    "k_17$PRODUCT_CELL_ID <- as.factor(k_17$PRODUCT_CELL_ID)\n",
    "k_17$ROUTING_GROUP_ID <- as.factor(k_17$ROUTING_GROUP_ID)\n",
    "k_17$DOC <- as.factor(k_17$DOC)"
   ]
  },
  {
   "cell_type": "code",
   "execution_count": 4,
   "metadata": {},
   "outputs": [
    {
     "data": {
      "text/plain": [
       "   POST_DATE             EMP_NUM         SUP_EMP_NUM          WORK_ORDER     \n",
       " Min.   :0001-01-20   818888 :  15207   823708 : 168120   161188043:    130  \n",
       " 1st Qu.:0004-04-20   841336 :  12751   824077 : 121118   161147650:    122  \n",
       " Median :0006-12-20   827944 :  11485   840323 : 106048   161036195:    119  \n",
       " Mean   :0007-03-10   818954 :  11061   845260 : 104003   161239155:    116  \n",
       " 3rd Qu.:0010-04-20   825513 :  10606   818933 : 103368   161298781:    116  \n",
       " Max.   :0012-12-20   837189 :  10505   (Other):1013914   161277191:    114  \n",
       " NA's   :1010167      (Other):1545093   NA's   :    137   (Other)  :1615991  \n",
       " OPERATION_NUM        QUANTITY             HRS           HRS_CLASS  \n",
       " 10     : 104044   Min.   :   1.000   Min.   :-40.0000   R:1373280  \n",
       " 30     :  81730   1st Qu.:   1.000   1st Qu.:  0.1100   S:     10  \n",
       " 20     :  80329   Median :   2.000   Median :  0.2400   T: 243403  \n",
       " 50     :  78450   Mean   :   6.511   Mean   :  0.4162   V:     15  \n",
       " 40     :  73611   3rd Qu.:   6.000   3rd Qu.:  0.5100              \n",
       " 60     :  64705   Max.   :1184.000   Max.   : 40.0000              \n",
       " (Other):1133839   NA's   :3                                        \n",
       "   TYPE          PRODUCT_LINE    PRODUCT_CELL_ID   ROUTING_GROUP_ID \n",
       "     :      1   71     :409103   384    : 120352   1586   : 109829  \n",
       " ZP03:1609396   57     :192332   321    :  92816   1636   :  62948  \n",
       " ZP06:   1116   55     :176688   353    :  70843   728    :  34554  \n",
       " ZRTN:   3312   28     :138257   383    :  63827   2292   :  26728  \n",
       " ZRW3:   2860   76     :108175   1621   :  56986   2488   :  24678  \n",
       " ZRW6:     23   25     : 77661   399    :  46985   1240   :  24079  \n",
       "                (Other):514492   (Other):1164899   (Other):1333892  \n",
       "      DOC             HRS_part       \n",
       " M102678:  52481   Min.   :-40.0000  \n",
       " M101090:  36588   1st Qu.:  0.0340  \n",
       " M119411:  36259   Median :  0.0980  \n",
       " M114136:  35455   Mean   :  0.1996  \n",
       " M101095:  33470   3rd Qu.:  0.2300  \n",
       " M115907:  22192   Max.   : 40.0000  \n",
       " (Other):1400263   NA's   :3         "
      ]
     },
     "metadata": {},
     "output_type": "display_data"
    }
   ],
   "source": [
    "k_17 <- mutate(k_17,HRS_part = HRS/QUANTITY)\n",
    "\n",
    "summary(k_17)"
   ]
  },
  {
   "cell_type": "code",
   "execution_count": 5,
   "metadata": {},
   "outputs": [
    {
     "data": {
      "text/html": [
       "<table>\n",
       "<caption>A data.frame: 1 × 14</caption>\n",
       "<thead>\n",
       "\t<tr><th></th><th scope=col>POST_DATE</th><th scope=col>EMP_NUM</th><th scope=col>SUP_EMP_NUM</th><th scope=col>WORK_ORDER</th><th scope=col>OPERATION_NUM</th><th scope=col>QUANTITY</th><th scope=col>HRS</th><th scope=col>HRS_CLASS</th><th scope=col>TYPE</th><th scope=col>PRODUCT_LINE</th><th scope=col>PRODUCT_CELL_ID</th><th scope=col>ROUTING_GROUP_ID</th><th scope=col>DOC</th><th scope=col>HRS_part</th></tr>\n",
       "\t<tr><th></th><th scope=col>&lt;date&gt;</th><th scope=col>&lt;fct&gt;</th><th scope=col>&lt;fct&gt;</th><th scope=col>&lt;fct&gt;</th><th scope=col>&lt;fct&gt;</th><th scope=col>&lt;int&gt;</th><th scope=col>&lt;dbl&gt;</th><th scope=col>&lt;fct&gt;</th><th scope=col>&lt;fct&gt;</th><th scope=col>&lt;fct&gt;</th><th scope=col>&lt;fct&gt;</th><th scope=col>&lt;fct&gt;</th><th scope=col>&lt;fct&gt;</th><th scope=col>&lt;dbl&gt;</th></tr>\n",
       "</thead>\n",
       "<tbody>\n",
       "\t<tr><th scope=row>112933</th><td>0002-01-20</td><td>825013</td><td>824132</td><td>17023316</td><td>100</td><td>NA</td><td>0.1</td><td>R</td><td></td><td>59</td><td>351</td><td>3442</td><td>M100132</td><td>NA</td></tr>\n",
       "</tbody>\n",
       "</table>\n"
      ],
      "text/latex": [
       "A data.frame: 1 × 14\n",
       "\\begin{tabular}{r|llllllllllllll}\n",
       "  & POST\\_DATE & EMP\\_NUM & SUP\\_EMP\\_NUM & WORK\\_ORDER & OPERATION\\_NUM & QUANTITY & HRS & HRS\\_CLASS & TYPE & PRODUCT\\_LINE & PRODUCT\\_CELL\\_ID & ROUTING\\_GROUP\\_ID & DOC & HRS\\_part\\\\\n",
       "  & <date> & <fct> & <fct> & <fct> & <fct> & <int> & <dbl> & <fct> & <fct> & <fct> & <fct> & <fct> & <fct> & <dbl>\\\\\n",
       "\\hline\n",
       "\t112933 & 0002-01-20 & 825013 & 824132 & 17023316 & 100 & NA & 0.1 & R &  & 59 & 351 & 3442 & M100132 & NA\\\\\n",
       "\\end{tabular}\n"
      ],
      "text/markdown": [
       "\n",
       "A data.frame: 1 × 14\n",
       "\n",
       "| <!--/--> | POST_DATE &lt;date&gt; | EMP_NUM &lt;fct&gt; | SUP_EMP_NUM &lt;fct&gt; | WORK_ORDER &lt;fct&gt; | OPERATION_NUM &lt;fct&gt; | QUANTITY &lt;int&gt; | HRS &lt;dbl&gt; | HRS_CLASS &lt;fct&gt; | TYPE &lt;fct&gt; | PRODUCT_LINE &lt;fct&gt; | PRODUCT_CELL_ID &lt;fct&gt; | ROUTING_GROUP_ID &lt;fct&gt; | DOC &lt;fct&gt; | HRS_part &lt;dbl&gt; |\n",
       "|---|---|---|---|---|---|---|---|---|---|---|---|---|---|---|\n",
       "| 112933 | 0002-01-20 | 825013 | 824132 | 17023316 | 100 | NA | 0.1 | R | <!----> | 59 | 351 | 3442 | M100132 | NA |\n",
       "\n"
      ],
      "text/plain": [
       "       POST_DATE  EMP_NUM SUP_EMP_NUM WORK_ORDER OPERATION_NUM QUANTITY HRS\n",
       "112933 0002-01-20 825013  824132      17023316   100           NA       0.1\n",
       "       HRS_CLASS TYPE PRODUCT_LINE PRODUCT_CELL_ID ROUTING_GROUP_ID DOC    \n",
       "112933 R              59           351             3442             M100132\n",
       "       HRS_part\n",
       "112933 NA      "
      ]
     },
     "metadata": {},
     "output_type": "display_data"
    },
    {
     "data": {
      "text/html": [
       "<table>\n",
       "<caption>A data.frame: 1 × 14</caption>\n",
       "<thead>\n",
       "\t<tr><th></th><th scope=col>POST_DATE</th><th scope=col>EMP_NUM</th><th scope=col>SUP_EMP_NUM</th><th scope=col>WORK_ORDER</th><th scope=col>OPERATION_NUM</th><th scope=col>QUANTITY</th><th scope=col>HRS</th><th scope=col>HRS_CLASS</th><th scope=col>TYPE</th><th scope=col>PRODUCT_LINE</th><th scope=col>PRODUCT_CELL_ID</th><th scope=col>ROUTING_GROUP_ID</th><th scope=col>DOC</th><th scope=col>HRS_part</th></tr>\n",
       "\t<tr><th></th><th scope=col>&lt;date&gt;</th><th scope=col>&lt;fct&gt;</th><th scope=col>&lt;fct&gt;</th><th scope=col>&lt;fct&gt;</th><th scope=col>&lt;fct&gt;</th><th scope=col>&lt;int&gt;</th><th scope=col>&lt;dbl&gt;</th><th scope=col>&lt;fct&gt;</th><th scope=col>&lt;fct&gt;</th><th scope=col>&lt;fct&gt;</th><th scope=col>&lt;fct&gt;</th><th scope=col>&lt;fct&gt;</th><th scope=col>&lt;fct&gt;</th><th scope=col>&lt;dbl&gt;</th></tr>\n",
       "</thead>\n",
       "<tbody>\n",
       "\t<tr><th scope=row>526543</th><td>0005-03-20</td><td>837826</td><td>824306</td><td>161151014</td><td>10</td><td>NA</td><td>5.57</td><td>R</td><td>ZRW3</td><td>68</td><td>316</td><td>3065</td><td>M118594</td><td>NA</td></tr>\n",
       "</tbody>\n",
       "</table>\n"
      ],
      "text/latex": [
       "A data.frame: 1 × 14\n",
       "\\begin{tabular}{r|llllllllllllll}\n",
       "  & POST\\_DATE & EMP\\_NUM & SUP\\_EMP\\_NUM & WORK\\_ORDER & OPERATION\\_NUM & QUANTITY & HRS & HRS\\_CLASS & TYPE & PRODUCT\\_LINE & PRODUCT\\_CELL\\_ID & ROUTING\\_GROUP\\_ID & DOC & HRS\\_part\\\\\n",
       "  & <date> & <fct> & <fct> & <fct> & <fct> & <int> & <dbl> & <fct> & <fct> & <fct> & <fct> & <fct> & <fct> & <dbl>\\\\\n",
       "\\hline\n",
       "\t526543 & 0005-03-20 & 837826 & 824306 & 161151014 & 10 & NA & 5.57 & R & ZRW3 & 68 & 316 & 3065 & M118594 & NA\\\\\n",
       "\\end{tabular}\n"
      ],
      "text/markdown": [
       "\n",
       "A data.frame: 1 × 14\n",
       "\n",
       "| <!--/--> | POST_DATE &lt;date&gt; | EMP_NUM &lt;fct&gt; | SUP_EMP_NUM &lt;fct&gt; | WORK_ORDER &lt;fct&gt; | OPERATION_NUM &lt;fct&gt; | QUANTITY &lt;int&gt; | HRS &lt;dbl&gt; | HRS_CLASS &lt;fct&gt; | TYPE &lt;fct&gt; | PRODUCT_LINE &lt;fct&gt; | PRODUCT_CELL_ID &lt;fct&gt; | ROUTING_GROUP_ID &lt;fct&gt; | DOC &lt;fct&gt; | HRS_part &lt;dbl&gt; |\n",
       "|---|---|---|---|---|---|---|---|---|---|---|---|---|---|---|\n",
       "| 526543 | 0005-03-20 | 837826 | 824306 | 161151014 | 10 | NA | 5.57 | R | ZRW3 | 68 | 316 | 3065 | M118594 | NA |\n",
       "\n"
      ],
      "text/plain": [
       "       POST_DATE  EMP_NUM SUP_EMP_NUM WORK_ORDER OPERATION_NUM QUANTITY HRS \n",
       "526543 0005-03-20 837826  824306      161151014  10            NA       5.57\n",
       "       HRS_CLASS TYPE PRODUCT_LINE PRODUCT_CELL_ID ROUTING_GROUP_ID DOC    \n",
       "526543 R         ZRW3 68           316             3065             M118594\n",
       "       HRS_part\n",
       "526543 NA      "
      ]
     },
     "metadata": {},
     "output_type": "display_data"
    },
    {
     "data": {
      "text/html": [
       "<table>\n",
       "<caption>A data.frame: 1 × 14</caption>\n",
       "<thead>\n",
       "\t<tr><th></th><th scope=col>POST_DATE</th><th scope=col>EMP_NUM</th><th scope=col>SUP_EMP_NUM</th><th scope=col>WORK_ORDER</th><th scope=col>OPERATION_NUM</th><th scope=col>QUANTITY</th><th scope=col>HRS</th><th scope=col>HRS_CLASS</th><th scope=col>TYPE</th><th scope=col>PRODUCT_LINE</th><th scope=col>PRODUCT_CELL_ID</th><th scope=col>ROUTING_GROUP_ID</th><th scope=col>DOC</th><th scope=col>HRS_part</th></tr>\n",
       "\t<tr><th></th><th scope=col>&lt;date&gt;</th><th scope=col>&lt;fct&gt;</th><th scope=col>&lt;fct&gt;</th><th scope=col>&lt;fct&gt;</th><th scope=col>&lt;fct&gt;</th><th scope=col>&lt;int&gt;</th><th scope=col>&lt;dbl&gt;</th><th scope=col>&lt;fct&gt;</th><th scope=col>&lt;fct&gt;</th><th scope=col>&lt;fct&gt;</th><th scope=col>&lt;fct&gt;</th><th scope=col>&lt;fct&gt;</th><th scope=col>&lt;fct&gt;</th><th scope=col>&lt;dbl&gt;</th></tr>\n",
       "</thead>\n",
       "<tbody>\n",
       "\t<tr><th scope=row>532902</th><td>0005-04-20</td><td>818741</td><td>824306</td><td>161151014</td><td>10</td><td>NA</td><td>0.6</td><td>R</td><td>ZRW3</td><td>68</td><td>316</td><td>3065</td><td>M118594</td><td>NA</td></tr>\n",
       "</tbody>\n",
       "</table>\n"
      ],
      "text/latex": [
       "A data.frame: 1 × 14\n",
       "\\begin{tabular}{r|llllllllllllll}\n",
       "  & POST\\_DATE & EMP\\_NUM & SUP\\_EMP\\_NUM & WORK\\_ORDER & OPERATION\\_NUM & QUANTITY & HRS & HRS\\_CLASS & TYPE & PRODUCT\\_LINE & PRODUCT\\_CELL\\_ID & ROUTING\\_GROUP\\_ID & DOC & HRS\\_part\\\\\n",
       "  & <date> & <fct> & <fct> & <fct> & <fct> & <int> & <dbl> & <fct> & <fct> & <fct> & <fct> & <fct> & <fct> & <dbl>\\\\\n",
       "\\hline\n",
       "\t532902 & 0005-04-20 & 818741 & 824306 & 161151014 & 10 & NA & 0.6 & R & ZRW3 & 68 & 316 & 3065 & M118594 & NA\\\\\n",
       "\\end{tabular}\n"
      ],
      "text/markdown": [
       "\n",
       "A data.frame: 1 × 14\n",
       "\n",
       "| <!--/--> | POST_DATE &lt;date&gt; | EMP_NUM &lt;fct&gt; | SUP_EMP_NUM &lt;fct&gt; | WORK_ORDER &lt;fct&gt; | OPERATION_NUM &lt;fct&gt; | QUANTITY &lt;int&gt; | HRS &lt;dbl&gt; | HRS_CLASS &lt;fct&gt; | TYPE &lt;fct&gt; | PRODUCT_LINE &lt;fct&gt; | PRODUCT_CELL_ID &lt;fct&gt; | ROUTING_GROUP_ID &lt;fct&gt; | DOC &lt;fct&gt; | HRS_part &lt;dbl&gt; |\n",
       "|---|---|---|---|---|---|---|---|---|---|---|---|---|---|---|\n",
       "| 532902 | 0005-04-20 | 818741 | 824306 | 161151014 | 10 | NA | 0.6 | R | ZRW3 | 68 | 316 | 3065 | M118594 | NA |\n",
       "\n"
      ],
      "text/plain": [
       "       POST_DATE  EMP_NUM SUP_EMP_NUM WORK_ORDER OPERATION_NUM QUANTITY HRS\n",
       "532902 0005-04-20 818741  824306      161151014  10            NA       0.6\n",
       "       HRS_CLASS TYPE PRODUCT_LINE PRODUCT_CELL_ID ROUTING_GROUP_ID DOC    \n",
       "532902 R         ZRW3 68           316             3065             M118594\n",
       "       HRS_part\n",
       "532902 NA      "
      ]
     },
     "metadata": {},
     "output_type": "display_data"
    }
   ],
   "source": [
    "a <- as.matrix(which(is.na(k_17$QUANTITY)))\n",
    "k_17[a[1],]\n",
    "k_17[a[2],]\n",
    "k_17[a[3],]"
   ]
  },
  {
   "cell_type": "code",
   "execution_count": 6,
   "metadata": {},
   "outputs": [],
   "source": [
    "k_17 <- k_17[-a[1],]\n",
    "k_17 <- k_17[-(a[2]-1),]\n",
    "k_17 <- k_17[-(a[3]-2),]"
   ]
  },
  {
   "cell_type": "code",
   "execution_count": 7,
   "metadata": {},
   "outputs": [
    {
     "data": {
      "text/html": [
       "0"
      ],
      "text/latex": [
       "0"
      ],
      "text/markdown": [
       "0"
      ],
      "text/plain": [
       "[1] 0"
      ]
     },
     "metadata": {},
     "output_type": "display_data"
    }
   ],
   "source": [
    "sum(is.na(k_17$QUANTITY))"
   ]
  },
  {
   "cell_type": "code",
   "execution_count": 8,
   "metadata": {},
   "outputs": [
    {
     "data": {
      "text/html": [
       "<table>\n",
       "<caption>A tibble: 6 × 3</caption>\n",
       "<thead>\n",
       "\t<tr><th scope=col>ROUTING_GROUP_ID</th><th scope=col>op_hrs</th><th scope=col>count</th></tr>\n",
       "\t<tr><th scope=col>&lt;fct&gt;</th><th scope=col>&lt;dbl&gt;</th><th scope=col>&lt;int&gt;</th></tr>\n",
       "</thead>\n",
       "<tbody>\n",
       "\t<tr><td>1586</td><td>19064.070</td><td>109829</td></tr>\n",
       "\t<tr><td>728 </td><td>14225.270</td><td> 34554</td></tr>\n",
       "\t<tr><td>141 </td><td> 9389.947</td><td> 23208</td></tr>\n",
       "\t<tr><td>2488</td><td> 7856.446</td><td> 24678</td></tr>\n",
       "\t<tr><td>1636</td><td> 6061.211</td><td> 62948</td></tr>\n",
       "\t<tr><td>641 </td><td> 5911.900</td><td> 14409</td></tr>\n",
       "</tbody>\n",
       "</table>\n"
      ],
      "text/latex": [
       "A tibble: 6 × 3\n",
       "\\begin{tabular}{lll}\n",
       " ROUTING\\_GROUP\\_ID & op\\_hrs & count\\\\\n",
       " <fct> & <dbl> & <int>\\\\\n",
       "\\hline\n",
       "\t 1586 & 19064.070 & 109829\\\\\n",
       "\t 728  & 14225.270 &  34554\\\\\n",
       "\t 141  &  9389.947 &  23208\\\\\n",
       "\t 2488 &  7856.446 &  24678\\\\\n",
       "\t 1636 &  6061.211 &  62948\\\\\n",
       "\t 641  &  5911.900 &  14409\\\\\n",
       "\\end{tabular}\n"
      ],
      "text/markdown": [
       "\n",
       "A tibble: 6 × 3\n",
       "\n",
       "| ROUTING_GROUP_ID &lt;fct&gt; | op_hrs &lt;dbl&gt; | count &lt;int&gt; |\n",
       "|---|---|---|\n",
       "| 1586 | 19064.070 | 109829 |\n",
       "| 728  | 14225.270 |  34554 |\n",
       "| 141  |  9389.947 |  23208 |\n",
       "| 2488 |  7856.446 |  24678 |\n",
       "| 1636 |  6061.211 |  62948 |\n",
       "| 641  |  5911.900 |  14409 |\n",
       "\n"
      ],
      "text/plain": [
       "  ROUTING_GROUP_ID op_hrs    count \n",
       "1 1586             19064.070 109829\n",
       "2 728              14225.270  34554\n",
       "3 141               9389.947  23208\n",
       "4 2488              7856.446  24678\n",
       "5 1636              6061.211  62948\n",
       "6 641               5911.900  14409"
      ]
     },
     "metadata": {},
     "output_type": "display_data"
    },
    {
     "data": {
      "text/html": [
       "<table>\n",
       "<caption>A tibble: 1 × 3</caption>\n",
       "<thead>\n",
       "\t<tr><th scope=col>ROUTING_GROUP_ID</th><th scope=col>op_hrs</th><th scope=col>count</th></tr>\n",
       "\t<tr><th scope=col>&lt;fct&gt;</th><th scope=col>&lt;dbl&gt;</th><th scope=col>&lt;int&gt;</th></tr>\n",
       "</thead>\n",
       "<tbody>\n",
       "\t<tr><td>1709</td><td>1799.801</td><td>9637</td></tr>\n",
       "</tbody>\n",
       "</table>\n"
      ],
      "text/latex": [
       "A tibble: 1 × 3\n",
       "\\begin{tabular}{lll}\n",
       " ROUTING\\_GROUP\\_ID & op\\_hrs & count\\\\\n",
       " <fct> & <dbl> & <int>\\\\\n",
       "\\hline\n",
       "\t 1709 & 1799.801 & 9637\\\\\n",
       "\\end{tabular}\n"
      ],
      "text/markdown": [
       "\n",
       "A tibble: 1 × 3\n",
       "\n",
       "| ROUTING_GROUP_ID &lt;fct&gt; | op_hrs &lt;dbl&gt; | count &lt;int&gt; |\n",
       "|---|---|---|\n",
       "| 1709 | 1799.801 | 9637 |\n",
       "\n"
      ],
      "text/plain": [
       "  ROUTING_GROUP_ID op_hrs   count\n",
       "1 1709             1799.801 9637 "
      ]
     },
     "metadata": {},
     "output_type": "display_data"
    }
   ],
   "source": [
    "by_part <- group_by(k_17,ROUTING_GROUP_ID)\n",
    "A <- arrange(summarise(by_part,op_hrs = sum(HRS_part),count = n()),op_hrs)\n",
    "head(arrange(A,desc(op_hrs)))\n",
    "A[A$ROUTING_GROUP_ID == '1709',]"
   ]
  },
  {
   "cell_type": "code",
   "execution_count": 9,
   "metadata": {},
   "outputs": [],
   "source": [
    "part1 <- k_17[k_17$ROUTING_GROUP_ID == '1586',]\n",
    "part2 <- k_17[k_17$ROUTING_GROUP_ID == '728',]\n",
    "part3 <- k_17[k_17$ROUTING_GROUP_ID == '141',]\n",
    "part4 <- k_17[k_17$ROUTING_GROUP_ID == '2488',]\n",
    "part5 <- k_17[k_17$ROUTING_GROUP_ID == '1709',]"
   ]
  },
  {
   "cell_type": "code",
   "execution_count": 10,
   "metadata": {},
   "outputs": [
    {
     "data": {
      "text/plain": [
       "   POST_DATE             EMP_NUM       SUP_EMP_NUM        WORK_ORDER    \n",
       " Min.   :0001-02-20   841336 :10716   837146 :28826   161853646:    54  \n",
       " 1st Qu.:0004-05-20   823399 : 9319   845260 :27682   161495531:    53  \n",
       " Median :0006-08-20   818800 : 8853   843499 :17591   161770777:    51  \n",
       " Mean   :0007-02-28   837189 : 7852   838240 :12673   161954063:    51  \n",
       " 3rd Qu.:0010-05-20   837987 : 5739   849257 :10639   161741902:    50  \n",
       " Max.   :0012-12-20   840822 : 5451   824132 : 4605   161770781:    50  \n",
       " NA's   :68025        (Other):61899   (Other): 7813   (Other)  :109520  \n",
       " OPERATION_NUM      QUANTITY      HRS          HRS_CLASS   TYPE       \n",
       " 160    :10224   Min.   :1   Min.   :-4.1300   R:93391       :     0  \n",
       " 150    : 9849   1st Qu.:1   1st Qu.: 0.0500   S:    0   ZP03:109748  \n",
       " 10     : 8640   Median :1   Median : 0.1000   T:16438   ZP06:     0  \n",
       " 110    : 8293   Mean   :1   Mean   : 0.1736   V:    0   ZRTN:     0  \n",
       " 340    : 5238   3rd Qu.:1   3rd Qu.: 0.2000             ZRW3:    81  \n",
       " 140    : 5035   Max.   :1   Max.   : 5.4600             ZRW6:     0  \n",
       " (Other):62550                                                        \n",
       "  PRODUCT_LINE    PRODUCT_CELL_ID  ROUTING_GROUP_ID            DOC       \n",
       " 71     :109829   384    :109829   1586   :109829   M123425      :10224  \n",
       " 24     :     0   302    :     0   61     :     0   M123423      : 9849  \n",
       " 25     :     0   303    :     0   62     :     0   M101100      : 8640  \n",
       " 26     :     0   304    :     0   63     :     0   SIS4171730523: 8630  \n",
       " 27     :     0   305    :     0   81     :     0   M123417      : 8293  \n",
       " 28     :     0   306    :     0   82     :     0   M101092      : 5238  \n",
       " (Other):     0   (Other):     0   (Other):     0   (Other)      :58955  \n",
       "    HRS_part      \n",
       " Min.   :-4.1300  \n",
       " 1st Qu.: 0.0500  \n",
       " Median : 0.1000  \n",
       " Mean   : 0.1736  \n",
       " 3rd Qu.: 0.2000  \n",
       " Max.   : 5.4600  \n",
       "                  "
      ]
     },
     "metadata": {},
     "output_type": "display_data"
    }
   ],
   "source": [
    "summary(part1)"
   ]
  },
  {
   "cell_type": "code",
   "execution_count": 11,
   "metadata": {},
   "outputs": [
    {
     "data": {
      "text/plain": [
       "   POST_DATE             EMP_NUM       SUP_EMP_NUM        WORK_ORDER   \n",
       " Min.   :0001-03-20   818771 : 5086   840323 :11049   161519252:  102  \n",
       " 1st Qu.:0003-08-20   824289 : 2715   845599 : 9723   162310660:   98  \n",
       " Median :0006-03-20   818484 : 2473   818604 : 6287   161493398:   89  \n",
       " Mean   :0006-07-19   823151 : 2447   843499 : 3332   160861522:   82  \n",
       " 3rd Qu.:0009-05-20   822963 : 1761   823708 : 2848   161488116:   80  \n",
       " Max.   :0012-12-20   818675 : 1582   845260 :  997   160871932:   79  \n",
       " NA's   :21885        (Other):18490   (Other):  318   (Other)  :34024  \n",
       " OPERATION_NUM      QUANTITY      HRS          HRS_CLASS   TYPE      \n",
       " 330    : 2330   Min.   :1   Min.   :-6.2900   R:28252       :    0  \n",
       " 270    : 2005   1st Qu.:1   1st Qu.: 0.1100   S:    2   ZP03:34465  \n",
       " 310    : 1934   Median :1   Median : 0.2200   T: 6300   ZP06:   89  \n",
       " 250    : 1683   Mean   :1   Mean   : 0.4117   V:    0   ZRTN:    0  \n",
       " 10     : 1616   3rd Qu.:1   3rd Qu.: 0.4600             ZRW3:    0  \n",
       " 200    : 1546   Max.   :1   Max.   : 7.2000             ZRW6:    0  \n",
       " (Other):23440                                                       \n",
       "  PRODUCT_LINE   PRODUCT_CELL_ID ROUTING_GROUP_ID              DOC       \n",
       " 57     :34554   330    :34554   728    :34554    M119411        :27469  \n",
       " 24     :    0   302    :    0   61     :    0    M114363        : 3432  \n",
       " 25     :    0   303    :    0   62     :    0    D8930170       : 2330  \n",
       " 26     :    0   304    :    0   63     :    0    SIS1791694730  : 1323  \n",
       " 27     :    0   305    :    0   81     :    0    00857-0869-0001:    0  \n",
       " 28     :    0   306    :    0   82     :    0    00859-0674-0001:    0  \n",
       " (Other):    0   (Other):    0   (Other):    0    (Other)        :    0  \n",
       "    HRS_part      \n",
       " Min.   :-6.2900  \n",
       " 1st Qu.: 0.1100  \n",
       " Median : 0.2200  \n",
       " Mean   : 0.4117  \n",
       " 3rd Qu.: 0.4600  \n",
       " Max.   : 7.2000  \n",
       "                  "
      ]
     },
     "metadata": {},
     "output_type": "display_data"
    }
   ],
   "source": [
    "summary(part2)"
   ]
  },
  {
   "cell_type": "code",
   "execution_count": 12,
   "metadata": {},
   "outputs": [
    {
     "data": {
      "text/plain": [
       "   POST_DATE             EMP_NUM       SUP_EMP_NUM        WORK_ORDER   \n",
       " Min.   :0001-03-20   818888 : 2630   823708 :21160   161700416:  106  \n",
       " 1st Qu.:0004-12-20   826237 : 2343   843499 :  613   160744564:   93  \n",
       " Median :0007-11-20   838179 : 2046   824132 :  489   161802107:   92  \n",
       " Mean   :0007-05-06   823780 : 1793   845260 :  270   161075870:   88  \n",
       " 3rd Qu.:0009-11-20   847444 : 1387   845599 :  200   161784867:   84  \n",
       " Max.   :0012-12-20   841248 : 1240   829449 :  187   161884887:   84  \n",
       " NA's   :15180        (Other):11769   (Other):  289   (Other)  :22661  \n",
       " OPERATION_NUM      QUANTITY          HRS           HRS_CLASS   TYPE      \n",
       " 70     : 1955   Min.   :1.000   Min.   :-40.0000   R:18821       :    0  \n",
       " 110    :  869   1st Qu.:1.000   1st Qu.:  0.1200   S:    0   ZP03:23202  \n",
       " 60     :  722   Median :1.000   Median :  0.2300   T: 4387   ZP06:    0  \n",
       " 80     :  693   Mean   :1.001   Mean   :  0.4047   V:    0   ZRTN:    0  \n",
       " 200    :  665   3rd Qu.:1.000   3rd Qu.:  0.4900             ZRW3:    6  \n",
       " 50     :  652   Max.   :5.000   Max.   : 40.0000             ZRW6:    0  \n",
       " (Other):17652                                                            \n",
       "  PRODUCT_LINE   PRODUCT_CELL_ID ROUTING_GROUP_ID              DOC       \n",
       " 55     :23208   353    :23208   141    :23208    M100640        :21926  \n",
       " 24     :    0   302    :    0   61     :    0    D9730098       :  646  \n",
       " 25     :    0   303    :    0   62     :    0    MPS-175        :  362  \n",
       " 26     :    0   304    :    0   63     :    0    M114232        :  274  \n",
       " 27     :    0   305    :    0   81     :    0    00857-0869-0001:    0  \n",
       " 28     :    0   306    :    0   82     :    0    00859-0674-0001:    0  \n",
       " (Other):    0   (Other):    0   (Other):    0    (Other)        :    0  \n",
       "    HRS_part       \n",
       " Min.   :-40.0000  \n",
       " 1st Qu.:  0.1200  \n",
       " Median :  0.2300  \n",
       " Mean   :  0.4046  \n",
       " 3rd Qu.:  0.4900  \n",
       " Max.   : 40.0000  \n",
       "                   "
      ]
     },
     "metadata": {},
     "output_type": "display_data"
    }
   ],
   "source": [
    "summary(part3)"
   ]
  },
  {
   "cell_type": "code",
   "execution_count": 13,
   "metadata": {},
   "outputs": [
    {
     "data": {
      "text/plain": [
       "   POST_DATE             EMP_NUM       SUP_EMP_NUM        WORK_ORDER   \n",
       " Min.   :0001-03-20   828476 : 3354   827659 :13651   160974385:   37  \n",
       " 1st Qu.:0003-10-20   845572 : 2382   824089 : 8867   160870903:   36  \n",
       " Median :0006-12-20   847121 : 1872   824132 : 1716   160974384:   36  \n",
       " Mean   :0007-02-28   818628 : 1853   823148 :  127   161748573:   36  \n",
       " 3rd Qu.:0010-06-20   838264 : 1627   837108 :   92   160989294:   35  \n",
       " Max.   :0012-12-20   818716 : 1490   822105 :   77   161758725:   35  \n",
       " NA's   :14767        (Other):12100   (Other):  148   (Other)  :24463  \n",
       " OPERATION_NUM      QUANTITY          HRS          HRS_CLASS   TYPE      \n",
       " 700    : 4307   Min.   :1.000   Min.   :-8.2000   R:20777       :    0  \n",
       " 1050   : 3320   1st Qu.:1.000   1st Qu.: 0.1200   S:    0   ZP03:24678  \n",
       " 450    : 1823   Median :1.000   Median : 0.2400   T: 3901   ZP06:    0  \n",
       " 1450   : 1806   Mean   :1.005   Mean   : 0.3186   V:    0   ZRTN:    0  \n",
       " 50     : 1613   3rd Qu.:1.000   3rd Qu.: 0.4300             ZRW3:    0  \n",
       " 250    : 1580   Max.   :8.000   Max.   : 8.2000             ZRW6:    0  \n",
       " (Other):10229                                                           \n",
       "  PRODUCT_LINE   PRODUCT_CELL_ID ROUTING_GROUP_ID              DOC       \n",
       " 76     :24678   399    :24678   2488   :24678    M110055        :18565  \n",
       " 24     :    0   302    :    0   61     :    0    M110056        : 4307  \n",
       " 25     :    0   303    :    0   62     :    0    M107115        : 1806  \n",
       " 26     :    0   304    :    0   63     :    0    00857-0869-0001:    0  \n",
       " 27     :    0   305    :    0   81     :    0    00859-0674-0001:    0  \n",
       " 28     :    0   306    :    0   82     :    0    00860-0564-0002:    0  \n",
       " (Other):    0   (Other):    0   (Other):    0    (Other)        :    0  \n",
       "    HRS_part      \n",
       " Min.   :-8.2000  \n",
       " 1st Qu.: 0.1200  \n",
       " Median : 0.2400  \n",
       " Mean   : 0.3184  \n",
       " 3rd Qu.: 0.4300  \n",
       " Max.   : 8.2000  \n",
       "                  "
      ]
     },
     "metadata": {},
     "output_type": "display_data"
    }
   ],
   "source": [
    "summary(part4)"
   ]
  },
  {
   "cell_type": "code",
   "execution_count": 14,
   "metadata": {},
   "outputs": [
    {
     "data": {
      "text/plain": [
       "   POST_DATE             EMP_NUM      SUP_EMP_NUM       WORK_ORDER  \n",
       " Min.   :0001-03-20   841336 :1161   837146 :3170   161629644:  44  \n",
       " 1st Qu.:0008-05-20   818800 :1148   845260 :2651   161724244:  44  \n",
       " Median :0010-04-20   837987 : 694   849257 :1283   161764643:  43  \n",
       " Mean   :0008-09-01   848642 : 641   843499 : 923   161910822:  42  \n",
       " 3rd Qu.:0011-01-20   837189 : 419   829449 : 490   161637348:  41  \n",
       " Max.   :0012-12-20   847809 : 407   824132 : 407   161716708:  41  \n",
       " NA's   :5675         (Other):5167   (Other): 713   (Other)  :9382  \n",
       " OPERATION_NUM     QUANTITY          HRS          HRS_CLASS   TYPE     \n",
       " 160    :1171   Min.   :1.000   Min.   :-1.3600   R:7852        :   0  \n",
       " 150    : 877   1st Qu.:1.000   1st Qu.: 0.0600   S:   0    ZP03:9543  \n",
       " 110    : 832   Median :1.000   Median : 0.1100   T:1785    ZP06:   1  \n",
       " 140    : 481   Mean   :1.012   Mean   : 0.1871   V:   0    ZRTN:   0  \n",
       " 365    : 477   3rd Qu.:1.000   3rd Qu.: 0.2300             ZRW3:  93  \n",
       " 180    : 450   Max.   :7.000   Max.   : 3.9300             ZRW6:   0  \n",
       " (Other):5349                                                          \n",
       "  PRODUCT_LINE  PRODUCT_CELL_ID ROUTING_GROUP_ID            DOC      \n",
       " 71     :9637   384    :9637    1709   :9637     M101090      :1327  \n",
       " 24     :   0   302    :   0    61     :   0     M119143      :1171  \n",
       " 25     :   0   303    :   0    62     :   0     SIS3261152956:1161  \n",
       " 26     :   0   304    :   0    63     :   0     M102114      : 832  \n",
       " 27     :   0   305    :   0    81     :   0     M101095      : 814  \n",
       " 28     :   0   306    :   0    82     :   0     M101096      : 481  \n",
       " (Other):   0   (Other):   0    (Other):   0     (Other)      :3851  \n",
       "    HRS_part      \n",
       " Min.   :-1.3600  \n",
       " 1st Qu.: 0.0600  \n",
       " Median : 0.1100  \n",
       " Mean   : 0.1868  \n",
       " 3rd Qu.: 0.2300  \n",
       " Max.   : 3.9300  \n",
       "                  "
      ]
     },
     "metadata": {},
     "output_type": "display_data"
    }
   ],
   "source": [
    "summary(part5)"
   ]
  },
  {
   "cell_type": "code",
   "execution_count": 15,
   "metadata": {},
   "outputs": [
    {
     "data": {
      "text/html": [
       "4.73171258376768"
      ],
      "text/latex": [
       "4.73171258376768"
      ],
      "text/markdown": [
       "4.73171258376768"
      ],
      "text/plain": [
       "[1] 4.731713"
      ]
     },
     "metadata": {},
     "output_type": "display_data"
    },
    {
     "data": {
      "text/html": [
       "2.01344393822542"
      ],
      "text/latex": [
       "2.01344393822542"
      ],
      "text/markdown": [
       "2.01344393822542"
      ],
      "text/plain": [
       "[1] 2.013444"
      ]
     },
     "metadata": {},
     "output_type": "display_data"
    }
   ],
   "source": [
    "part1586 <- group_by(part1,WORK_ORDER)\n",
    "B<- arrange(summarise(part1586,cycle_time = sum(HRS_part)),cycle_time)\n",
    "(mean_1586 <- sum(B$cycle_time)/dim(B)[1])\n",
    "(variance_1586 <- var(B$cycle_time))"
   ]
  },
  {
   "cell_type": "code",
   "execution_count": 16,
   "metadata": {},
   "outputs": [
    {
     "data": {
      "text/html": [
       "9.26727687296417"
      ],
      "text/latex": [
       "9.26727687296417"
      ],
      "text/markdown": [
       "9.26727687296417"
      ],
      "text/plain": [
       "[1] 9.267277"
      ]
     },
     "metadata": {},
     "output_type": "display_data"
    },
    {
     "data": {
      "text/html": [
       "11.6522340399798"
      ],
      "text/latex": [
       "11.6522340399798"
      ],
      "text/markdown": [
       "11.6522340399798"
      ],
      "text/plain": [
       "[1] 11.65223"
      ]
     },
     "metadata": {},
     "output_type": "display_data"
    }
   ],
   "source": [
    "part728 <- group_by(part2,WORK_ORDER)\n",
    "B<- arrange(summarise(part728,cycle_time = sum(HRS_part)),cycle_time)\n",
    "(mean_728 <- sum(B$cycle_time)/dim(B)[1])\n",
    "(variance_728 <- var(B$cycle_time))"
   ]
  },
  {
   "cell_type": "code",
   "execution_count": 17,
   "metadata": {},
   "outputs": [
    {
     "data": {
      "text/html": [
       "21.5860850574713"
      ],
      "text/latex": [
       "21.5860850574713"
      ],
      "text/markdown": [
       "21.5860850574713"
      ],
      "text/plain": [
       "[1] 21.58609"
      ]
     },
     "metadata": {},
     "output_type": "display_data"
    },
    {
     "data": {
      "text/html": [
       "46.3770044743154"
      ],
      "text/latex": [
       "46.3770044743154"
      ],
      "text/markdown": [
       "46.3770044743154"
      ],
      "text/plain": [
       "[1] 46.377"
      ]
     },
     "metadata": {},
     "output_type": "display_data"
    }
   ],
   "source": [
    "part141 <- group_by(part3,WORK_ORDER)\n",
    "B<- arrange(summarise(part141,cycle_time = sum(HRS_part)),cycle_time)\n",
    "(mean_141 <- sum(B$cycle_time)/dim(B)[1])\n",
    "(variance_141 <- var(B$cycle_time))"
   ]
  },
  {
   "cell_type": "code",
   "execution_count": 18,
   "metadata": {},
   "outputs": [
    {
     "data": {
      "text/html": [
       "5.84992274758004"
      ],
      "text/latex": [
       "5.84992274758004"
      ],
      "text/markdown": [
       "5.84992274758004"
      ],
      "text/plain": [
       "[1] 5.849923"
      ]
     },
     "metadata": {},
     "output_type": "display_data"
    },
    {
     "data": {
      "text/html": [
       "2.38967362596689"
      ],
      "text/latex": [
       "2.38967362596689"
      ],
      "text/markdown": [
       "2.38967362596689"
      ],
      "text/plain": [
       "[1] 2.389674"
      ]
     },
     "metadata": {},
     "output_type": "display_data"
    }
   ],
   "source": [
    "part2488 <- group_by(part4,WORK_ORDER)\n",
    "B<- arrange(summarise(part2488,cycle_time = sum(HRS_part)),cycle_time)\n",
    "(mean_2488 <- sum(B$cycle_time)/dim(B)[1])\n",
    "(variance_2488 <- var(B$cycle_time))"
   ]
  },
  {
   "cell_type": "code",
   "execution_count": 19,
   "metadata": {},
   "outputs": [
    {
     "data": {
      "text/html": [
       "4.5449531024531"
      ],
      "text/latex": [
       "4.5449531024531"
      ],
      "text/markdown": [
       "4.5449531024531"
      ],
      "text/plain": [
       "[1] 4.544953"
      ]
     },
     "metadata": {},
     "output_type": "display_data"
    },
    {
     "data": {
      "text/html": [
       "4.1666581481438"
      ],
      "text/latex": [
       "4.1666581481438"
      ],
      "text/markdown": [
       "4.1666581481438"
      ],
      "text/plain": [
       "[1] 4.166658"
      ]
     },
     "metadata": {},
     "output_type": "display_data"
    }
   ],
   "source": [
    "part1709 <- group_by(part5,WORK_ORDER)\n",
    "B<- arrange(summarise(part1709,cycle_time = sum(HRS_part)),cycle_time)\n",
    "(mean_1709 <- sum(B$cycle_time)/dim(B)[1])\n",
    "(variance_1709 <- var(B$cycle_time))"
   ]
  },
  {
   "cell_type": "code",
   "execution_count": 20,
   "metadata": {},
   "outputs": [],
   "source": [
    "k_18 <- read.csv(\"table_export_DATA_2018.csv\")"
   ]
  },
  {
   "cell_type": "code",
   "execution_count": 21,
   "metadata": {},
   "outputs": [],
   "source": [
    "k_18$POST_DATE <- as.Date(k_18$POST_DATE)\n",
    "k_18$EMP_NUM <- as.factor(k_18$EMP_NUM)\n",
    "k_18$SUP_EMP_NUM <- as.factor(k_18$SUP_EMP_NUM)\n",
    "k_18$WORK_ORDER <- as.factor(k_18$WORK_ORDER)\n",
    "k_18$OPERATION_NUM <- as.factor(k_18$OPERATION_NUM)\n",
    "k_18$PRODUCT_LINE <- as.factor(k_18$PRODUCT_LINE)\n",
    "k_18$PRODUCT_CELL_ID <- as.factor(k_18$PRODUCT_CELL_ID)\n",
    "k_18$ROUTING_GROUP_ID <- as.factor(k_18$ROUTING_GROUP_ID)\n",
    "k_18$DOC <- as.factor(k_18$DOC)"
   ]
  },
  {
   "cell_type": "code",
   "execution_count": 22,
   "metadata": {},
   "outputs": [
    {
     "data": {
      "text/plain": [
       "   POST_DATE             EMP_NUM         SUP_EMP_NUM         WORK_ORDER     \n",
       " Min.   :0001-02-20   818800 :  18700   824753 :222849   162575140:    192  \n",
       " 1st Qu.:0004-02-20   818888 :  18298   845599 :161744   162516662:    125  \n",
       " Median :0006-11-20   818623 :  14192   823708 :153403   162369892:    124  \n",
       " Mean   :0007-02-11   849197 :  13596   835447 :149287   162540529:    121  \n",
       " 3rd Qu.:0010-04-20   837189 :  12639   829449 :127490   162394197:    108  \n",
       " Max.   :0012-12-20   821132 :  11567   845260 :126511   162932419:     99  \n",
       " NA's   :1163066      (Other):1796763   (Other):944471   (Other)  :1884986  \n",
       " OPERATION_NUM        QUANTITY             HRS           HRS_CLASS  \n",
       " 10     : 112132   Min.   :   1.000   Min.   :-144.000   R:1542824  \n",
       " 30     :  95260   1st Qu.:   1.000   1st Qu.:   0.100   S:     58  \n",
       " 50     :  92666   Median :   1.000   Median :   0.220   T: 342853  \n",
       " 20     :  91181   Mean   :   5.849   Mean   :   0.391   U:      4  \n",
       " 40     :  86954   3rd Qu.:   6.000   3rd Qu.:   0.480   V:     16  \n",
       " 60     :  80456   Max.   :1480.000   Max.   : 144.000              \n",
       " (Other):1327106                                                    \n",
       "   TYPE          PRODUCT_LINE    PRODUCT_CELL_ID   ROUTING_GROUP_ID \n",
       " ZP03:1878747   71     :597602   384    : 169135   1586   : 112192  \n",
       " ZP06:   1969   55     :241746   1621   : 109373   1636   :  69650  \n",
       " ZRTN:   2021   57     :165616   391    :  91770   1709   :  54684  \n",
       " ZRW3:   2796   28     :163306   321    :  76174   1247   :  43478  \n",
       " ZRW6:    222   76     :130696   383    :  70879   1240   :  39402  \n",
       "                25     : 83474   353    :  69683   2292   :  37044  \n",
       "                (Other):503315   (Other):1298741   (Other):1529305  \n",
       "      DOC             HRS_part        \n",
       " M101095:  61936   Min.   :-144.0000  \n",
       " M101090:  61358   1st Qu.:   0.0370  \n",
       " M102678:  58272   Median :   0.1000  \n",
       " M120118:  40675   Mean   :   0.1974  \n",
       " M114136:  36626   3rd Qu.:   0.2300  \n",
       " M115907:  35159   Max.   : 144.0000  \n",
       " (Other):1591729                      "
      ]
     },
     "metadata": {},
     "output_type": "display_data"
    }
   ],
   "source": [
    "k_18 <- mutate(k_18,HRS_part = HRS/QUANTITY)\n",
    "summary(k_18)"
   ]
  },
  {
   "cell_type": "code",
   "execution_count": 23,
   "metadata": {},
   "outputs": [
    {
     "data": {
      "text/html": [
       "<table>\n",
       "<caption>A tibble: 6 × 3</caption>\n",
       "<thead>\n",
       "\t<tr><th scope=col>ROUTING_GROUP_ID</th><th scope=col>op_hrs</th><th scope=col>count</th></tr>\n",
       "\t<tr><th scope=col>&lt;fct&gt;</th><th scope=col>&lt;dbl&gt;</th><th scope=col>&lt;int&gt;</th></tr>\n",
       "</thead>\n",
       "<tbody>\n",
       "\t<tr><td>1586</td><td>19434.20</td><td>112192</td></tr>\n",
       "\t<tr><td>728 </td><td>13256.00</td><td> 27022</td></tr>\n",
       "\t<tr><td>2488</td><td>10341.16</td><td> 28157</td></tr>\n",
       "\t<tr><td>1709</td><td> 9864.79</td><td> 54684</td></tr>\n",
       "\t<tr><td>641 </td><td> 7848.13</td><td> 17607</td></tr>\n",
       "\t<tr><td>2292</td><td> 7761.50</td><td> 37044</td></tr>\n",
       "</tbody>\n",
       "</table>\n"
      ],
      "text/latex": [
       "A tibble: 6 × 3\n",
       "\\begin{tabular}{lll}\n",
       " ROUTING\\_GROUP\\_ID & op\\_hrs & count\\\\\n",
       " <fct> & <dbl> & <int>\\\\\n",
       "\\hline\n",
       "\t 1586 & 19434.20 & 112192\\\\\n",
       "\t 728  & 13256.00 &  27022\\\\\n",
       "\t 2488 & 10341.16 &  28157\\\\\n",
       "\t 1709 &  9864.79 &  54684\\\\\n",
       "\t 641  &  7848.13 &  17607\\\\\n",
       "\t 2292 &  7761.50 &  37044\\\\\n",
       "\\end{tabular}\n"
      ],
      "text/markdown": [
       "\n",
       "A tibble: 6 × 3\n",
       "\n",
       "| ROUTING_GROUP_ID &lt;fct&gt; | op_hrs &lt;dbl&gt; | count &lt;int&gt; |\n",
       "|---|---|---|\n",
       "| 1586 | 19434.20 | 112192 |\n",
       "| 728  | 13256.00 |  27022 |\n",
       "| 2488 | 10341.16 |  28157 |\n",
       "| 1709 |  9864.79 |  54684 |\n",
       "| 641  |  7848.13 |  17607 |\n",
       "| 2292 |  7761.50 |  37044 |\n",
       "\n"
      ],
      "text/plain": [
       "  ROUTING_GROUP_ID op_hrs   count \n",
       "1 1586             19434.20 112192\n",
       "2 728              13256.00  27022\n",
       "3 2488             10341.16  28157\n",
       "4 1709              9864.79  54684\n",
       "5 641               7848.13  17607\n",
       "6 2292              7761.50  37044"
      ]
     },
     "metadata": {},
     "output_type": "display_data"
    }
   ],
   "source": [
    "by_part <- group_by(k_18,ROUTING_GROUP_ID)\n",
    "C<- arrange(summarise(by_part,op_hrs = sum(HRS_part),count = n()),op_hrs)\n",
    "head(arrange(C,desc(op_hrs)))"
   ]
  },
  {
   "cell_type": "code",
   "execution_count": 24,
   "metadata": {},
   "outputs": [
    {
     "data": {
      "text/html": [
       "<table>\n",
       "<caption>A tibble: 1 × 3</caption>\n",
       "<thead>\n",
       "\t<tr><th scope=col>ROUTING_GROUP_ID</th><th scope=col>op_hrs</th><th scope=col>count</th></tr>\n",
       "\t<tr><th scope=col>&lt;fct&gt;</th><th scope=col>&lt;dbl&gt;</th><th scope=col>&lt;int&gt;</th></tr>\n",
       "</thead>\n",
       "<tbody>\n",
       "\t<tr><td>141</td><td>5294.993</td><td>13087</td></tr>\n",
       "</tbody>\n",
       "</table>\n"
      ],
      "text/latex": [
       "A tibble: 1 × 3\n",
       "\\begin{tabular}{lll}\n",
       " ROUTING\\_GROUP\\_ID & op\\_hrs & count\\\\\n",
       " <fct> & <dbl> & <int>\\\\\n",
       "\\hline\n",
       "\t 141 & 5294.993 & 13087\\\\\n",
       "\\end{tabular}\n"
      ],
      "text/markdown": [
       "\n",
       "A tibble: 1 × 3\n",
       "\n",
       "| ROUTING_GROUP_ID &lt;fct&gt; | op_hrs &lt;dbl&gt; | count &lt;int&gt; |\n",
       "|---|---|---|\n",
       "| 141 | 5294.993 | 13087 |\n",
       "\n"
      ],
      "text/plain": [
       "  ROUTING_GROUP_ID op_hrs   count\n",
       "1 141              5294.993 13087"
      ]
     },
     "metadata": {},
     "output_type": "display_data"
    }
   ],
   "source": [
    "C[C$ROUTING_GROUP_ID == '141',]"
   ]
  },
  {
   "cell_type": "code",
   "execution_count": 25,
   "metadata": {},
   "outputs": [],
   "source": [
    "part1 <- k_18[k_18$ROUTING_GROUP_ID == '1586',]\n",
    "part2 <- k_18[k_18$ROUTING_GROUP_ID == '728',]\n",
    "part3 <- k_18[k_18$ROUTING_GROUP_ID == '141',]\n",
    "part4 <- k_18[k_18$ROUTING_GROUP_ID == '2488',]\n",
    "part5 <- k_18[k_18$ROUTING_GROUP_ID == '1709',]"
   ]
  },
  {
   "cell_type": "code",
   "execution_count": 26,
   "metadata": {},
   "outputs": [
    {
     "data": {
      "text/html": [
       "5.14268324953691"
      ],
      "text/latex": [
       "5.14268324953691"
      ],
      "text/markdown": [
       "5.14268324953691"
      ],
      "text/plain": [
       "[1] 5.142683"
      ]
     },
     "metadata": {},
     "output_type": "display_data"
    },
    {
     "data": {
      "text/html": [
       "2.23784997137366"
      ],
      "text/latex": [
       "2.23784997137366"
      ],
      "text/markdown": [
       "2.23784997137366"
      ],
      "text/plain": [
       "[1] 2.23785"
      ]
     },
     "metadata": {},
     "output_type": "display_data"
    }
   ],
   "source": [
    "part1586 <- group_by(part1,WORK_ORDER)\n",
    "B<- arrange(summarise(part1586,cycle_time = sum(HRS_part)),cycle_time)\n",
    "(mean_1586 <- sum(B$cycle_time)/dim(B)[1])\n",
    "(variance_1586 <- var(B$cycle_time))"
   ]
  },
  {
   "cell_type": "code",
   "execution_count": 27,
   "metadata": {},
   "outputs": [
    {
     "data": {
      "text/html": [
       "8.19283065512979"
      ],
      "text/latex": [
       "8.19283065512979"
      ],
      "text/markdown": [
       "8.19283065512979"
      ],
      "text/plain": [
       "[1] 8.192831"
      ]
     },
     "metadata": {},
     "output_type": "display_data"
    },
    {
     "data": {
      "text/html": [
       "9.01206124650557"
      ],
      "text/latex": [
       "9.01206124650557"
      ],
      "text/markdown": [
       "9.01206124650557"
      ],
      "text/plain": [
       "[1] 9.012061"
      ]
     },
     "metadata": {},
     "output_type": "display_data"
    }
   ],
   "source": [
    "part728 <- group_by(part2,WORK_ORDER)\n",
    "B<- arrange(summarise(part728,cycle_time = sum(HRS_part)),cycle_time)\n",
    "(mean_728 <- sum(B$cycle_time)/dim(B)[1])\n",
    "(variance_728 <- var(B$cycle_time))"
   ]
  },
  {
   "cell_type": "code",
   "execution_count": 28,
   "metadata": {},
   "outputs": [
    {
     "data": {
      "text/html": [
       "20.683564453125"
      ],
      "text/latex": [
       "20.683564453125"
      ],
      "text/markdown": [
       "20.683564453125"
      ],
      "text/plain": [
       "[1] 20.68356"
      ]
     },
     "metadata": {},
     "output_type": "display_data"
    },
    {
     "data": {
      "text/html": [
       "46.7998984458295"
      ],
      "text/latex": [
       "46.7998984458295"
      ],
      "text/markdown": [
       "46.7998984458295"
      ],
      "text/plain": [
       "[1] 46.7999"
      ]
     },
     "metadata": {},
     "output_type": "display_data"
    }
   ],
   "source": [
    "part141 <- group_by(part3,WORK_ORDER)\n",
    "B<- arrange(summarise(part141,cycle_time = sum(HRS_part)),cycle_time)\n",
    "(mean_141 <- sum(B$cycle_time)/dim(B)[1])\n",
    "(variance_141 <- var(B$cycle_time))"
   ]
  },
  {
   "cell_type": "code",
   "execution_count": 29,
   "metadata": {},
   "outputs": [
    {
     "data": {
      "text/html": [
       "6.5285101010101"
      ],
      "text/latex": [
       "6.5285101010101"
      ],
      "text/markdown": [
       "6.5285101010101"
      ],
      "text/plain": [
       "[1] 6.52851"
      ]
     },
     "metadata": {},
     "output_type": "display_data"
    },
    {
     "data": {
      "text/html": [
       "4.1187199518878"
      ],
      "text/latex": [
       "4.1187199518878"
      ],
      "text/markdown": [
       "4.1187199518878"
      ],
      "text/plain": [
       "[1] 4.11872"
      ]
     },
     "metadata": {},
     "output_type": "display_data"
    }
   ],
   "source": [
    "part2488 <- group_by(part4,WORK_ORDER)\n",
    "B<- arrange(summarise(part2488,cycle_time = sum(HRS_part)),cycle_time)\n",
    "(mean_2488 <- sum(B$cycle_time)/dim(B)[1])\n",
    "(variance_2488 <- var(B$cycle_time))"
   ]
  },
  {
   "cell_type": "code",
   "execution_count": 30,
   "metadata": {},
   "outputs": [
    {
     "data": {
      "text/html": [
       "4.4118023255814"
      ],
      "text/latex": [
       "4.4118023255814"
      ],
      "text/markdown": [
       "4.4118023255814"
      ],
      "text/plain": [
       "[1] 4.411802"
      ]
     },
     "metadata": {},
     "output_type": "display_data"
    },
    {
     "data": {
      "text/html": [
       "3.02585299177982"
      ],
      "text/latex": [
       "3.02585299177982"
      ],
      "text/markdown": [
       "3.02585299177982"
      ],
      "text/plain": [
       "[1] 3.025853"
      ]
     },
     "metadata": {},
     "output_type": "display_data"
    }
   ],
   "source": [
    "part1709 <- group_by(part5,WORK_ORDER)\n",
    "B<- arrange(summarise(part1709,cycle_time = sum(HRS_part)),cycle_time)\n",
    "(mean_1709 <- sum(B$cycle_time)/dim(B)[1])\n",
    "(variance_1709 <- var(B$cycle_time))"
   ]
  },
  {
   "cell_type": "code",
   "execution_count": 31,
   "metadata": {},
   "outputs": [],
   "source": [
    "k_19 <- read.csv(\"table_export_DATA_2019.csv\")\n",
    "k_19$POST_DATE <- as.Date(k_19$POST_DATE)\n",
    "k_19$EMP_NUM <- as.factor(k_19$EMP_NUM)\n",
    "k_19$SUP_EMP_NUM <- as.factor(k_19$SUP_EMP_NUM)\n",
    "k_19$WORK_ORDER <- as.factor(k_19$WORK_ORDER)\n",
    "k_19$OPERATION_NUM <- as.factor(k_19$OPERATION_NUM)\n",
    "k_19$PRODUCT_LINE <- as.factor(k_19$PRODUCT_LINE)\n",
    "k_19$PRODUCT_CELL_ID <- as.factor(k_19$PRODUCT_CELL_ID)\n",
    "k_19$ROUTING_GROUP_ID <- as.factor(k_19$ROUTING_GROUP_ID)\n",
    "k_19$DOC <- as.factor(k_19$DOC)"
   ]
  },
  {
   "cell_type": "code",
   "execution_count": 32,
   "metadata": {},
   "outputs": [
    {
     "data": {
      "text/plain": [
       "   POST_DATE             EMP_NUM         SUP_EMP_NUM          WORK_ORDER     \n",
       " Min.   :0001-02-20   818800 :  25220   849797 : 221600   165299588:     98  \n",
       " 1st Qu.:0004-01-20   818888 :  22608   823708 : 152168   165333298:     93  \n",
       " Median :0006-12-20   849197 :  16821   875510 : 149584   164277352:     90  \n",
       " Mean   :0007-01-14   818623 :  15583   824753 : 134641   164748805:     88  \n",
       " 3rd Qu.:0010-01-20   825513 :  15201   845260 : 113735   164149145:     87  \n",
       " Max.   :0012-12-20   849786 :  13082   818777 : 102279   164993680:     87  \n",
       " NA's   :1342455      (Other):2094762   (Other):1329270   (Other)  :2202734  \n",
       " OPERATION_NUM        QUANTITY             HRS           HRS_CLASS  \n",
       " 10     : 120631   Min.   :   1.000   Min.   :-144.000   D:      2  \n",
       " 30     : 113788   1st Qu.:   1.000   1st Qu.:   0.090   R:1826112  \n",
       " 50     : 108951   Median :   1.000   Median :   0.200   S:    386  \n",
       " 40     :  97360   Mean   :   5.724   Mean   :   0.371   T: 376767  \n",
       " 20     :  96878   3rd Qu.:   5.000   3rd Qu.:   0.460   U:      2  \n",
       " 60     :  95029   Max.   :1184.000   Max.   : 144.000   V:      8  \n",
       " (Other):1570640                                                    \n",
       "   TYPE          PRODUCT_LINE    PRODUCT_CELL_ID   ROUTING_GROUP_ID \n",
       " ZP03:2196388   71     :762698   384    : 256300   1709   : 239921  \n",
       " ZP06:   1472   55     :293240   1621   : 162404   1636   :  85552  \n",
       " ZRTN:   1895   28     :184586   391    : 111726   1240   :  67003  \n",
       " ZRW3:   3496   57     :174414   383    :  86810   1247   :  58832  \n",
       " ZRW6:     26   76     :150027   395    :  82797   2292   :  39893  \n",
       "                25     :108277   321    :  75661   1239   :  36569  \n",
       "                (Other):530035   (Other):1427579   (Other):1675507  \n",
       "      DOC             HRS_part        \n",
       " M101090:  94636   Min.   :-117.0000  \n",
       " M101095:  79259   1st Qu.:   0.0380  \n",
       " M102678:  69461   Median :   0.1000  \n",
       " M115907:  58508   Mean   :   0.1944  \n",
       " M120118:  54513   3rd Qu.:   0.2250  \n",
       " M114136:  40430   Max.   : 117.0000  \n",
       " (Other):1806470                      "
      ]
     },
     "metadata": {},
     "output_type": "display_data"
    }
   ],
   "source": [
    "k_19 <- mutate(k_19,HRS_part = HRS/QUANTITY)\n",
    "summary(k_19)"
   ]
  },
  {
   "cell_type": "code",
   "execution_count": 33,
   "metadata": {},
   "outputs": [
    {
     "data": {
      "text/html": [
       "<table>\n",
       "<caption>A tibble: 6 × 3</caption>\n",
       "<thead>\n",
       "\t<tr><th scope=col>ROUTING_GROUP_ID</th><th scope=col>op_hrs</th><th scope=col>count</th></tr>\n",
       "\t<tr><th scope=col>&lt;fct&gt;</th><th scope=col>&lt;dbl&gt;</th><th scope=col>&lt;int&gt;</th></tr>\n",
       "</thead>\n",
       "<tbody>\n",
       "\t<tr><td>1709</td><td>37950.900</td><td>239921</td></tr>\n",
       "\t<tr><td>728 </td><td>16356.460</td><td> 29489</td></tr>\n",
       "\t<tr><td>2488</td><td>12834.410</td><td> 34665</td></tr>\n",
       "\t<tr><td>641 </td><td> 9472.420</td><td> 22191</td></tr>\n",
       "\t<tr><td>1247</td><td> 9214.100</td><td> 58832</td></tr>\n",
       "\t<tr><td>1636</td><td> 8815.399</td><td> 85552</td></tr>\n",
       "</tbody>\n",
       "</table>\n"
      ],
      "text/latex": [
       "A tibble: 6 × 3\n",
       "\\begin{tabular}{lll}\n",
       " ROUTING\\_GROUP\\_ID & op\\_hrs & count\\\\\n",
       " <fct> & <dbl> & <int>\\\\\n",
       "\\hline\n",
       "\t 1709 & 37950.900 & 239921\\\\\n",
       "\t 728  & 16356.460 &  29489\\\\\n",
       "\t 2488 & 12834.410 &  34665\\\\\n",
       "\t 641  &  9472.420 &  22191\\\\\n",
       "\t 1247 &  9214.100 &  58832\\\\\n",
       "\t 1636 &  8815.399 &  85552\\\\\n",
       "\\end{tabular}\n"
      ],
      "text/markdown": [
       "\n",
       "A tibble: 6 × 3\n",
       "\n",
       "| ROUTING_GROUP_ID &lt;fct&gt; | op_hrs &lt;dbl&gt; | count &lt;int&gt; |\n",
       "|---|---|---|\n",
       "| 1709 | 37950.900 | 239921 |\n",
       "| 728  | 16356.460 |  29489 |\n",
       "| 2488 | 12834.410 |  34665 |\n",
       "| 641  |  9472.420 |  22191 |\n",
       "| 1247 |  9214.100 |  58832 |\n",
       "| 1636 |  8815.399 |  85552 |\n",
       "\n"
      ],
      "text/plain": [
       "  ROUTING_GROUP_ID op_hrs    count \n",
       "1 1709             37950.900 239921\n",
       "2 728              16356.460  29489\n",
       "3 2488             12834.410  34665\n",
       "4 641               9472.420  22191\n",
       "5 1247              9214.100  58832\n",
       "6 1636              8815.399  85552"
      ]
     },
     "metadata": {},
     "output_type": "display_data"
    }
   ],
   "source": [
    "by_part <- group_by(k_19,ROUTING_GROUP_ID)\n",
    "A <- arrange(summarise(by_part,op_hrs = sum(HRS_part),count = n()),op_hrs)\n",
    "head(arrange(A,desc(op_hrs)))"
   ]
  },
  {
   "cell_type": "code",
   "execution_count": 34,
   "metadata": {},
   "outputs": [
    {
     "data": {
      "text/html": [
       "<table>\n",
       "<caption>A tibble: 1 × 3</caption>\n",
       "<thead>\n",
       "\t<tr><th scope=col>ROUTING_GROUP_ID</th><th scope=col>op_hrs</th><th scope=col>count</th></tr>\n",
       "\t<tr><th scope=col>&lt;fct&gt;</th><th scope=col>&lt;dbl&gt;</th><th scope=col>&lt;int&gt;</th></tr>\n",
       "</thead>\n",
       "<tbody>\n",
       "\t<tr><td>1586</td><td>2029.06</td><td>12567</td></tr>\n",
       "</tbody>\n",
       "</table>\n"
      ],
      "text/latex": [
       "A tibble: 1 × 3\n",
       "\\begin{tabular}{lll}\n",
       " ROUTING\\_GROUP\\_ID & op\\_hrs & count\\\\\n",
       " <fct> & <dbl> & <int>\\\\\n",
       "\\hline\n",
       "\t 1586 & 2029.06 & 12567\\\\\n",
       "\\end{tabular}\n"
      ],
      "text/markdown": [
       "\n",
       "A tibble: 1 × 3\n",
       "\n",
       "| ROUTING_GROUP_ID &lt;fct&gt; | op_hrs &lt;dbl&gt; | count &lt;int&gt; |\n",
       "|---|---|---|\n",
       "| 1586 | 2029.06 | 12567 |\n",
       "\n"
      ],
      "text/plain": [
       "  ROUTING_GROUP_ID op_hrs  count\n",
       "1 1586             2029.06 12567"
      ]
     },
     "metadata": {},
     "output_type": "display_data"
    },
    {
     "data": {
      "text/html": [
       "<table>\n",
       "<caption>A tibble: 1 × 3</caption>\n",
       "<thead>\n",
       "\t<tr><th scope=col>ROUTING_GROUP_ID</th><th scope=col>op_hrs</th><th scope=col>count</th></tr>\n",
       "\t<tr><th scope=col>&lt;fct&gt;</th><th scope=col>&lt;dbl&gt;</th><th scope=col>&lt;int&gt;</th></tr>\n",
       "</thead>\n",
       "<tbody>\n",
       "\t<tr><td>141</td><td>3650.34</td><td>8134</td></tr>\n",
       "</tbody>\n",
       "</table>\n"
      ],
      "text/latex": [
       "A tibble: 1 × 3\n",
       "\\begin{tabular}{lll}\n",
       " ROUTING\\_GROUP\\_ID & op\\_hrs & count\\\\\n",
       " <fct> & <dbl> & <int>\\\\\n",
       "\\hline\n",
       "\t 141 & 3650.34 & 8134\\\\\n",
       "\\end{tabular}\n"
      ],
      "text/markdown": [
       "\n",
       "A tibble: 1 × 3\n",
       "\n",
       "| ROUTING_GROUP_ID &lt;fct&gt; | op_hrs &lt;dbl&gt; | count &lt;int&gt; |\n",
       "|---|---|---|\n",
       "| 141 | 3650.34 | 8134 |\n",
       "\n"
      ],
      "text/plain": [
       "  ROUTING_GROUP_ID op_hrs  count\n",
       "1 141              3650.34 8134 "
      ]
     },
     "metadata": {},
     "output_type": "display_data"
    }
   ],
   "source": [
    "A[A$ROUTING_GROUP_ID == '1586',]\n",
    "A[A$ROUTING_GROUP_ID == '141',]"
   ]
  },
  {
   "cell_type": "code",
   "execution_count": 35,
   "metadata": {},
   "outputs": [],
   "source": [
    "part1 <- k_19[k_19$ROUTING_GROUP_ID == '1586',]\n",
    "part2 <- k_19[k_19$ROUTING_GROUP_ID == '728',]\n",
    "part3 <- k_19[k_19$ROUTING_GROUP_ID == '141',]\n",
    "part4 <- k_19[k_19$ROUTING_GROUP_ID == '2488',]\n",
    "part5 <- k_19[k_19$ROUTING_GROUP_ID == '1709',]"
   ]
  },
  {
   "cell_type": "code",
   "execution_count": 36,
   "metadata": {},
   "outputs": [
    {
     "data": {
      "text/html": [
       "4.72974358974359"
      ],
      "text/latex": [
       "4.72974358974359"
      ],
      "text/markdown": [
       "4.72974358974359"
      ],
      "text/plain": [
       "[1] 4.729744"
      ]
     },
     "metadata": {},
     "output_type": "display_data"
    },
    {
     "data": {
      "text/html": [
       "3.81237259765157"
      ],
      "text/latex": [
       "3.81237259765157"
      ],
      "text/markdown": [
       "3.81237259765157"
      ],
      "text/plain": [
       "[1] 3.812373"
      ]
     },
     "metadata": {},
     "output_type": "display_data"
    }
   ],
   "source": [
    "part1586 <- group_by(part1,WORK_ORDER)\n",
    "B<- arrange(summarise(part1586,cycle_time = sum(HRS_part)),cycle_time)\n",
    "(mean_1586 <- sum(B$cycle_time)/dim(B)[1])\n",
    "(variance_1586 <- var(B$cycle_time))"
   ]
  },
  {
   "cell_type": "code",
   "execution_count": 37,
   "metadata": {},
   "outputs": [
    {
     "data": {
      "text/html": [
       "8.68177282377919"
      ],
      "text/latex": [
       "8.68177282377919"
      ],
      "text/markdown": [
       "8.68177282377919"
      ],
      "text/plain": [
       "[1] 8.681773"
      ]
     },
     "metadata": {},
     "output_type": "display_data"
    },
    {
     "data": {
      "text/html": [
       "12.2915314279175"
      ],
      "text/latex": [
       "12.2915314279175"
      ],
      "text/markdown": [
       "12.2915314279175"
      ],
      "text/plain": [
       "[1] 12.29153"
      ]
     },
     "metadata": {},
     "output_type": "display_data"
    }
   ],
   "source": [
    "part728 <- group_by(part2,WORK_ORDER)\n",
    "B<- arrange(summarise(part728,cycle_time = sum(HRS_part)),cycle_time)\n",
    "(mean_728 <- sum(B$cycle_time)/dim(B)[1])\n",
    "(variance_728 <- var(B$cycle_time))"
   ]
  },
  {
   "cell_type": "code",
   "execution_count": 38,
   "metadata": {},
   "outputs": [
    {
     "data": {
      "text/html": [
       "23.5505806451613"
      ],
      "text/latex": [
       "23.5505806451613"
      ],
      "text/markdown": [
       "23.5505806451613"
      ],
      "text/plain": [
       "[1] 23.55058"
      ]
     },
     "metadata": {},
     "output_type": "display_data"
    },
    {
     "data": {
      "text/html": [
       "78.401345764558"
      ],
      "text/latex": [
       "78.401345764558"
      ],
      "text/markdown": [
       "78.401345764558"
      ],
      "text/plain": [
       "[1] 78.40135"
      ]
     },
     "metadata": {},
     "output_type": "display_data"
    }
   ],
   "source": [
    "part141 <- group_by(part3,WORK_ORDER)\n",
    "B<- arrange(summarise(part141,cycle_time = sum(HRS_part)),cycle_time)\n",
    "(mean_141 <- sum(B$cycle_time)/dim(B)[1])\n",
    "(variance_141 <- var(B$cycle_time))"
   ]
  },
  {
   "cell_type": "code",
   "execution_count": 39,
   "metadata": {},
   "outputs": [
    {
     "data": {
      "text/html": [
       "6.986614044638"
      ],
      "text/latex": [
       "6.986614044638"
      ],
      "text/markdown": [
       "6.986614044638"
      ],
      "text/plain": [
       "[1] 6.986614"
      ]
     },
     "metadata": {},
     "output_type": "display_data"
    },
    {
     "data": {
      "text/html": [
       "6.67006118701397"
      ],
      "text/latex": [
       "6.67006118701397"
      ],
      "text/markdown": [
       "6.67006118701397"
      ],
      "text/plain": [
       "[1] 6.670061"
      ]
     },
     "metadata": {},
     "output_type": "display_data"
    }
   ],
   "source": [
    "part2488 <- group_by(part4,WORK_ORDER)\n",
    "B<- arrange(summarise(part2488,cycle_time = sum(HRS_part)),cycle_time)\n",
    "(mean_2488 <- sum(B$cycle_time)/dim(B)[1])\n",
    "(variance_2488 <- var(B$cycle_time))"
   ]
  },
  {
   "cell_type": "code",
   "execution_count": 40,
   "metadata": {},
   "outputs": [
    {
     "data": {
      "text/html": [
       "4.44650263620387"
      ],
      "text/latex": [
       "4.44650263620387"
      ],
      "text/markdown": [
       "4.44650263620387"
      ],
      "text/plain": [
       "[1] 4.446503"
      ]
     },
     "metadata": {},
     "output_type": "display_data"
    },
    {
     "data": {
      "text/html": [
       "1.82481151906383"
      ],
      "text/latex": [
       "1.82481151906383"
      ],
      "text/markdown": [
       "1.82481151906383"
      ],
      "text/plain": [
       "[1] 1.824812"
      ]
     },
     "metadata": {},
     "output_type": "display_data"
    }
   ],
   "source": [
    "part1709 <- group_by(part5,WORK_ORDER)\n",
    "B<- arrange(summarise(part1709,cycle_time = sum(HRS_part)),cycle_time)\n",
    "(mean_1709 <- sum(B$cycle_time)/dim(B)[1])\n",
    "(variance_1709 <- var(B$cycle_time))"
   ]
  },
  {
   "cell_type": "code",
   "execution_count": 41,
   "metadata": {},
   "outputs": [],
   "source": [
    "k17part141 <- k_17[k_17$ROUTING_GROUP_ID == '141',]\n",
    "k18part141 <- k_18[k_18$ROUTING_GROUP_ID == '141',]\n",
    "k19part141 <- k_19[k_19$ROUTING_GROUP_ID == '141',]"
   ]
  },
  {
   "cell_type": "code",
   "execution_count": 42,
   "metadata": {},
   "outputs": [
    {
     "data": {
      "text/html": [
       "<table>\n",
       "<caption>A tibble: 6 × 2</caption>\n",
       "<thead>\n",
       "\t<tr><th scope=col>OPERATION_NUM</th><th scope=col>op_time</th></tr>\n",
       "\t<tr><th scope=col>&lt;fct&gt;</th><th scope=col>&lt;dbl&gt;</th></tr>\n",
       "</thead>\n",
       "<tbody>\n",
       "\t<tr><td>70</td><td>1889.55</td></tr>\n",
       "\t<tr><td>60</td><td> 860.02</td></tr>\n",
       "\t<tr><td>50</td><td> 688.49</td></tr>\n",
       "\t<tr><td>80</td><td> 466.81</td></tr>\n",
       "\t<tr><td>85</td><td> 352.41</td></tr>\n",
       "\t<tr><td>40</td><td> 343.55</td></tr>\n",
       "</tbody>\n",
       "</table>\n"
      ],
      "text/latex": [
       "A tibble: 6 × 2\n",
       "\\begin{tabular}{ll}\n",
       " OPERATION\\_NUM & op\\_time\\\\\n",
       " <fct> & <dbl>\\\\\n",
       "\\hline\n",
       "\t 70 & 1889.55\\\\\n",
       "\t 60 &  860.02\\\\\n",
       "\t 50 &  688.49\\\\\n",
       "\t 80 &  466.81\\\\\n",
       "\t 85 &  352.41\\\\\n",
       "\t 40 &  343.55\\\\\n",
       "\\end{tabular}\n"
      ],
      "text/markdown": [
       "\n",
       "A tibble: 6 × 2\n",
       "\n",
       "| OPERATION_NUM &lt;fct&gt; | op_time &lt;dbl&gt; |\n",
       "|---|---|\n",
       "| 70 | 1889.55 |\n",
       "| 60 |  860.02 |\n",
       "| 50 |  688.49 |\n",
       "| 80 |  466.81 |\n",
       "| 85 |  352.41 |\n",
       "| 40 |  343.55 |\n",
       "\n"
      ],
      "text/plain": [
       "  OPERATION_NUM op_time\n",
       "1 70            1889.55\n",
       "2 60             860.02\n",
       "3 50             688.49\n",
       "4 80             466.81\n",
       "5 85             352.41\n",
       "6 40             343.55"
      ]
     },
     "metadata": {},
     "output_type": "display_data"
    },
    {
     "data": {
      "text/html": [
       "9389.947"
      ],
      "text/latex": [
       "9389.947"
      ],
      "text/markdown": [
       "9389.947"
      ],
      "text/plain": [
       "[1] 9389.947"
      ]
     },
     "metadata": {},
     "output_type": "display_data"
    }
   ],
   "source": [
    "k17op141 <- group_by(k17part141,OPERATION_NUM)\n",
    "C <- arrange(summarise(k17op141,op_time = sum(HRS_part)),op_time)\n",
    "head(arrange(C,desc(op_time)))\n",
    "sum(C$op_time)"
   ]
  },
  {
   "cell_type": "code",
   "execution_count": 43,
   "metadata": {},
   "outputs": [
    {
     "data": {
      "text/html": [
       "<table>\n",
       "<caption>A tibble: 6 × 2</caption>\n",
       "<thead>\n",
       "\t<tr><th scope=col>OPERATION_NUM</th><th scope=col>op_time</th></tr>\n",
       "\t<tr><th scope=col>&lt;fct&gt;</th><th scope=col>&lt;dbl&gt;</th></tr>\n",
       "</thead>\n",
       "<tbody>\n",
       "\t<tr><td>70</td><td>973.45</td></tr>\n",
       "\t<tr><td>60</td><td>536.32</td></tr>\n",
       "\t<tr><td>50</td><td>375.02</td></tr>\n",
       "\t<tr><td>80</td><td>259.16</td></tr>\n",
       "\t<tr><td>85</td><td>241.80</td></tr>\n",
       "\t<tr><td>40</td><td>187.79</td></tr>\n",
       "</tbody>\n",
       "</table>\n"
      ],
      "text/latex": [
       "A tibble: 6 × 2\n",
       "\\begin{tabular}{ll}\n",
       " OPERATION\\_NUM & op\\_time\\\\\n",
       " <fct> & <dbl>\\\\\n",
       "\\hline\n",
       "\t 70 & 973.45\\\\\n",
       "\t 60 & 536.32\\\\\n",
       "\t 50 & 375.02\\\\\n",
       "\t 80 & 259.16\\\\\n",
       "\t 85 & 241.80\\\\\n",
       "\t 40 & 187.79\\\\\n",
       "\\end{tabular}\n"
      ],
      "text/markdown": [
       "\n",
       "A tibble: 6 × 2\n",
       "\n",
       "| OPERATION_NUM &lt;fct&gt; | op_time &lt;dbl&gt; |\n",
       "|---|---|\n",
       "| 70 | 973.45 |\n",
       "| 60 | 536.32 |\n",
       "| 50 | 375.02 |\n",
       "| 80 | 259.16 |\n",
       "| 85 | 241.80 |\n",
       "| 40 | 187.79 |\n",
       "\n"
      ],
      "text/plain": [
       "  OPERATION_NUM op_time\n",
       "1 70            973.45 \n",
       "2 60            536.32 \n",
       "3 50            375.02 \n",
       "4 80            259.16 \n",
       "5 85            241.80 \n",
       "6 40            187.79 "
      ]
     },
     "metadata": {},
     "output_type": "display_data"
    },
    {
     "data": {
      "text/html": [
       "5294.9925"
      ],
      "text/latex": [
       "5294.9925"
      ],
      "text/markdown": [
       "5294.9925"
      ],
      "text/plain": [
       "[1] 5294.993"
      ]
     },
     "metadata": {},
     "output_type": "display_data"
    }
   ],
   "source": [
    "k18op141 <- group_by(k18part141,OPERATION_NUM)\n",
    "C <- arrange(summarise(k18op141,op_time = sum(HRS_part)),op_time)\n",
    "head(arrange(C,desc(op_time)))\n",
    "sum(C$op_time)"
   ]
  },
  {
   "cell_type": "code",
   "execution_count": 44,
   "metadata": {},
   "outputs": [
    {
     "data": {
      "text/html": [
       "<table>\n",
       "<caption>A tibble: 6 × 2</caption>\n",
       "<thead>\n",
       "\t<tr><th scope=col>OPERATION_NUM</th><th scope=col>op_time</th></tr>\n",
       "\t<tr><th scope=col>&lt;fct&gt;</th><th scope=col>&lt;dbl&gt;</th></tr>\n",
       "</thead>\n",
       "<tbody>\n",
       "\t<tr><td>70 </td><td>785.39</td></tr>\n",
       "\t<tr><td>60 </td><td>367.65</td></tr>\n",
       "\t<tr><td>50 </td><td>308.07</td></tr>\n",
       "\t<tr><td>80 </td><td>202.49</td></tr>\n",
       "\t<tr><td>75 </td><td>148.89</td></tr>\n",
       "\t<tr><td>110</td><td>135.93</td></tr>\n",
       "</tbody>\n",
       "</table>\n"
      ],
      "text/latex": [
       "A tibble: 6 × 2\n",
       "\\begin{tabular}{ll}\n",
       " OPERATION\\_NUM & op\\_time\\\\\n",
       " <fct> & <dbl>\\\\\n",
       "\\hline\n",
       "\t 70  & 785.39\\\\\n",
       "\t 60  & 367.65\\\\\n",
       "\t 50  & 308.07\\\\\n",
       "\t 80  & 202.49\\\\\n",
       "\t 75  & 148.89\\\\\n",
       "\t 110 & 135.93\\\\\n",
       "\\end{tabular}\n"
      ],
      "text/markdown": [
       "\n",
       "A tibble: 6 × 2\n",
       "\n",
       "| OPERATION_NUM &lt;fct&gt; | op_time &lt;dbl&gt; |\n",
       "|---|---|\n",
       "| 70  | 785.39 |\n",
       "| 60  | 367.65 |\n",
       "| 50  | 308.07 |\n",
       "| 80  | 202.49 |\n",
       "| 75  | 148.89 |\n",
       "| 110 | 135.93 |\n",
       "\n"
      ],
      "text/plain": [
       "  OPERATION_NUM op_time\n",
       "1 70            785.39 \n",
       "2 60            367.65 \n",
       "3 50            308.07 \n",
       "4 80            202.49 \n",
       "5 75            148.89 \n",
       "6 110           135.93 "
      ]
     },
     "metadata": {},
     "output_type": "display_data"
    },
    {
     "data": {
      "text/html": [
       "3650.34"
      ],
      "text/latex": [
       "3650.34"
      ],
      "text/markdown": [
       "3650.34"
      ],
      "text/plain": [
       "[1] 3650.34"
      ]
     },
     "metadata": {},
     "output_type": "display_data"
    }
   ],
   "source": [
    "k19op141 <- group_by(k19part141,OPERATION_NUM)\n",
    "C <- arrange(summarise(k19op141,op_time = sum(HRS_part)),op_time)\n",
    "head(arrange(C,desc(op_time)))\n",
    "sum(C$op_time)"
   ]
  },
  {
   "cell_type": "code",
   "execution_count": 45,
   "metadata": {},
   "outputs": [],
   "source": [
    "k17op70 <- k_17[k_17$OPERATION_NUM == '70',]\n",
    "k18op70 <- k_18[k_18$OPERATION_NUM == '70',]\n",
    "k19op70 <- k_19[k_19$OPERATION_NUM == '70',]"
   ]
  },
  {
   "cell_type": "code",
   "execution_count": 46,
   "metadata": {},
   "outputs": [
    {
     "data": {
      "text/html": [
       "<table>\n",
       "<caption>A tibble: 6 × 2</caption>\n",
       "<thead>\n",
       "\t<tr><th scope=col>ROUTING_GROUP_ID</th><th scope=col>part_time</th></tr>\n",
       "\t<tr><th scope=col>&lt;fct&gt;</th><th scope=col>&lt;dbl&gt;</th></tr>\n",
       "</thead>\n",
       "<tbody>\n",
       "\t<tr><td>141 </td><td>1889.5500</td></tr>\n",
       "\t<tr><td>2381</td><td> 683.4200</td></tr>\n",
       "\t<tr><td>2396</td><td> 576.2417</td></tr>\n",
       "\t<tr><td>1208</td><td> 545.5900</td></tr>\n",
       "\t<tr><td>1216</td><td> 333.7100</td></tr>\n",
       "\t<tr><td>728 </td><td> 325.4500</td></tr>\n",
       "</tbody>\n",
       "</table>\n"
      ],
      "text/latex": [
       "A tibble: 6 × 2\n",
       "\\begin{tabular}{ll}\n",
       " ROUTING\\_GROUP\\_ID & part\\_time\\\\\n",
       " <fct> & <dbl>\\\\\n",
       "\\hline\n",
       "\t 141  & 1889.5500\\\\\n",
       "\t 2381 &  683.4200\\\\\n",
       "\t 2396 &  576.2417\\\\\n",
       "\t 1208 &  545.5900\\\\\n",
       "\t 1216 &  333.7100\\\\\n",
       "\t 728  &  325.4500\\\\\n",
       "\\end{tabular}\n"
      ],
      "text/markdown": [
       "\n",
       "A tibble: 6 × 2\n",
       "\n",
       "| ROUTING_GROUP_ID &lt;fct&gt; | part_time &lt;dbl&gt; |\n",
       "|---|---|\n",
       "| 141  | 1889.5500 |\n",
       "| 2381 |  683.4200 |\n",
       "| 2396 |  576.2417 |\n",
       "| 1208 |  545.5900 |\n",
       "| 1216 |  333.7100 |\n",
       "| 728  |  325.4500 |\n",
       "\n"
      ],
      "text/plain": [
       "  ROUTING_GROUP_ID part_time\n",
       "1 141              1889.5500\n",
       "2 2381              683.4200\n",
       "3 2396              576.2417\n",
       "4 1208              545.5900\n",
       "5 1216              333.7100\n",
       "6 728               325.4500"
      ]
     },
     "metadata": {},
     "output_type": "display_data"
    },
    {
     "data": {
      "text/html": [
       "11955.6005387286"
      ],
      "text/latex": [
       "11955.6005387286"
      ],
      "text/markdown": [
       "11955.6005387286"
      ],
      "text/plain": [
       "[1] 11955.6"
      ]
     },
     "metadata": {},
     "output_type": "display_data"
    }
   ],
   "source": [
    "k17part <- group_by(k17op70,ROUTING_GROUP_ID)\n",
    "C <- arrange(summarise(k17part,part_time = sum(HRS_part)),part_time)\n",
    "head(arrange(C,desc(part_time)))\n",
    "sum(C$part_time)"
   ]
  },
  {
   "cell_type": "code",
   "execution_count": 65,
   "metadata": {},
   "outputs": [
    {
     "data": {
      "text/html": [
       "<table>\n",
       "<caption>A tibble: 6 × 2</caption>\n",
       "<thead>\n",
       "\t<tr><th scope=col>ROUTING_GROUP_ID</th><th scope=col>part_time</th></tr>\n",
       "\t<tr><th scope=col>&lt;fct&gt;</th><th scope=col>&lt;dbl&gt;</th></tr>\n",
       "</thead>\n",
       "<tbody>\n",
       "\t<tr><td>728 </td><td>1581.97</td></tr>\n",
       "\t<tr><td>141 </td><td> 973.45</td></tr>\n",
       "\t<tr><td>2381</td><td> 697.15</td></tr>\n",
       "\t<tr><td>4870</td><td> 682.93</td></tr>\n",
       "\t<tr><td>1247</td><td> 528.89</td></tr>\n",
       "\t<tr><td>729 </td><td> 522.85</td></tr>\n",
       "</tbody>\n",
       "</table>\n"
      ],
      "text/latex": [
       "A tibble: 6 × 2\n",
       "\\begin{tabular}{ll}\n",
       " ROUTING\\_GROUP\\_ID & part\\_time\\\\\n",
       " <fct> & <dbl>\\\\\n",
       "\\hline\n",
       "\t 728  & 1581.97\\\\\n",
       "\t 141  &  973.45\\\\\n",
       "\t 2381 &  697.15\\\\\n",
       "\t 4870 &  682.93\\\\\n",
       "\t 1247 &  528.89\\\\\n",
       "\t 729  &  522.85\\\\\n",
       "\\end{tabular}\n"
      ],
      "text/markdown": [
       "\n",
       "A tibble: 6 × 2\n",
       "\n",
       "| ROUTING_GROUP_ID &lt;fct&gt; | part_time &lt;dbl&gt; |\n",
       "|---|---|\n",
       "| 728  | 1581.97 |\n",
       "| 141  |  973.45 |\n",
       "| 2381 |  697.15 |\n",
       "| 4870 |  682.93 |\n",
       "| 1247 |  528.89 |\n",
       "| 729  |  522.85 |\n",
       "\n"
      ],
      "text/plain": [
       "  ROUTING_GROUP_ID part_time\n",
       "1 728              1581.97  \n",
       "2 141               973.45  \n",
       "3 2381              697.15  \n",
       "4 4870              682.93  \n",
       "5 1247              528.89  \n",
       "6 729               522.85  "
      ]
     },
     "metadata": {},
     "output_type": "display_data"
    },
    {
     "data": {
      "text/html": [
       "15944.2859441693"
      ],
      "text/latex": [
       "15944.2859441693"
      ],
      "text/markdown": [
       "15944.2859441693"
      ],
      "text/plain": [
       "[1] 15944.29"
      ]
     },
     "metadata": {},
     "output_type": "display_data"
    },
    {
     "data": {
      "text/html": [
       "<table>\n",
       "<caption>A tibble: 1 × 2</caption>\n",
       "<thead>\n",
       "\t<tr><th scope=col>ROUTING_GROUP_ID</th><th scope=col>part_time</th></tr>\n",
       "\t<tr><th scope=col>&lt;fct&gt;</th><th scope=col>&lt;dbl&gt;</th></tr>\n",
       "</thead>\n",
       "<tbody>\n",
       "\t<tr><td>2396</td><td>288.345</td></tr>\n",
       "</tbody>\n",
       "</table>\n"
      ],
      "text/latex": [
       "A tibble: 1 × 2\n",
       "\\begin{tabular}{ll}\n",
       " ROUTING\\_GROUP\\_ID & part\\_time\\\\\n",
       " <fct> & <dbl>\\\\\n",
       "\\hline\n",
       "\t 2396 & 288.345\\\\\n",
       "\\end{tabular}\n"
      ],
      "text/markdown": [
       "\n",
       "A tibble: 1 × 2\n",
       "\n",
       "| ROUTING_GROUP_ID &lt;fct&gt; | part_time &lt;dbl&gt; |\n",
       "|---|---|\n",
       "| 2396 | 288.345 |\n",
       "\n"
      ],
      "text/plain": [
       "  ROUTING_GROUP_ID part_time\n",
       "1 2396             288.345  "
      ]
     },
     "metadata": {},
     "output_type": "display_data"
    }
   ],
   "source": [
    "k18part <- group_by(k18op70,ROUTING_GROUP_ID)\n",
    "C <- arrange(summarise(k18part,part_time = sum(HRS_part)),part_time)\n",
    "head(arrange(C,desc(part_time)))\n",
    "sum(C$part_time)\n",
    "C[C$ROUTING_GROUP_ID == '2396',]"
   ]
  },
  {
   "cell_type": "code",
   "execution_count": 66,
   "metadata": {},
   "outputs": [
    {
     "data": {
      "text/html": [
       "<table>\n",
       "<caption>A tibble: 6 × 2</caption>\n",
       "<thead>\n",
       "\t<tr><th scope=col>ROUTING_GROUP_ID</th><th scope=col>part_time</th></tr>\n",
       "\t<tr><th scope=col>&lt;fct&gt;</th><th scope=col>&lt;dbl&gt;</th></tr>\n",
       "</thead>\n",
       "<tbody>\n",
       "\t<tr><td>728 </td><td>2764.74</td></tr>\n",
       "\t<tr><td>4870</td><td>1256.69</td></tr>\n",
       "\t<tr><td>141 </td><td> 785.39</td></tr>\n",
       "\t<tr><td>1247</td><td> 729.80</td></tr>\n",
       "\t<tr><td>729 </td><td> 673.31</td></tr>\n",
       "\t<tr><td>2381</td><td> 658.51</td></tr>\n",
       "</tbody>\n",
       "</table>\n"
      ],
      "text/latex": [
       "A tibble: 6 × 2\n",
       "\\begin{tabular}{ll}\n",
       " ROUTING\\_GROUP\\_ID & part\\_time\\\\\n",
       " <fct> & <dbl>\\\\\n",
       "\\hline\n",
       "\t 728  & 2764.74\\\\\n",
       "\t 4870 & 1256.69\\\\\n",
       "\t 141  &  785.39\\\\\n",
       "\t 1247 &  729.80\\\\\n",
       "\t 729  &  673.31\\\\\n",
       "\t 2381 &  658.51\\\\\n",
       "\\end{tabular}\n"
      ],
      "text/markdown": [
       "\n",
       "A tibble: 6 × 2\n",
       "\n",
       "| ROUTING_GROUP_ID &lt;fct&gt; | part_time &lt;dbl&gt; |\n",
       "|---|---|\n",
       "| 728  | 2764.74 |\n",
       "| 4870 | 1256.69 |\n",
       "| 141  |  785.39 |\n",
       "| 1247 |  729.80 |\n",
       "| 729  |  673.31 |\n",
       "| 2381 |  658.51 |\n",
       "\n"
      ],
      "text/plain": [
       "  ROUTING_GROUP_ID part_time\n",
       "1 728              2764.74  \n",
       "2 4870             1256.69  \n",
       "3 141               785.39  \n",
       "4 1247              729.80  \n",
       "5 729               673.31  \n",
       "6 2381              658.51  "
      ]
     },
     "metadata": {},
     "output_type": "display_data"
    },
    {
     "data": {
      "text/html": [
       "19159.4020246206"
      ],
      "text/latex": [
       "19159.4020246206"
      ],
      "text/markdown": [
       "19159.4020246206"
      ],
      "text/plain": [
       "[1] 19159.4"
      ]
     },
     "metadata": {},
     "output_type": "display_data"
    },
    {
     "data": {
      "text/html": [
       "<table>\n",
       "<caption>A tibble: 1 × 2</caption>\n",
       "<thead>\n",
       "\t<tr><th scope=col>ROUTING_GROUP_ID</th><th scope=col>part_time</th></tr>\n",
       "\t<tr><th scope=col>&lt;fct&gt;</th><th scope=col>&lt;dbl&gt;</th></tr>\n",
       "</thead>\n",
       "<tbody>\n",
       "\t<tr><td>2396</td><td>299.8794</td></tr>\n",
       "</tbody>\n",
       "</table>\n"
      ],
      "text/latex": [
       "A tibble: 1 × 2\n",
       "\\begin{tabular}{ll}\n",
       " ROUTING\\_GROUP\\_ID & part\\_time\\\\\n",
       " <fct> & <dbl>\\\\\n",
       "\\hline\n",
       "\t 2396 & 299.8794\\\\\n",
       "\\end{tabular}\n"
      ],
      "text/markdown": [
       "\n",
       "A tibble: 1 × 2\n",
       "\n",
       "| ROUTING_GROUP_ID &lt;fct&gt; | part_time &lt;dbl&gt; |\n",
       "|---|---|\n",
       "| 2396 | 299.8794 |\n",
       "\n"
      ],
      "text/plain": [
       "  ROUTING_GROUP_ID part_time\n",
       "1 2396             299.8794 "
      ]
     },
     "metadata": {},
     "output_type": "display_data"
    }
   ],
   "source": [
    "k19part <- group_by(k19op70,ROUTING_GROUP_ID)\n",
    "C <- arrange(summarise(k19part,part_time = sum(HRS_part)),part_time)\n",
    "head(arrange(C,desc(part_time)))\n",
    "sum(C$part_time)\n",
    "C[C$ROUTING_GROUP_ID == '2396',]"
   ]
  },
  {
   "cell_type": "code",
   "execution_count": 55,
   "metadata": {},
   "outputs": [
    {
     "data": {
      "text/html": [
       "13.9423844282238"
      ],
      "text/latex": [
       "13.9423844282238"
      ],
      "text/markdown": [
       "13.9423844282238"
      ],
      "text/plain": [
       "[1] 13.94238"
      ]
     },
     "metadata": {},
     "output_type": "display_data"
    },
    {
     "data": {
      "text/html": [
       "20.8915713738057"
      ],
      "text/latex": [
       "20.8915713738057"
      ],
      "text/markdown": [
       "20.8915713738057"
      ],
      "text/plain": [
       "[1] 20.89157"
      ]
     },
     "metadata": {},
     "output_type": "display_data"
    }
   ],
   "source": [
    "k19part4870 <- k_19[k_19$ROUTING_GROUP_ID == '4870',]\n",
    "part4870 <- group_by(k19part4870,WORK_ORDER)\n",
    "B<- arrange(summarise(part4870,cycle_time = sum(HRS_part)),cycle_time)\n",
    "(mean_4870 <- sum(B$cycle_time)/dim(B)[1])\n",
    "(variance_4870 <- var(B$cycle_time))"
   ]
  },
  {
   "cell_type": "code",
   "execution_count": 56,
   "metadata": {},
   "outputs": [
    {
     "data": {
      "text/html": [
       "9.82167953667954"
      ],
      "text/latex": [
       "9.82167953667954"
      ],
      "text/markdown": [
       "9.82167953667954"
      ],
      "text/plain": [
       "[1] 9.82168"
      ]
     },
     "metadata": {},
     "output_type": "display_data"
    },
    {
     "data": {
      "text/html": [
       "13.5957056843387"
      ],
      "text/latex": [
       "13.5957056843387"
      ],
      "text/markdown": [
       "13.5957056843387"
      ],
      "text/plain": [
       "[1] 13.59571"
      ]
     },
     "metadata": {},
     "output_type": "display_data"
    }
   ],
   "source": [
    "k17part2381 <- k_17[k_17$ROUTING_GROUP_ID == '2381',]\n",
    "part2381 <- group_by(k17part2381,WORK_ORDER)\n",
    "B<- arrange(summarise(part2381,cycle_time = sum(HRS_part)),cycle_time)\n",
    "(mean_2381 <- sum(B$cycle_time)/dim(B)[1])\n",
    "(variance_2381 <- var(B$cycle_time))"
   ]
  },
  {
   "cell_type": "code",
   "execution_count": 57,
   "metadata": {},
   "outputs": [
    {
     "data": {
      "text/html": [
       "12.9269062181448"
      ],
      "text/latex": [
       "12.9269062181448"
      ],
      "text/markdown": [
       "12.9269062181448"
      ],
      "text/plain": [
       "[1] 12.92691"
      ]
     },
     "metadata": {},
     "output_type": "display_data"
    },
    {
     "data": {
      "text/html": [
       "70.5057348521187"
      ],
      "text/latex": [
       "70.5057348521187"
      ],
      "text/markdown": [
       "70.5057348521187"
      ],
      "text/plain": [
       "[1] 70.50573"
      ]
     },
     "metadata": {},
     "output_type": "display_data"
    }
   ],
   "source": [
    "k17part2396 <- k_17[k_17$ROUTING_GROUP_ID == '2396',]\n",
    "part2396 <- group_by(k17part2396,WORK_ORDER)\n",
    "B<- arrange(summarise(part2396,cycle_time = sum(HRS_part)),cycle_time)\n",
    "(mean_2396 <- sum(B$cycle_time)/dim(B)[1])\n",
    "(variance_2396 <- var(B$cycle_time))"
   ]
  },
  {
   "cell_type": "code",
   "execution_count": 58,
   "metadata": {},
   "outputs": [
    {
     "data": {
      "text/html": [
       "6.00167381974249"
      ],
      "text/latex": [
       "6.00167381974249"
      ],
      "text/markdown": [
       "6.00167381974249"
      ],
      "text/plain": [
       "[1] 6.001674"
      ]
     },
     "metadata": {},
     "output_type": "display_data"
    },
    {
     "data": {
      "text/html": [
       "9.68393748797543"
      ],
      "text/latex": [
       "9.68393748797543"
      ],
      "text/markdown": [
       "9.68393748797543"
      ],
      "text/plain": [
       "[1] 9.683937"
      ]
     },
     "metadata": {},
     "output_type": "display_data"
    }
   ],
   "source": [
    "k18part2396 <- k_18[k_18$ROUTING_GROUP_ID == '2396',]\n",
    "part2396 <- group_by(k18part2396,WORK_ORDER)\n",
    "B<- arrange(summarise(part2396,cycle_time = sum(HRS_part)),cycle_time)\n",
    "(mean_2396 <- sum(B$cycle_time)/dim(B)[1])\n",
    "(variance_2396 <- var(B$cycle_time))"
   ]
  },
  {
   "cell_type": "code",
   "execution_count": 61,
   "metadata": {},
   "outputs": [
    {
     "data": {
      "text/html": [
       "5.32546296296296"
      ],
      "text/latex": [
       "5.32546296296296"
      ],
      "text/markdown": [
       "5.32546296296296"
      ],
      "text/plain": [
       "[1] 5.325463"
      ]
     },
     "metadata": {},
     "output_type": "display_data"
    },
    {
     "data": {
      "text/html": [
       "9.47857794471981"
      ],
      "text/latex": [
       "9.47857794471981"
      ],
      "text/markdown": [
       "9.47857794471981"
      ],
      "text/plain": [
       "[1] 9.478578"
      ]
     },
     "metadata": {},
     "output_type": "display_data"
    }
   ],
   "source": [
    "k19part2396 <- k_19[k_19$ROUTING_GROUP_ID == '2396',]\n",
    "part2396 <- group_by(k19part2396,WORK_ORDER)\n",
    "B<- arrange(summarise(part2396,cycle_time = sum(HRS_part)),cycle_time)\n",
    "(mean_2396 <- sum(B$cycle_time)/dim(B)[1])\n",
    "(variance_2396 <- var(B$cycle_time))"
   ]
  },
  {
   "cell_type": "code",
   "execution_count": null,
   "metadata": {},
   "outputs": [],
   "source": []
  }
 ],
 "metadata": {
  "kernelspec": {
   "display_name": "R",
   "language": "R",
   "name": "ir"
  },
  "language_info": {
   "codemirror_mode": "r",
   "file_extension": ".r",
   "mimetype": "text/x-r-source",
   "name": "R",
   "pygments_lexer": "r",
   "version": "3.6.1"
  }
 },
 "nbformat": 4,
 "nbformat_minor": 2
}
